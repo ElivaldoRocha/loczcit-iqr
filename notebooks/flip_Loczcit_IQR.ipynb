{
 "cells": [
  {
   "cell_type": "markdown",
   "id": "148645fa",
   "metadata": {},
   "source": [
    "# GIF das 73 Pentadas do Ano"
   ]
  },
  {
   "cell_type": "code",
   "execution_count": 2,
   "id": "193b3771",
   "metadata": {},
   "outputs": [
    {
     "name": "stdout",
     "output_type": "stream",
     "text": [
      "2025-10-17 15:09:13,270 - loczcit_iqr.core.data_loader_era5 - INFO - Cliente CDS inicializado com credenciais fornecidas\n",
      "2025-10-17 15:09:13,271 - loczcit_iqr.core.data_loader_era5 - INFO - ERA5DataLoader inicializado (cache: era5_cache)\n",
      "2025-10-17 15:09:13,274 - loczcit_iqr.core.processor - INFO - Arquivo padrão da área de estudo encontrado: E:\\ambiente_python_2025-main\\src\\data\\shapefiles\\Area_LOCZCIT.parquet\n",
      "2025-10-17 15:09:13,275 - loczcit_iqr.core.iqr_detector - INFO - IQRDetector inicializado com constante: 0.75\n",
      "2025-10-17 15:09:13,276 - loczcit_iqr.core.spline_interpolator - INFO - SplineInterpolator inicializado: método='bspline', lat_ref=0.00°\n",
      "Carregando dados ERA5 para o ano 2024...\n",
      "2025-10-17 15:09:13,277 - loczcit_iqr.core.data_loader_era5 - INFO - Carregando dados ERA5: 2024-01-01 a 2024-12-31\n",
      "2025-10-17 15:09:13,278 - loczcit_iqr.core.data_loader_era5 - INFO - Usando arquivo do cache: era5_cache\\era5_olr_noaa_format_20240101_20241231_area_17.00_-80.00_-12.00_4.00.nc\n",
      "2025-10-17 15:09:13,288 - loczcit_iqr.core.data_loader_era5 - INFO - Dados carregados do cache com sucesso\n",
      "Criando pentadas...\n",
      "2025-10-17 15:09:13,294 - loczcit_iqr.core.processor - INFO - Criando pentadas para 2024 (método: mean, remover bissextos: True)\n",
      "2025-10-17 15:09:13,479 - loczcit_iqr.core.processor - INFO - Pentadas para 2024 criadas com sucesso\n",
      "\n",
      "🎬 Iniciando processamento das 73 pentadas...\n"
     ]
    },
    {
     "name": "stderr",
     "output_type": "stream",
     "text": [
      "Processando pentadas:   0%|          | 0/73 [00:00<?, ?it/s]"
     ]
    },
    {
     "name": "stdout",
     "output_type": "stream",
     "text": [
      "2025-10-17 15:09:13,482 - loczcit_iqr.core.processor - INFO - Buscando mínimos de OLR (método: column_minimum, threshold: None, raio: 1px)\n",
      "2025-10-17 15:09:13,483 - loczcit_iqr.core.processor - INFO - Carregando área de estudo de: E:\\ambiente_python_2025-main\\src\\data\\shapefiles\\Area_LOCZCIT.parquet\n",
      "2025-10-17 15:09:13,500 - loczcit_iqr.core.processor - INFO - Encontradas 16 coordenadas de mínimo\n",
      "2025-10-17 15:09:13,501 - loczcit_iqr.core.iqr_detector - INFO - Detectando outliers em 16 coordenadas (analisando latitude)\n",
      "2025-10-17 15:09:13,501 - loczcit_iqr.core.iqr_detector - INFO - Detecção concluída: 15 válidas, 1 outliers\n",
      "2025-10-17 15:09:13,502 - loczcit_iqr.core.processor - INFO - Buscando mínimos de OLR (método: local_minimum, threshold: 230, raio: 1px)\n",
      "2025-10-17 15:09:13,503 - loczcit_iqr.core.processor - INFO - Aplicando threshold OLR <= 230 W/m²\n",
      "2025-10-17 15:09:13,503 - loczcit_iqr.core.processor - INFO - Carregando área de estudo de: E:\\ambiente_python_2025-main\\src\\data\\shapefiles\\Area_LOCZCIT.parquet\n",
      "2025-10-17 15:09:13,519 - loczcit_iqr.core.processor - INFO - Encontradas 2 coordenadas de mínimo\n",
      "2025-10-17 15:09:13,519 - loczcit_iqr.core.spline_interpolator - INFO - Interpolando 15 coordenadas: método=bspline, pontos_saída=100\n",
      "2025-10-17 15:09:13,522 - loczcit_iqr.core.processor - INFO - Buscando mínimos de OLR (método: column_minimum, threshold: None, raio: 1px)\n",
      "2025-10-17 15:09:13,523 - loczcit_iqr.core.processor - INFO - Carregando área de estudo de: E:\\ambiente_python_2025-main\\src\\data\\shapefiles\\Area_LOCZCIT.parquet\n",
      "2025-10-17 15:09:13,541 - loczcit_iqr.core.processor - INFO - Encontradas 16 coordenadas de mínimo\n",
      "2025-10-17 15:09:13,541 - loczcit_iqr.core.iqr_detector - INFO - Detectando outliers em 16 coordenadas (analisando latitude)\n",
      "2025-10-17 15:09:13,542 - loczcit_iqr.core.iqr_detector - INFO - Detecção concluída: 16 válidas, 0 outliers\n",
      "2025-10-17 15:09:13,543 - loczcit_iqr.core.processor - INFO - Buscando mínimos de OLR (método: local_minimum, threshold: 230, raio: 1px)\n",
      "2025-10-17 15:09:13,544 - loczcit_iqr.core.processor - INFO - Aplicando threshold OLR <= 230 W/m²\n",
      "2025-10-17 15:09:13,544 - loczcit_iqr.core.processor - INFO - Carregando área de estudo de: E:\\ambiente_python_2025-main\\src\\data\\shapefiles\\Area_LOCZCIT.parquet\n",
      "2025-10-17 15:09:13,559 - loczcit_iqr.core.processor - INFO - Encontradas 7 coordenadas de mínimo\n",
      "2025-10-17 15:09:13,560 - loczcit_iqr.core.spline_interpolator - INFO - Interpolando 16 coordenadas: método=bspline, pontos_saída=100\n",
      "2025-10-17 15:09:13,562 - loczcit_iqr.core.processor - INFO - Buscando mínimos de OLR (método: column_minimum, threshold: None, raio: 1px)\n",
      "2025-10-17 15:09:13,563 - loczcit_iqr.core.processor - INFO - Carregando área de estudo de: E:\\ambiente_python_2025-main\\src\\data\\shapefiles\\Area_LOCZCIT.parquet\n",
      "2025-10-17 15:09:13,580 - loczcit_iqr.core.processor - INFO - Encontradas 16 coordenadas de mínimo\n",
      "2025-10-17 15:09:13,580 - loczcit_iqr.core.iqr_detector - INFO - Detectando outliers em 16 coordenadas (analisando latitude)\n",
      "2025-10-17 15:09:13,581 - loczcit_iqr.core.iqr_detector - INFO - Detecção concluída: 11 válidas, 5 outliers\n",
      "2025-10-17 15:09:13,581 - loczcit_iqr.core.processor - INFO - Buscando mínimos de OLR (método: local_minimum, threshold: 230, raio: 1px)\n",
      "2025-10-17 15:09:13,582 - loczcit_iqr.core.processor - INFO - Aplicando threshold OLR <= 230 W/m²\n",
      "2025-10-17 15:09:13,583 - loczcit_iqr.core.processor - INFO - Carregando área de estudo de: E:\\ambiente_python_2025-main\\src\\data\\shapefiles\\Area_LOCZCIT.parquet\n",
      "2025-10-17 15:09:13,598 - loczcit_iqr.core.processor - INFO - Encontradas 23 coordenadas de mínimo\n",
      "2025-10-17 15:09:13,599 - loczcit_iqr.core.spline_interpolator - INFO - Interpolando 11 coordenadas: método=bspline, pontos_saída=100\n"
     ]
    },
    {
     "name": "stderr",
     "output_type": "stream",
     "text": [
      "Processando pentadas:   4%|▍         | 3/73 [00:00<00:02, 25.11it/s]"
     ]
    },
    {
     "name": "stdout",
     "output_type": "stream",
     "text": [
      "2025-10-17 15:09:13,602 - loczcit_iqr.core.processor - INFO - Buscando mínimos de OLR (método: column_minimum, threshold: None, raio: 1px)\n",
      "2025-10-17 15:09:13,602 - loczcit_iqr.core.processor - INFO - Carregando área de estudo de: E:\\ambiente_python_2025-main\\src\\data\\shapefiles\\Area_LOCZCIT.parquet\n",
      "2025-10-17 15:09:13,620 - loczcit_iqr.core.processor - INFO - Encontradas 8 coordenadas de mínimo\n",
      "2025-10-17 15:09:13,620 - loczcit_iqr.core.iqr_detector - INFO - Detectando outliers em 8 coordenadas (analisando latitude)\n",
      "2025-10-17 15:09:13,621 - loczcit_iqr.core.iqr_detector - INFO - Detecção concluída: 8 válidas, 0 outliers\n",
      "2025-10-17 15:09:13,622 - loczcit_iqr.core.processor - INFO - Buscando mínimos de OLR (método: local_minimum, threshold: 230, raio: 1px)\n",
      "2025-10-17 15:09:13,623 - loczcit_iqr.core.processor - INFO - Aplicando threshold OLR <= 230 W/m²\n",
      "2025-10-17 15:09:13,623 - loczcit_iqr.core.processor - INFO - Carregando área de estudo de: E:\\ambiente_python_2025-main\\src\\data\\shapefiles\\Area_LOCZCIT.parquet\n",
      "2025-10-17 15:09:13,639 - loczcit_iqr.core.processor - INFO - Encontradas 2 coordenadas de mínimo\n",
      "2025-10-17 15:09:13,640 - loczcit_iqr.core.spline_interpolator - INFO - Interpolando 8 coordenadas: método=bspline, pontos_saída=100\n",
      "2025-10-17 15:09:13,642 - loczcit_iqr.core.processor - INFO - Buscando mínimos de OLR (método: column_minimum, threshold: None, raio: 1px)\n",
      "2025-10-17 15:09:13,643 - loczcit_iqr.core.processor - INFO - Carregando área de estudo de: E:\\ambiente_python_2025-main\\src\\data\\shapefiles\\Area_LOCZCIT.parquet\n",
      "2025-10-17 15:09:13,661 - loczcit_iqr.core.processor - INFO - Encontradas 16 coordenadas de mínimo\n",
      "2025-10-17 15:09:13,661 - loczcit_iqr.core.iqr_detector - INFO - Detectando outliers em 16 coordenadas (analisando latitude)\n",
      "2025-10-17 15:09:13,662 - loczcit_iqr.core.iqr_detector - INFO - Detecção concluída: 13 válidas, 3 outliers\n",
      "2025-10-17 15:09:13,663 - loczcit_iqr.core.processor - INFO - Buscando mínimos de OLR (método: local_minimum, threshold: 230, raio: 1px)\n",
      "2025-10-17 15:09:13,663 - loczcit_iqr.core.processor - INFO - Aplicando threshold OLR <= 230 W/m²\n",
      "2025-10-17 15:09:13,664 - loczcit_iqr.core.processor - INFO - Carregando área de estudo de: E:\\ambiente_python_2025-main\\src\\data\\shapefiles\\Area_LOCZCIT.parquet\n",
      "2025-10-17 15:09:13,678 - loczcit_iqr.core.processor - INFO - Encontradas 0 coordenadas de mínimo\n",
      "2025-10-17 15:09:13,679 - loczcit_iqr.core.spline_interpolator - INFO - Interpolando 13 coordenadas: método=bspline, pontos_saída=100\n",
      "2025-10-17 15:09:13,680 - loczcit_iqr.core.spline_interpolator - WARNING - Detectados 1 gaps grandes (>5.0x mediana=1.75°)\n",
      "2025-10-17 15:09:13,682 - loczcit_iqr.core.processor - INFO - Buscando mínimos de OLR (método: column_minimum, threshold: None, raio: 1px)\n",
      "2025-10-17 15:09:13,682 - loczcit_iqr.core.processor - INFO - Carregando área de estudo de: E:\\ambiente_python_2025-main\\src\\data\\shapefiles\\Area_LOCZCIT.parquet\n",
      "2025-10-17 15:09:13,699 - loczcit_iqr.core.processor - INFO - Encontradas 10 coordenadas de mínimo\n",
      "2025-10-17 15:09:13,700 - loczcit_iqr.core.iqr_detector - INFO - Detectando outliers em 10 coordenadas (analisando latitude)\n",
      "2025-10-17 15:09:13,700 - loczcit_iqr.core.iqr_detector - INFO - Detecção concluída: 8 válidas, 2 outliers\n",
      "2025-10-17 15:09:13,701 - loczcit_iqr.core.processor - INFO - Buscando mínimos de OLR (método: local_minimum, threshold: 230, raio: 1px)\n",
      "2025-10-17 15:09:13,701 - loczcit_iqr.core.processor - INFO - Aplicando threshold OLR <= 230 W/m²\n",
      "2025-10-17 15:09:13,702 - loczcit_iqr.core.processor - INFO - Carregando área de estudo de: E:\\ambiente_python_2025-main\\src\\data\\shapefiles\\Area_LOCZCIT.parquet\n",
      "2025-10-17 15:09:13,717 - loczcit_iqr.core.processor - INFO - Encontradas 2 coordenadas de mínimo\n",
      "2025-10-17 15:09:13,718 - loczcit_iqr.core.spline_interpolator - INFO - Interpolando 8 coordenadas: método=bspline, pontos_saída=100\n"
     ]
    },
    {
     "name": "stderr",
     "output_type": "stream",
     "text": [
      "Processando pentadas:   8%|▊         | 6/73 [00:00<00:02, 25.15it/s]"
     ]
    },
    {
     "name": "stdout",
     "output_type": "stream",
     "text": [
      "2025-10-17 15:09:13,721 - loczcit_iqr.core.processor - INFO - Buscando mínimos de OLR (método: column_minimum, threshold: None, raio: 1px)\n",
      "2025-10-17 15:09:13,722 - loczcit_iqr.core.processor - INFO - Carregando área de estudo de: E:\\ambiente_python_2025-main\\src\\data\\shapefiles\\Area_LOCZCIT.parquet\n",
      "2025-10-17 15:09:13,740 - loczcit_iqr.core.processor - INFO - Encontradas 19 coordenadas de mínimo\n",
      "2025-10-17 15:09:13,741 - loczcit_iqr.core.iqr_detector - INFO - Detectando outliers em 19 coordenadas (analisando latitude)\n",
      "2025-10-17 15:09:13,742 - loczcit_iqr.core.iqr_detector - INFO - Detecção concluída: 19 válidas, 0 outliers\n",
      "2025-10-17 15:09:13,742 - loczcit_iqr.core.processor - INFO - Buscando mínimos de OLR (método: local_minimum, threshold: 230, raio: 1px)\n",
      "2025-10-17 15:09:13,743 - loczcit_iqr.core.processor - INFO - Aplicando threshold OLR <= 230 W/m²\n",
      "2025-10-17 15:09:13,743 - loczcit_iqr.core.processor - INFO - Carregando área de estudo de: E:\\ambiente_python_2025-main\\src\\data\\shapefiles\\Area_LOCZCIT.parquet\n",
      "2025-10-17 15:09:13,760 - loczcit_iqr.core.processor - INFO - Encontradas 0 coordenadas de mínimo\n",
      "2025-10-17 15:09:13,760 - loczcit_iqr.core.spline_interpolator - INFO - Interpolando 19 coordenadas: método=bspline, pontos_saída=100\n",
      "2025-10-17 15:09:13,761 - loczcit_iqr.core.spline_interpolator - WARNING - Detectados 1 gaps grandes (>5.0x mediana=1.25°)\n",
      "2025-10-17 15:09:13,763 - loczcit_iqr.core.processor - INFO - Buscando mínimos de OLR (método: column_minimum, threshold: None, raio: 1px)\n",
      "2025-10-17 15:09:13,764 - loczcit_iqr.core.processor - INFO - Carregando área de estudo de: E:\\ambiente_python_2025-main\\src\\data\\shapefiles\\Area_LOCZCIT.parquet\n",
      "2025-10-17 15:09:13,780 - loczcit_iqr.core.processor - INFO - Encontradas 20 coordenadas de mínimo\n",
      "2025-10-17 15:09:13,781 - loczcit_iqr.core.iqr_detector - INFO - Detectando outliers em 20 coordenadas (analisando latitude)\n",
      "2025-10-17 15:09:13,782 - loczcit_iqr.core.iqr_detector - INFO - Detecção concluída: 20 válidas, 0 outliers\n",
      "2025-10-17 15:09:13,782 - loczcit_iqr.core.processor - INFO - Buscando mínimos de OLR (método: local_minimum, threshold: 230, raio: 1px)\n",
      "2025-10-17 15:09:13,783 - loczcit_iqr.core.processor - INFO - Aplicando threshold OLR <= 230 W/m²\n",
      "2025-10-17 15:09:13,783 - loczcit_iqr.core.processor - INFO - Carregando área de estudo de: E:\\ambiente_python_2025-main\\src\\data\\shapefiles\\Area_LOCZCIT.parquet\n",
      "2025-10-17 15:09:13,798 - loczcit_iqr.core.processor - INFO - Encontradas 0 coordenadas de mínimo\n",
      "2025-10-17 15:09:13,799 - loczcit_iqr.core.spline_interpolator - INFO - Interpolando 20 coordenadas: método=bspline, pontos_saída=100\n",
      "2025-10-17 15:09:13,801 - loczcit_iqr.core.processor - INFO - Buscando mínimos de OLR (método: column_minimum, threshold: None, raio: 1px)\n",
      "2025-10-17 15:09:13,802 - loczcit_iqr.core.processor - INFO - Carregando área de estudo de: E:\\ambiente_python_2025-main\\src\\data\\shapefiles\\Area_LOCZCIT.parquet\n",
      "2025-10-17 15:09:13,818 - loczcit_iqr.core.processor - INFO - Encontradas 15 coordenadas de mínimo\n",
      "2025-10-17 15:09:13,818 - loczcit_iqr.core.iqr_detector - INFO - Detectando outliers em 15 coordenadas (analisando latitude)\n",
      "2025-10-17 15:09:13,819 - loczcit_iqr.core.iqr_detector - INFO - Detecção concluída: 14 válidas, 1 outliers\n",
      "2025-10-17 15:09:13,820 - loczcit_iqr.core.processor - INFO - Buscando mínimos de OLR (método: local_minimum, threshold: 230, raio: 1px)\n",
      "2025-10-17 15:09:13,821 - loczcit_iqr.core.processor - INFO - Aplicando threshold OLR <= 230 W/m²\n",
      "2025-10-17 15:09:13,821 - loczcit_iqr.core.processor - INFO - Carregando área de estudo de: E:\\ambiente_python_2025-main\\src\\data\\shapefiles\\Area_LOCZCIT.parquet\n",
      "2025-10-17 15:09:13,835 - loczcit_iqr.core.processor - INFO - Encontradas 2 coordenadas de mínimo\n",
      "2025-10-17 15:09:13,836 - loczcit_iqr.core.spline_interpolator - INFO - Interpolando 14 coordenadas: método=bspline, pontos_saída=100\n"
     ]
    },
    {
     "name": "stderr",
     "output_type": "stream",
     "text": [
      "Processando pentadas:  12%|█▏        | 9/73 [00:00<00:02, 25.29it/s]"
     ]
    },
    {
     "name": "stdout",
     "output_type": "stream",
     "text": [
      "2025-10-17 15:09:13,839 - loczcit_iqr.core.processor - INFO - Buscando mínimos de OLR (método: column_minimum, threshold: None, raio: 1px)\n",
      "2025-10-17 15:09:13,839 - loczcit_iqr.core.processor - INFO - Carregando área de estudo de: E:\\ambiente_python_2025-main\\src\\data\\shapefiles\\Area_LOCZCIT.parquet\n",
      "2025-10-17 15:09:13,855 - loczcit_iqr.core.processor - INFO - Encontradas 20 coordenadas de mínimo\n",
      "2025-10-17 15:09:13,856 - loczcit_iqr.core.iqr_detector - INFO - Detectando outliers em 20 coordenadas (analisando latitude)\n",
      "2025-10-17 15:09:13,857 - loczcit_iqr.core.iqr_detector - INFO - Detecção concluída: 20 válidas, 0 outliers\n",
      "2025-10-17 15:09:13,857 - loczcit_iqr.core.processor - INFO - Buscando mínimos de OLR (método: local_minimum, threshold: 230, raio: 1px)\n",
      "2025-10-17 15:09:13,858 - loczcit_iqr.core.processor - INFO - Aplicando threshold OLR <= 230 W/m²\n",
      "2025-10-17 15:09:13,859 - loczcit_iqr.core.processor - INFO - Carregando área de estudo de: E:\\ambiente_python_2025-main\\src\\data\\shapefiles\\Area_LOCZCIT.parquet\n",
      "2025-10-17 15:09:13,874 - loczcit_iqr.core.processor - INFO - Encontradas 3 coordenadas de mínimo\n",
      "2025-10-17 15:09:13,875 - loczcit_iqr.core.spline_interpolator - INFO - Interpolando 20 coordenadas: método=bspline, pontos_saída=100\n",
      "2025-10-17 15:09:13,878 - loczcit_iqr.core.processor - INFO - Buscando mínimos de OLR (método: column_minimum, threshold: None, raio: 1px)\n",
      "2025-10-17 15:09:13,878 - loczcit_iqr.core.processor - INFO - Carregando área de estudo de: E:\\ambiente_python_2025-main\\src\\data\\shapefiles\\Area_LOCZCIT.parquet\n",
      "2025-10-17 15:09:13,895 - loczcit_iqr.core.processor - INFO - Encontradas 15 coordenadas de mínimo\n",
      "2025-10-17 15:09:13,896 - loczcit_iqr.core.iqr_detector - INFO - Detectando outliers em 15 coordenadas (analisando latitude)\n",
      "2025-10-17 15:09:13,897 - loczcit_iqr.core.iqr_detector - INFO - Detecção concluída: 13 válidas, 2 outliers\n",
      "2025-10-17 15:09:13,897 - loczcit_iqr.core.processor - INFO - Buscando mínimos de OLR (método: local_minimum, threshold: 230, raio: 1px)\n",
      "2025-10-17 15:09:13,898 - loczcit_iqr.core.processor - INFO - Aplicando threshold OLR <= 230 W/m²\n",
      "2025-10-17 15:09:13,898 - loczcit_iqr.core.processor - INFO - Carregando área de estudo de: E:\\ambiente_python_2025-main\\src\\data\\shapefiles\\Area_LOCZCIT.parquet\n",
      "2025-10-17 15:09:13,913 - loczcit_iqr.core.processor - INFO - Encontradas 12 coordenadas de mínimo\n",
      "2025-10-17 15:09:13,914 - loczcit_iqr.core.spline_interpolator - INFO - Interpolando 13 coordenadas: método=bspline, pontos_saída=100\n",
      "2025-10-17 15:09:13,916 - loczcit_iqr.core.processor - INFO - Buscando mínimos de OLR (método: column_minimum, threshold: None, raio: 1px)\n",
      "2025-10-17 15:09:13,917 - loczcit_iqr.core.processor - INFO - Carregando área de estudo de: E:\\ambiente_python_2025-main\\src\\data\\shapefiles\\Area_LOCZCIT.parquet\n",
      "2025-10-17 15:09:13,934 - loczcit_iqr.core.processor - INFO - Encontradas 29 coordenadas de mínimo\n",
      "2025-10-17 15:09:13,934 - loczcit_iqr.core.iqr_detector - INFO - Detectando outliers em 29 coordenadas (analisando latitude)\n",
      "2025-10-17 15:09:13,935 - loczcit_iqr.core.iqr_detector - INFO - Detecção concluída: 22 válidas, 7 outliers\n",
      "2025-10-17 15:09:13,935 - loczcit_iqr.core.processor - INFO - Buscando mínimos de OLR (método: local_minimum, threshold: 230, raio: 1px)\n",
      "2025-10-17 15:09:13,936 - loczcit_iqr.core.processor - INFO - Aplicando threshold OLR <= 230 W/m²\n",
      "2025-10-17 15:09:13,937 - loczcit_iqr.core.processor - INFO - Carregando área de estudo de: E:\\ambiente_python_2025-main\\src\\data\\shapefiles\\Area_LOCZCIT.parquet\n",
      "2025-10-17 15:09:13,951 - loczcit_iqr.core.processor - INFO - Encontradas 18 coordenadas de mínimo\n",
      "2025-10-17 15:09:13,952 - loczcit_iqr.core.spline_interpolator - INFO - Interpolando 22 coordenadas: método=bspline, pontos_saída=100\n",
      "2025-10-17 15:09:13,953 - loczcit_iqr.core.spline_interpolator - WARNING - Detectados 2 gaps grandes (>5.0x mediana=0.75°)\n"
     ]
    },
    {
     "name": "stderr",
     "output_type": "stream",
     "text": [
      "Processando pentadas:  16%|█▋        | 12/73 [00:00<00:02, 25.44it/s]"
     ]
    },
    {
     "name": "stdout",
     "output_type": "stream",
     "text": [
      "2025-10-17 15:09:13,956 - loczcit_iqr.core.processor - INFO - Buscando mínimos de OLR (método: column_minimum, threshold: None, raio: 1px)\n",
      "2025-10-17 15:09:13,956 - loczcit_iqr.core.processor - INFO - Carregando área de estudo de: E:\\ambiente_python_2025-main\\src\\data\\shapefiles\\Area_LOCZCIT.parquet\n",
      "2025-10-17 15:09:13,974 - loczcit_iqr.core.processor - INFO - Encontradas 17 coordenadas de mínimo\n",
      "2025-10-17 15:09:13,975 - loczcit_iqr.core.iqr_detector - INFO - Detectando outliers em 17 coordenadas (analisando latitude)\n",
      "2025-10-17 15:09:13,976 - loczcit_iqr.core.iqr_detector - INFO - Detecção concluída: 15 válidas, 2 outliers\n",
      "2025-10-17 15:09:13,976 - loczcit_iqr.core.processor - INFO - Buscando mínimos de OLR (método: local_minimum, threshold: 230, raio: 1px)\n",
      "2025-10-17 15:09:13,977 - loczcit_iqr.core.processor - INFO - Aplicando threshold OLR <= 230 W/m²\n",
      "2025-10-17 15:09:13,978 - loczcit_iqr.core.processor - INFO - Carregando área de estudo de: E:\\ambiente_python_2025-main\\src\\data\\shapefiles\\Area_LOCZCIT.parquet\n",
      "2025-10-17 15:09:13,993 - loczcit_iqr.core.processor - INFO - Encontradas 11 coordenadas de mínimo\n",
      "2025-10-17 15:09:13,994 - loczcit_iqr.core.spline_interpolator - INFO - Interpolando 15 coordenadas: método=bspline, pontos_saída=100\n",
      "2025-10-17 15:09:13,996 - loczcit_iqr.core.processor - INFO - Buscando mínimos de OLR (método: column_minimum, threshold: None, raio: 1px)\n",
      "2025-10-17 15:09:13,997 - loczcit_iqr.core.processor - INFO - Carregando área de estudo de: E:\\ambiente_python_2025-main\\src\\data\\shapefiles\\Area_LOCZCIT.parquet\n",
      "2025-10-17 15:09:14,014 - loczcit_iqr.core.processor - INFO - Encontradas 21 coordenadas de mínimo\n",
      "2025-10-17 15:09:14,015 - loczcit_iqr.core.iqr_detector - INFO - Detectando outliers em 21 coordenadas (analisando latitude)\n",
      "2025-10-17 15:09:14,016 - loczcit_iqr.core.iqr_detector - INFO - Detecção concluída: 21 válidas, 0 outliers\n",
      "2025-10-17 15:09:14,016 - loczcit_iqr.core.processor - INFO - Buscando mínimos de OLR (método: local_minimum, threshold: 230, raio: 1px)\n",
      "2025-10-17 15:09:14,017 - loczcit_iqr.core.processor - INFO - Aplicando threshold OLR <= 230 W/m²\n",
      "2025-10-17 15:09:14,017 - loczcit_iqr.core.processor - INFO - Carregando área de estudo de: E:\\ambiente_python_2025-main\\src\\data\\shapefiles\\Area_LOCZCIT.parquet\n",
      "2025-10-17 15:09:14,032 - loczcit_iqr.core.processor - INFO - Encontradas 26 coordenadas de mínimo\n",
      "2025-10-17 15:09:14,032 - loczcit_iqr.core.spline_interpolator - INFO - Interpolando 21 coordenadas: método=bspline, pontos_saída=100\n",
      "2025-10-17 15:09:14,034 - loczcit_iqr.core.spline_interpolator - WARNING - Detectados 3 gaps grandes (>5.0x mediana=0.75°)\n",
      "2025-10-17 15:09:14,035 - loczcit_iqr.core.processor - INFO - Buscando mínimos de OLR (método: column_minimum, threshold: None, raio: 1px)\n",
      "2025-10-17 15:09:14,036 - loczcit_iqr.core.processor - INFO - Carregando área de estudo de: E:\\ambiente_python_2025-main\\src\\data\\shapefiles\\Area_LOCZCIT.parquet\n",
      "2025-10-17 15:09:14,052 - loczcit_iqr.core.processor - INFO - Encontradas 21 coordenadas de mínimo\n",
      "2025-10-17 15:09:14,053 - loczcit_iqr.core.iqr_detector - INFO - Detectando outliers em 21 coordenadas (analisando latitude)\n",
      "2025-10-17 15:09:14,054 - loczcit_iqr.core.iqr_detector - INFO - Detecção concluída: 17 válidas, 4 outliers\n",
      "2025-10-17 15:09:14,054 - loczcit_iqr.core.processor - INFO - Buscando mínimos de OLR (método: local_minimum, threshold: 230, raio: 1px)\n",
      "2025-10-17 15:09:14,055 - loczcit_iqr.core.processor - INFO - Aplicando threshold OLR <= 230 W/m²\n",
      "2025-10-17 15:09:14,056 - loczcit_iqr.core.processor - INFO - Carregando área de estudo de: E:\\ambiente_python_2025-main\\src\\data\\shapefiles\\Area_LOCZCIT.parquet\n",
      "2025-10-17 15:09:14,070 - loczcit_iqr.core.processor - INFO - Encontradas 4 coordenadas de mínimo\n",
      "2025-10-17 15:09:14,071 - loczcit_iqr.core.spline_interpolator - INFO - Interpolando 17 coordenadas: método=bspline, pontos_saída=100\n",
      "2025-10-17 15:09:14,072 - loczcit_iqr.core.spline_interpolator - WARNING - Detectados 2 gaps grandes (>5.0x mediana=0.75°)\n"
     ]
    },
    {
     "name": "stderr",
     "output_type": "stream",
     "text": [
      "Processando pentadas:  21%|██        | 15/73 [00:00<00:02, 25.39it/s]"
     ]
    },
    {
     "name": "stdout",
     "output_type": "stream",
     "text": [
      "2025-10-17 15:09:14,074 - loczcit_iqr.core.processor - INFO - Buscando mínimos de OLR (método: column_minimum, threshold: None, raio: 1px)\n",
      "2025-10-17 15:09:14,075 - loczcit_iqr.core.processor - INFO - Carregando área de estudo de: E:\\ambiente_python_2025-main\\src\\data\\shapefiles\\Area_LOCZCIT.parquet\n",
      "2025-10-17 15:09:14,091 - loczcit_iqr.core.processor - INFO - Encontradas 17 coordenadas de mínimo\n",
      "2025-10-17 15:09:14,092 - loczcit_iqr.core.iqr_detector - INFO - Detectando outliers em 17 coordenadas (analisando latitude)\n",
      "2025-10-17 15:09:14,093 - loczcit_iqr.core.iqr_detector - INFO - Detecção concluída: 17 válidas, 0 outliers\n",
      "2025-10-17 15:09:14,094 - loczcit_iqr.core.processor - INFO - Buscando mínimos de OLR (método: local_minimum, threshold: 230, raio: 1px)\n",
      "2025-10-17 15:09:14,095 - loczcit_iqr.core.processor - INFO - Aplicando threshold OLR <= 230 W/m²\n",
      "2025-10-17 15:09:14,095 - loczcit_iqr.core.processor - INFO - Carregando área de estudo de: E:\\ambiente_python_2025-main\\src\\data\\shapefiles\\Area_LOCZCIT.parquet\n",
      "2025-10-17 15:09:14,114 - loczcit_iqr.core.processor - INFO - Encontradas 7 coordenadas de mínimo\n",
      "2025-10-17 15:09:14,114 - loczcit_iqr.core.spline_interpolator - INFO - Interpolando 17 coordenadas: método=bspline, pontos_saída=100\n",
      "2025-10-17 15:09:14,117 - loczcit_iqr.core.processor - INFO - Buscando mínimos de OLR (método: column_minimum, threshold: None, raio: 1px)\n",
      "2025-10-17 15:09:14,118 - loczcit_iqr.core.processor - INFO - Carregando área de estudo de: E:\\ambiente_python_2025-main\\src\\data\\shapefiles\\Area_LOCZCIT.parquet\n",
      "2025-10-17 15:09:14,136 - loczcit_iqr.core.processor - INFO - Encontradas 16 coordenadas de mínimo\n",
      "2025-10-17 15:09:14,137 - loczcit_iqr.core.iqr_detector - INFO - Detectando outliers em 16 coordenadas (analisando latitude)\n",
      "2025-10-17 15:09:14,138 - loczcit_iqr.core.iqr_detector - INFO - Detecção concluída: 14 válidas, 2 outliers\n",
      "2025-10-17 15:09:14,139 - loczcit_iqr.core.processor - INFO - Buscando mínimos de OLR (método: local_minimum, threshold: 230, raio: 1px)\n",
      "2025-10-17 15:09:14,139 - loczcit_iqr.core.processor - INFO - Aplicando threshold OLR <= 230 W/m²\n",
      "2025-10-17 15:09:14,140 - loczcit_iqr.core.processor - INFO - Carregando área de estudo de: E:\\ambiente_python_2025-main\\src\\data\\shapefiles\\Area_LOCZCIT.parquet\n",
      "2025-10-17 15:09:14,157 - loczcit_iqr.core.processor - INFO - Encontradas 27 coordenadas de mínimo\n",
      "2025-10-17 15:09:14,157 - loczcit_iqr.core.spline_interpolator - INFO - Interpolando 14 coordenadas: método=bspline, pontos_saída=100\n",
      "2025-10-17 15:09:14,160 - loczcit_iqr.core.processor - INFO - Buscando mínimos de OLR (método: column_minimum, threshold: None, raio: 1px)\n",
      "2025-10-17 15:09:14,160 - loczcit_iqr.core.processor - INFO - Carregando área de estudo de: E:\\ambiente_python_2025-main\\src\\data\\shapefiles\\Area_LOCZCIT.parquet\n",
      "2025-10-17 15:09:14,176 - loczcit_iqr.core.processor - INFO - Encontradas 17 coordenadas de mínimo\n",
      "2025-10-17 15:09:14,177 - loczcit_iqr.core.iqr_detector - INFO - Detectando outliers em 17 coordenadas (analisando latitude)\n",
      "2025-10-17 15:09:14,178 - loczcit_iqr.core.iqr_detector - INFO - Detecção concluída: 14 válidas, 3 outliers\n",
      "2025-10-17 15:09:14,178 - loczcit_iqr.core.processor - INFO - Buscando mínimos de OLR (método: local_minimum, threshold: 230, raio: 1px)\n",
      "2025-10-17 15:09:14,179 - loczcit_iqr.core.processor - INFO - Aplicando threshold OLR <= 230 W/m²\n",
      "2025-10-17 15:09:14,180 - loczcit_iqr.core.processor - INFO - Carregando área de estudo de: E:\\ambiente_python_2025-main\\src\\data\\shapefiles\\Area_LOCZCIT.parquet\n",
      "2025-10-17 15:09:14,194 - loczcit_iqr.core.processor - INFO - Encontradas 23 coordenadas de mínimo\n",
      "2025-10-17 15:09:14,194 - loczcit_iqr.core.spline_interpolator - INFO - Interpolando 14 coordenadas: método=bspline, pontos_saída=100\n"
     ]
    },
    {
     "name": "stderr",
     "output_type": "stream",
     "text": [
      "Processando pentadas:  25%|██▍       | 18/73 [00:00<00:02, 25.04it/s]"
     ]
    },
    {
     "name": "stdout",
     "output_type": "stream",
     "text": [
      "2025-10-17 15:09:14,197 - loczcit_iqr.core.processor - INFO - Buscando mínimos de OLR (método: column_minimum, threshold: None, raio: 1px)\n",
      "2025-10-17 15:09:14,198 - loczcit_iqr.core.processor - INFO - Carregando área de estudo de: E:\\ambiente_python_2025-main\\src\\data\\shapefiles\\Area_LOCZCIT.parquet\n",
      "2025-10-17 15:09:14,215 - loczcit_iqr.core.processor - INFO - Encontradas 20 coordenadas de mínimo\n",
      "2025-10-17 15:09:14,216 - loczcit_iqr.core.iqr_detector - INFO - Detectando outliers em 20 coordenadas (analisando latitude)\n",
      "2025-10-17 15:09:14,216 - loczcit_iqr.core.iqr_detector - INFO - Detecção concluída: 20 válidas, 0 outliers\n",
      "2025-10-17 15:09:14,217 - loczcit_iqr.core.processor - INFO - Buscando mínimos de OLR (método: local_minimum, threshold: 230, raio: 1px)\n",
      "2025-10-17 15:09:14,218 - loczcit_iqr.core.processor - INFO - Aplicando threshold OLR <= 230 W/m²\n",
      "2025-10-17 15:09:14,218 - loczcit_iqr.core.processor - INFO - Carregando área de estudo de: E:\\ambiente_python_2025-main\\src\\data\\shapefiles\\Area_LOCZCIT.parquet\n",
      "2025-10-17 15:09:14,234 - loczcit_iqr.core.processor - INFO - Encontradas 20 coordenadas de mínimo\n",
      "2025-10-17 15:09:14,234 - loczcit_iqr.core.spline_interpolator - INFO - Interpolando 20 coordenadas: método=bspline, pontos_saída=100\n",
      "2025-10-17 15:09:14,237 - loczcit_iqr.core.processor - INFO - Buscando mínimos de OLR (método: column_minimum, threshold: None, raio: 1px)\n",
      "2025-10-17 15:09:14,237 - loczcit_iqr.core.processor - INFO - Carregando área de estudo de: E:\\ambiente_python_2025-main\\src\\data\\shapefiles\\Area_LOCZCIT.parquet\n",
      "2025-10-17 15:09:14,254 - loczcit_iqr.core.processor - INFO - Encontradas 26 coordenadas de mínimo\n",
      "2025-10-17 15:09:14,254 - loczcit_iqr.core.iqr_detector - INFO - Detectando outliers em 26 coordenadas (analisando latitude)\n",
      "2025-10-17 15:09:14,255 - loczcit_iqr.core.iqr_detector - INFO - Detecção concluída: 21 válidas, 5 outliers\n",
      "2025-10-17 15:09:14,256 - loczcit_iqr.core.processor - INFO - Buscando mínimos de OLR (método: local_minimum, threshold: 230, raio: 1px)\n",
      "2025-10-17 15:09:14,257 - loczcit_iqr.core.processor - INFO - Aplicando threshold OLR <= 230 W/m²\n",
      "2025-10-17 15:09:14,257 - loczcit_iqr.core.processor - INFO - Carregando área de estudo de: E:\\ambiente_python_2025-main\\src\\data\\shapefiles\\Area_LOCZCIT.parquet\n",
      "2025-10-17 15:09:14,272 - loczcit_iqr.core.processor - INFO - Encontradas 7 coordenadas de mínimo\n",
      "2025-10-17 15:09:14,273 - loczcit_iqr.core.spline_interpolator - INFO - Interpolando 21 coordenadas: método=bspline, pontos_saída=100\n",
      "2025-10-17 15:09:14,274 - loczcit_iqr.core.spline_interpolator - WARNING - Detectados 1 gaps grandes (>5.0x mediana=1.38°)\n",
      "2025-10-17 15:09:14,276 - loczcit_iqr.core.processor - INFO - Buscando mínimos de OLR (método: column_minimum, threshold: None, raio: 1px)\n",
      "2025-10-17 15:09:14,277 - loczcit_iqr.core.processor - INFO - Carregando área de estudo de: E:\\ambiente_python_2025-main\\src\\data\\shapefiles\\Area_LOCZCIT.parquet\n",
      "2025-10-17 15:09:14,293 - loczcit_iqr.core.processor - INFO - Encontradas 15 coordenadas de mínimo\n",
      "2025-10-17 15:09:14,293 - loczcit_iqr.core.iqr_detector - INFO - Detectando outliers em 15 coordenadas (analisando latitude)\n",
      "2025-10-17 15:09:14,294 - loczcit_iqr.core.iqr_detector - INFO - Detecção concluída: 12 válidas, 3 outliers\n",
      "2025-10-17 15:09:14,295 - loczcit_iqr.core.processor - INFO - Buscando mínimos de OLR (método: local_minimum, threshold: 230, raio: 1px)\n",
      "2025-10-17 15:09:14,295 - loczcit_iqr.core.processor - INFO - Aplicando threshold OLR <= 230 W/m²\n",
      "2025-10-17 15:09:14,296 - loczcit_iqr.core.processor - INFO - Carregando área de estudo de: E:\\ambiente_python_2025-main\\src\\data\\shapefiles\\Area_LOCZCIT.parquet\n",
      "2025-10-17 15:09:14,310 - loczcit_iqr.core.processor - INFO - Encontradas 8 coordenadas de mínimo\n",
      "2025-10-17 15:09:14,311 - loczcit_iqr.core.spline_interpolator - INFO - Interpolando 12 coordenadas: método=bspline, pontos_saída=100\n",
      "2025-10-17 15:09:14,312 - loczcit_iqr.core.spline_interpolator - WARNING - Detectados 1 gaps grandes (>5.0x mediana=2.25°)\n"
     ]
    },
    {
     "name": "stderr",
     "output_type": "stream",
     "text": [
      "Processando pentadas:  29%|██▉       | 21/73 [00:00<00:02, 25.23it/s]"
     ]
    },
    {
     "name": "stdout",
     "output_type": "stream",
     "text": [
      "2025-10-17 15:09:14,314 - loczcit_iqr.core.processor - INFO - Buscando mínimos de OLR (método: column_minimum, threshold: None, raio: 1px)\n",
      "2025-10-17 15:09:14,315 - loczcit_iqr.core.processor - INFO - Carregando área de estudo de: E:\\ambiente_python_2025-main\\src\\data\\shapefiles\\Area_LOCZCIT.parquet\n",
      "2025-10-17 15:09:14,331 - loczcit_iqr.core.processor - INFO - Encontradas 19 coordenadas de mínimo\n",
      "2025-10-17 15:09:14,332 - loczcit_iqr.core.iqr_detector - INFO - Detectando outliers em 19 coordenadas (analisando latitude)\n",
      "2025-10-17 15:09:14,333 - loczcit_iqr.core.iqr_detector - INFO - Detecção concluída: 19 válidas, 0 outliers\n",
      "2025-10-17 15:09:14,334 - loczcit_iqr.core.processor - INFO - Buscando mínimos de OLR (método: local_minimum, threshold: 230, raio: 1px)\n",
      "2025-10-17 15:09:14,334 - loczcit_iqr.core.processor - INFO - Aplicando threshold OLR <= 230 W/m²\n",
      "2025-10-17 15:09:14,335 - loczcit_iqr.core.processor - INFO - Carregando área de estudo de: E:\\ambiente_python_2025-main\\src\\data\\shapefiles\\Area_LOCZCIT.parquet\n",
      "2025-10-17 15:09:14,350 - loczcit_iqr.core.processor - INFO - Encontradas 14 coordenadas de mínimo\n",
      "2025-10-17 15:09:14,351 - loczcit_iqr.core.spline_interpolator - INFO - Interpolando 19 coordenadas: método=bspline, pontos_saída=100\n",
      "2025-10-17 15:09:14,353 - loczcit_iqr.core.processor - INFO - Buscando mínimos de OLR (método: column_minimum, threshold: None, raio: 1px)\n",
      "2025-10-17 15:09:14,354 - loczcit_iqr.core.processor - INFO - Carregando área de estudo de: E:\\ambiente_python_2025-main\\src\\data\\shapefiles\\Area_LOCZCIT.parquet\n",
      "2025-10-17 15:09:14,371 - loczcit_iqr.core.processor - INFO - Encontradas 17 coordenadas de mínimo\n",
      "2025-10-17 15:09:14,372 - loczcit_iqr.core.iqr_detector - INFO - Detectando outliers em 17 coordenadas (analisando latitude)\n",
      "2025-10-17 15:09:14,373 - loczcit_iqr.core.iqr_detector - INFO - Detecção concluída: 17 válidas, 0 outliers\n",
      "2025-10-17 15:09:14,374 - loczcit_iqr.core.processor - INFO - Buscando mínimos de OLR (método: local_minimum, threshold: 230, raio: 1px)\n",
      "2025-10-17 15:09:14,374 - loczcit_iqr.core.processor - INFO - Aplicando threshold OLR <= 230 W/m²\n",
      "2025-10-17 15:09:14,375 - loczcit_iqr.core.processor - INFO - Carregando área de estudo de: E:\\ambiente_python_2025-main\\src\\data\\shapefiles\\Area_LOCZCIT.parquet\n",
      "2025-10-17 15:09:14,389 - loczcit_iqr.core.processor - INFO - Encontradas 11 coordenadas de mínimo\n",
      "2025-10-17 15:09:14,390 - loczcit_iqr.core.spline_interpolator - INFO - Interpolando 17 coordenadas: método=bspline, pontos_saída=100\n",
      "2025-10-17 15:09:14,391 - loczcit_iqr.core.spline_interpolator - WARNING - Detectados 1 gaps grandes (>5.0x mediana=1.50°)\n",
      "2025-10-17 15:09:14,393 - loczcit_iqr.core.processor - INFO - Buscando mínimos de OLR (método: column_minimum, threshold: None, raio: 1px)\n",
      "2025-10-17 15:09:14,393 - loczcit_iqr.core.processor - INFO - Carregando área de estudo de: E:\\ambiente_python_2025-main\\src\\data\\shapefiles\\Area_LOCZCIT.parquet\n",
      "2025-10-17 15:09:14,409 - loczcit_iqr.core.processor - INFO - Encontradas 14 coordenadas de mínimo\n",
      "2025-10-17 15:09:14,410 - loczcit_iqr.core.iqr_detector - INFO - Detectando outliers em 14 coordenadas (analisando latitude)\n",
      "2025-10-17 15:09:14,411 - loczcit_iqr.core.iqr_detector - INFO - Detecção concluída: 14 válidas, 0 outliers\n",
      "2025-10-17 15:09:14,411 - loczcit_iqr.core.processor - INFO - Buscando mínimos de OLR (método: local_minimum, threshold: 230, raio: 1px)\n",
      "2025-10-17 15:09:14,412 - loczcit_iqr.core.processor - INFO - Aplicando threshold OLR <= 230 W/m²\n",
      "2025-10-17 15:09:14,412 - loczcit_iqr.core.processor - INFO - Carregando área de estudo de: E:\\ambiente_python_2025-main\\src\\data\\shapefiles\\Area_LOCZCIT.parquet\n",
      "2025-10-17 15:09:14,427 - loczcit_iqr.core.processor - INFO - Encontradas 21 coordenadas de mínimo\n",
      "2025-10-17 15:09:14,427 - loczcit_iqr.core.spline_interpolator - INFO - Interpolando 14 coordenadas: método=bspline, pontos_saída=100\n"
     ]
    },
    {
     "name": "stderr",
     "output_type": "stream",
     "text": [
      "Processando pentadas:  33%|███▎      | 24/73 [00:00<00:01, 25.45it/s]"
     ]
    },
    {
     "name": "stdout",
     "output_type": "stream",
     "text": [
      "2025-10-17 15:09:14,430 - loczcit_iqr.core.processor - INFO - Buscando mínimos de OLR (método: column_minimum, threshold: None, raio: 1px)\n",
      "2025-10-17 15:09:14,430 - loczcit_iqr.core.processor - INFO - Carregando área de estudo de: E:\\ambiente_python_2025-main\\src\\data\\shapefiles\\Area_LOCZCIT.parquet\n",
      "2025-10-17 15:09:14,447 - loczcit_iqr.core.processor - INFO - Encontradas 20 coordenadas de mínimo\n",
      "2025-10-17 15:09:14,447 - loczcit_iqr.core.iqr_detector - INFO - Detectando outliers em 20 coordenadas (analisando latitude)\n",
      "2025-10-17 15:09:14,448 - loczcit_iqr.core.iqr_detector - INFO - Detecção concluída: 20 válidas, 0 outliers\n",
      "2025-10-17 15:09:14,448 - loczcit_iqr.core.processor - INFO - Buscando mínimos de OLR (método: local_minimum, threshold: 230, raio: 1px)\n",
      "2025-10-17 15:09:14,449 - loczcit_iqr.core.processor - INFO - Aplicando threshold OLR <= 230 W/m²\n",
      "2025-10-17 15:09:14,450 - loczcit_iqr.core.processor - INFO - Carregando área de estudo de: E:\\ambiente_python_2025-main\\src\\data\\shapefiles\\Area_LOCZCIT.parquet\n",
      "2025-10-17 15:09:14,466 - loczcit_iqr.core.processor - INFO - Encontradas 12 coordenadas de mínimo\n",
      "2025-10-17 15:09:14,466 - loczcit_iqr.core.spline_interpolator - INFO - Interpolando 20 coordenadas: método=bspline, pontos_saída=100\n",
      "2025-10-17 15:09:14,467 - loczcit_iqr.core.spline_interpolator - WARNING - Detectados 1 gaps grandes (>5.0x mediana=1.00°)\n",
      "2025-10-17 15:09:14,469 - loczcit_iqr.core.processor - INFO - Buscando mínimos de OLR (método: column_minimum, threshold: None, raio: 1px)\n",
      "2025-10-17 15:09:14,470 - loczcit_iqr.core.processor - INFO - Carregando área de estudo de: E:\\ambiente_python_2025-main\\src\\data\\shapefiles\\Area_LOCZCIT.parquet\n",
      "2025-10-17 15:09:14,487 - loczcit_iqr.core.processor - INFO - Encontradas 12 coordenadas de mínimo\n",
      "2025-10-17 15:09:14,488 - loczcit_iqr.core.iqr_detector - INFO - Detectando outliers em 12 coordenadas (analisando latitude)\n",
      "2025-10-17 15:09:14,489 - loczcit_iqr.core.iqr_detector - INFO - Detecção concluída: 10 válidas, 2 outliers\n",
      "2025-10-17 15:09:14,489 - loczcit_iqr.core.processor - INFO - Buscando mínimos de OLR (método: local_minimum, threshold: 230, raio: 1px)\n",
      "2025-10-17 15:09:14,490 - loczcit_iqr.core.processor - INFO - Aplicando threshold OLR <= 230 W/m²\n",
      "2025-10-17 15:09:14,491 - loczcit_iqr.core.processor - INFO - Carregando área de estudo de: E:\\ambiente_python_2025-main\\src\\data\\shapefiles\\Area_LOCZCIT.parquet\n",
      "2025-10-17 15:09:14,505 - loczcit_iqr.core.processor - INFO - Encontradas 9 coordenadas de mínimo\n",
      "2025-10-17 15:09:14,506 - loczcit_iqr.core.spline_interpolator - INFO - Interpolando 10 coordenadas: método=bspline, pontos_saída=100\n",
      "2025-10-17 15:09:14,508 - loczcit_iqr.core.processor - INFO - Buscando mínimos de OLR (método: column_minimum, threshold: None, raio: 1px)\n",
      "2025-10-17 15:09:14,509 - loczcit_iqr.core.processor - INFO - Carregando área de estudo de: E:\\ambiente_python_2025-main\\src\\data\\shapefiles\\Area_LOCZCIT.parquet\n",
      "2025-10-17 15:09:14,525 - loczcit_iqr.core.processor - INFO - Encontradas 13 coordenadas de mínimo\n",
      "2025-10-17 15:09:14,526 - loczcit_iqr.core.iqr_detector - INFO - Detectando outliers em 13 coordenadas (analisando latitude)\n",
      "2025-10-17 15:09:14,526 - loczcit_iqr.core.iqr_detector - INFO - Detecção concluída: 10 válidas, 3 outliers\n",
      "2025-10-17 15:09:14,527 - loczcit_iqr.core.processor - INFO - Buscando mínimos de OLR (método: local_minimum, threshold: 230, raio: 1px)\n",
      "2025-10-17 15:09:14,527 - loczcit_iqr.core.processor - INFO - Aplicando threshold OLR <= 230 W/m²\n",
      "2025-10-17 15:09:14,528 - loczcit_iqr.core.processor - INFO - Carregando área de estudo de: E:\\ambiente_python_2025-main\\src\\data\\shapefiles\\Area_LOCZCIT.parquet\n",
      "2025-10-17 15:09:14,542 - loczcit_iqr.core.processor - INFO - Encontradas 13 coordenadas de mínimo\n",
      "2025-10-17 15:09:14,543 - loczcit_iqr.core.spline_interpolator - INFO - Interpolando 10 coordenadas: método=bspline, pontos_saída=100\n"
     ]
    },
    {
     "name": "stderr",
     "output_type": "stream",
     "text": [
      "Processando pentadas:  37%|███▋      | 27/73 [00:01<00:01, 25.63it/s]"
     ]
    },
    {
     "name": "stdout",
     "output_type": "stream",
     "text": [
      "2025-10-17 15:09:14,545 - loczcit_iqr.core.processor - INFO - Buscando mínimos de OLR (método: column_minimum, threshold: None, raio: 1px)\n",
      "2025-10-17 15:09:14,546 - loczcit_iqr.core.processor - INFO - Carregando área de estudo de: E:\\ambiente_python_2025-main\\src\\data\\shapefiles\\Area_LOCZCIT.parquet\n",
      "2025-10-17 15:09:14,562 - loczcit_iqr.core.processor - INFO - Encontradas 15 coordenadas de mínimo\n",
      "2025-10-17 15:09:14,563 - loczcit_iqr.core.iqr_detector - INFO - Detectando outliers em 15 coordenadas (analisando latitude)\n",
      "2025-10-17 15:09:14,564 - loczcit_iqr.core.iqr_detector - INFO - Detecção concluída: 14 válidas, 1 outliers\n",
      "2025-10-17 15:09:14,564 - loczcit_iqr.core.processor - INFO - Buscando mínimos de OLR (método: local_minimum, threshold: 230, raio: 1px)\n",
      "2025-10-17 15:09:14,565 - loczcit_iqr.core.processor - INFO - Aplicando threshold OLR <= 230 W/m²\n",
      "2025-10-17 15:09:14,565 - loczcit_iqr.core.processor - INFO - Carregando área de estudo de: E:\\ambiente_python_2025-main\\src\\data\\shapefiles\\Area_LOCZCIT.parquet\n",
      "2025-10-17 15:09:14,581 - loczcit_iqr.core.processor - INFO - Encontradas 12 coordenadas de mínimo\n",
      "2025-10-17 15:09:14,581 - loczcit_iqr.core.spline_interpolator - INFO - Interpolando 14 coordenadas: método=bspline, pontos_saída=100\n",
      "2025-10-17 15:09:14,584 - loczcit_iqr.core.processor - INFO - Buscando mínimos de OLR (método: column_minimum, threshold: None, raio: 1px)\n",
      "2025-10-17 15:09:14,584 - loczcit_iqr.core.processor - INFO - Carregando área de estudo de: E:\\ambiente_python_2025-main\\src\\data\\shapefiles\\Area_LOCZCIT.parquet\n",
      "2025-10-17 15:09:14,602 - loczcit_iqr.core.processor - INFO - Encontradas 12 coordenadas de mínimo\n",
      "2025-10-17 15:09:14,602 - loczcit_iqr.core.iqr_detector - INFO - Detectando outliers em 12 coordenadas (analisando latitude)\n",
      "2025-10-17 15:09:14,603 - loczcit_iqr.core.iqr_detector - INFO - Detecção concluída: 11 válidas, 1 outliers\n",
      "2025-10-17 15:09:14,604 - loczcit_iqr.core.processor - INFO - Buscando mínimos de OLR (método: local_minimum, threshold: 230, raio: 1px)\n",
      "2025-10-17 15:09:14,605 - loczcit_iqr.core.processor - INFO - Aplicando threshold OLR <= 230 W/m²\n",
      "2025-10-17 15:09:14,605 - loczcit_iqr.core.processor - INFO - Carregando área de estudo de: E:\\ambiente_python_2025-main\\src\\data\\shapefiles\\Area_LOCZCIT.parquet\n",
      "2025-10-17 15:09:14,620 - loczcit_iqr.core.processor - INFO - Encontradas 10 coordenadas de mínimo\n",
      "2025-10-17 15:09:14,621 - loczcit_iqr.core.spline_interpolator - INFO - Interpolando 11 coordenadas: método=bspline, pontos_saída=100\n",
      "2025-10-17 15:09:14,623 - loczcit_iqr.core.processor - INFO - Buscando mínimos de OLR (método: column_minimum, threshold: None, raio: 1px)\n",
      "2025-10-17 15:09:14,624 - loczcit_iqr.core.processor - INFO - Carregando área de estudo de: E:\\ambiente_python_2025-main\\src\\data\\shapefiles\\Area_LOCZCIT.parquet\n",
      "2025-10-17 15:09:14,641 - loczcit_iqr.core.processor - INFO - Encontradas 12 coordenadas de mínimo\n",
      "2025-10-17 15:09:14,642 - loczcit_iqr.core.iqr_detector - INFO - Detectando outliers em 12 coordenadas (analisando latitude)\n",
      "2025-10-17 15:09:14,643 - loczcit_iqr.core.iqr_detector - INFO - Detecção concluída: 12 válidas, 0 outliers\n",
      "2025-10-17 15:09:14,643 - loczcit_iqr.core.processor - INFO - Buscando mínimos de OLR (método: local_minimum, threshold: 230, raio: 1px)\n",
      "2025-10-17 15:09:14,644 - loczcit_iqr.core.processor - INFO - Aplicando threshold OLR <= 230 W/m²\n",
      "2025-10-17 15:09:14,644 - loczcit_iqr.core.processor - INFO - Carregando área de estudo de: E:\\ambiente_python_2025-main\\src\\data\\shapefiles\\Area_LOCZCIT.parquet\n",
      "2025-10-17 15:09:14,658 - loczcit_iqr.core.processor - INFO - Encontradas 9 coordenadas de mínimo\n",
      "2025-10-17 15:09:14,659 - loczcit_iqr.core.spline_interpolator - INFO - Interpolando 12 coordenadas: método=bspline, pontos_saída=100\n"
     ]
    },
    {
     "name": "stderr",
     "output_type": "stream",
     "text": [
      "Processando pentadas:  41%|████      | 30/73 [00:01<00:01, 25.65it/s]"
     ]
    },
    {
     "name": "stdout",
     "output_type": "stream",
     "text": [
      "2025-10-17 15:09:14,662 - loczcit_iqr.core.processor - INFO - Buscando mínimos de OLR (método: column_minimum, threshold: None, raio: 1px)\n",
      "2025-10-17 15:09:14,663 - loczcit_iqr.core.processor - INFO - Carregando área de estudo de: E:\\ambiente_python_2025-main\\src\\data\\shapefiles\\Area_LOCZCIT.parquet\n",
      "2025-10-17 15:09:14,680 - loczcit_iqr.core.processor - INFO - Encontradas 15 coordenadas de mínimo\n",
      "2025-10-17 15:09:14,681 - loczcit_iqr.core.iqr_detector - INFO - Detectando outliers em 15 coordenadas (analisando latitude)\n",
      "2025-10-17 15:09:14,682 - loczcit_iqr.core.iqr_detector - INFO - Detecção concluída: 11 válidas, 4 outliers\n",
      "2025-10-17 15:09:14,682 - loczcit_iqr.core.processor - INFO - Buscando mínimos de OLR (método: local_minimum, threshold: 230, raio: 1px)\n",
      "2025-10-17 15:09:14,683 - loczcit_iqr.core.processor - INFO - Aplicando threshold OLR <= 230 W/m²\n",
      "2025-10-17 15:09:14,683 - loczcit_iqr.core.processor - INFO - Carregando área de estudo de: E:\\ambiente_python_2025-main\\src\\data\\shapefiles\\Area_LOCZCIT.parquet\n",
      "2025-10-17 15:09:14,699 - loczcit_iqr.core.processor - INFO - Encontradas 14 coordenadas de mínimo\n",
      "2025-10-17 15:09:14,700 - loczcit_iqr.core.spline_interpolator - INFO - Interpolando 11 coordenadas: método=bspline, pontos_saída=100\n",
      "2025-10-17 15:09:14,702 - loczcit_iqr.core.processor - INFO - Buscando mínimos de OLR (método: column_minimum, threshold: None, raio: 1px)\n",
      "2025-10-17 15:09:14,703 - loczcit_iqr.core.processor - INFO - Carregando área de estudo de: E:\\ambiente_python_2025-main\\src\\data\\shapefiles\\Area_LOCZCIT.parquet\n",
      "2025-10-17 15:09:14,720 - loczcit_iqr.core.processor - INFO - Encontradas 17 coordenadas de mínimo\n",
      "2025-10-17 15:09:14,720 - loczcit_iqr.core.iqr_detector - INFO - Detectando outliers em 17 coordenadas (analisando latitude)\n",
      "2025-10-17 15:09:14,721 - loczcit_iqr.core.iqr_detector - INFO - Detecção concluída: 17 válidas, 0 outliers\n",
      "2025-10-17 15:09:14,722 - loczcit_iqr.core.processor - INFO - Buscando mínimos de OLR (método: local_minimum, threshold: 230, raio: 1px)\n",
      "2025-10-17 15:09:14,723 - loczcit_iqr.core.processor - INFO - Aplicando threshold OLR <= 230 W/m²\n",
      "2025-10-17 15:09:14,724 - loczcit_iqr.core.processor - INFO - Carregando área de estudo de: E:\\ambiente_python_2025-main\\src\\data\\shapefiles\\Area_LOCZCIT.parquet\n",
      "2025-10-17 15:09:14,739 - loczcit_iqr.core.processor - INFO - Encontradas 17 coordenadas de mínimo\n",
      "2025-10-17 15:09:14,740 - loczcit_iqr.core.spline_interpolator - INFO - Interpolando 17 coordenadas: método=bspline, pontos_saída=100\n",
      "2025-10-17 15:09:14,742 - loczcit_iqr.core.processor - INFO - Buscando mínimos de OLR (método: column_minimum, threshold: None, raio: 1px)\n",
      "2025-10-17 15:09:14,743 - loczcit_iqr.core.processor - INFO - Carregando área de estudo de: E:\\ambiente_python_2025-main\\src\\data\\shapefiles\\Area_LOCZCIT.parquet\n",
      "2025-10-17 15:09:14,759 - loczcit_iqr.core.processor - INFO - Encontradas 12 coordenadas de mínimo\n",
      "2025-10-17 15:09:14,760 - loczcit_iqr.core.iqr_detector - INFO - Detectando outliers em 12 coordenadas (analisando latitude)\n",
      "2025-10-17 15:09:14,761 - loczcit_iqr.core.iqr_detector - INFO - Detecção concluída: 10 válidas, 2 outliers\n",
      "2025-10-17 15:09:14,761 - loczcit_iqr.core.processor - INFO - Buscando mínimos de OLR (método: local_minimum, threshold: 230, raio: 1px)\n",
      "2025-10-17 15:09:14,762 - loczcit_iqr.core.processor - INFO - Aplicando threshold OLR <= 230 W/m²\n",
      "2025-10-17 15:09:14,763 - loczcit_iqr.core.processor - INFO - Carregando área de estudo de: E:\\ambiente_python_2025-main\\src\\data\\shapefiles\\Area_LOCZCIT.parquet\n",
      "2025-10-17 15:09:14,777 - loczcit_iqr.core.processor - INFO - Encontradas 7 coordenadas de mínimo\n",
      "2025-10-17 15:09:14,778 - loczcit_iqr.core.spline_interpolator - INFO - Interpolando 10 coordenadas: método=bspline, pontos_saída=100\n"
     ]
    },
    {
     "name": "stderr",
     "output_type": "stream",
     "text": [
      "Processando pentadas:  45%|████▌     | 33/73 [00:01<00:01, 25.54it/s]"
     ]
    },
    {
     "name": "stdout",
     "output_type": "stream",
     "text": [
      "2025-10-17 15:09:14,780 - loczcit_iqr.core.processor - INFO - Buscando mínimos de OLR (método: column_minimum, threshold: None, raio: 1px)\n",
      "2025-10-17 15:09:14,781 - loczcit_iqr.core.processor - INFO - Carregando área de estudo de: E:\\ambiente_python_2025-main\\src\\data\\shapefiles\\Area_LOCZCIT.parquet\n",
      "2025-10-17 15:09:14,797 - loczcit_iqr.core.processor - INFO - Encontradas 15 coordenadas de mínimo\n",
      "2025-10-17 15:09:14,798 - loczcit_iqr.core.iqr_detector - INFO - Detectando outliers em 15 coordenadas (analisando latitude)\n",
      "2025-10-17 15:09:14,799 - loczcit_iqr.core.iqr_detector - INFO - Detecção concluída: 12 válidas, 3 outliers\n",
      "2025-10-17 15:09:14,799 - loczcit_iqr.core.processor - INFO - Buscando mínimos de OLR (método: local_minimum, threshold: 230, raio: 1px)\n",
      "2025-10-17 15:09:14,800 - loczcit_iqr.core.processor - INFO - Aplicando threshold OLR <= 230 W/m²\n",
      "2025-10-17 15:09:14,800 - loczcit_iqr.core.processor - INFO - Carregando área de estudo de: E:\\ambiente_python_2025-main\\src\\data\\shapefiles\\Area_LOCZCIT.parquet\n",
      "2025-10-17 15:09:14,816 - loczcit_iqr.core.processor - INFO - Encontradas 11 coordenadas de mínimo\n",
      "2025-10-17 15:09:14,817 - loczcit_iqr.core.spline_interpolator - INFO - Interpolando 12 coordenadas: método=bspline, pontos_saída=100\n",
      "2025-10-17 15:09:14,819 - loczcit_iqr.core.processor - INFO - Buscando mínimos de OLR (método: column_minimum, threshold: None, raio: 1px)\n",
      "2025-10-17 15:09:14,820 - loczcit_iqr.core.processor - INFO - Carregando área de estudo de: E:\\ambiente_python_2025-main\\src\\data\\shapefiles\\Area_LOCZCIT.parquet\n",
      "2025-10-17 15:09:14,837 - loczcit_iqr.core.processor - INFO - Encontradas 11 coordenadas de mínimo\n",
      "2025-10-17 15:09:14,837 - loczcit_iqr.core.iqr_detector - INFO - Detectando outliers em 11 coordenadas (analisando latitude)\n",
      "2025-10-17 15:09:14,838 - loczcit_iqr.core.iqr_detector - INFO - Detecção concluída: 11 válidas, 0 outliers\n",
      "2025-10-17 15:09:14,839 - loczcit_iqr.core.processor - INFO - Buscando mínimos de OLR (método: local_minimum, threshold: 230, raio: 1px)\n",
      "2025-10-17 15:09:14,840 - loczcit_iqr.core.processor - INFO - Aplicando threshold OLR <= 230 W/m²\n",
      "2025-10-17 15:09:14,840 - loczcit_iqr.core.processor - INFO - Carregando área de estudo de: E:\\ambiente_python_2025-main\\src\\data\\shapefiles\\Area_LOCZCIT.parquet\n",
      "2025-10-17 15:09:14,855 - loczcit_iqr.core.processor - INFO - Encontradas 11 coordenadas de mínimo\n",
      "2025-10-17 15:09:14,855 - loczcit_iqr.core.spline_interpolator - INFO - Interpolando 11 coordenadas: método=bspline, pontos_saída=100\n",
      "2025-10-17 15:09:14,858 - loczcit_iqr.core.processor - INFO - Buscando mínimos de OLR (método: column_minimum, threshold: None, raio: 1px)\n",
      "2025-10-17 15:09:14,859 - loczcit_iqr.core.processor - INFO - Carregando área de estudo de: E:\\ambiente_python_2025-main\\src\\data\\shapefiles\\Area_LOCZCIT.parquet\n",
      "2025-10-17 15:09:14,875 - loczcit_iqr.core.processor - INFO - Encontradas 16 coordenadas de mínimo\n",
      "2025-10-17 15:09:14,876 - loczcit_iqr.core.iqr_detector - INFO - Detectando outliers em 16 coordenadas (analisando latitude)\n",
      "2025-10-17 15:09:14,876 - loczcit_iqr.core.iqr_detector - INFO - Detecção concluída: 16 válidas, 0 outliers\n",
      "2025-10-17 15:09:14,877 - loczcit_iqr.core.processor - INFO - Buscando mínimos de OLR (método: local_minimum, threshold: 230, raio: 1px)\n",
      "2025-10-17 15:09:14,877 - loczcit_iqr.core.processor - INFO - Aplicando threshold OLR <= 230 W/m²\n",
      "2025-10-17 15:09:14,878 - loczcit_iqr.core.processor - INFO - Carregando área de estudo de: E:\\ambiente_python_2025-main\\src\\data\\shapefiles\\Area_LOCZCIT.parquet\n",
      "2025-10-17 15:09:14,892 - loczcit_iqr.core.processor - INFO - Encontradas 20 coordenadas de mínimo\n",
      "2025-10-17 15:09:14,893 - loczcit_iqr.core.spline_interpolator - INFO - Interpolando 16 coordenadas: método=bspline, pontos_saída=100\n"
     ]
    },
    {
     "name": "stderr",
     "output_type": "stream",
     "text": [
      "Processando pentadas:  49%|████▉     | 36/73 [00:01<00:01, 25.68it/s]"
     ]
    },
    {
     "name": "stdout",
     "output_type": "stream",
     "text": [
      "2025-10-17 15:09:14,896 - loczcit_iqr.core.processor - INFO - Buscando mínimos de OLR (método: column_minimum, threshold: None, raio: 1px)\n",
      "2025-10-17 15:09:14,896 - loczcit_iqr.core.processor - INFO - Carregando área de estudo de: E:\\ambiente_python_2025-main\\src\\data\\shapefiles\\Area_LOCZCIT.parquet\n",
      "2025-10-17 15:09:14,912 - loczcit_iqr.core.processor - INFO - Encontradas 12 coordenadas de mínimo\n",
      "2025-10-17 15:09:14,913 - loczcit_iqr.core.iqr_detector - INFO - Detectando outliers em 12 coordenadas (analisando latitude)\n",
      "2025-10-17 15:09:14,914 - loczcit_iqr.core.iqr_detector - INFO - Detecção concluída: 10 válidas, 2 outliers\n",
      "2025-10-17 15:09:14,914 - loczcit_iqr.core.processor - INFO - Buscando mínimos de OLR (método: local_minimum, threshold: 230, raio: 1px)\n",
      "2025-10-17 15:09:14,915 - loczcit_iqr.core.processor - INFO - Aplicando threshold OLR <= 230 W/m²\n",
      "2025-10-17 15:09:14,915 - loczcit_iqr.core.processor - INFO - Carregando área de estudo de: E:\\ambiente_python_2025-main\\src\\data\\shapefiles\\Area_LOCZCIT.parquet\n",
      "2025-10-17 15:09:14,931 - loczcit_iqr.core.processor - INFO - Encontradas 11 coordenadas de mínimo\n",
      "2025-10-17 15:09:14,932 - loczcit_iqr.core.spline_interpolator - INFO - Interpolando 10 coordenadas: método=bspline, pontos_saída=100\n",
      "2025-10-17 15:09:14,934 - loczcit_iqr.core.processor - INFO - Buscando mínimos de OLR (método: column_minimum, threshold: None, raio: 1px)\n",
      "2025-10-17 15:09:14,935 - loczcit_iqr.core.processor - INFO - Carregando área de estudo de: E:\\ambiente_python_2025-main\\src\\data\\shapefiles\\Area_LOCZCIT.parquet\n",
      "2025-10-17 15:09:14,951 - loczcit_iqr.core.processor - INFO - Encontradas 13 coordenadas de mínimo\n",
      "2025-10-17 15:09:14,952 - loczcit_iqr.core.iqr_detector - INFO - Detectando outliers em 13 coordenadas (analisando latitude)\n",
      "2025-10-17 15:09:14,952 - loczcit_iqr.core.iqr_detector - INFO - Detecção concluída: 12 válidas, 1 outliers\n",
      "2025-10-17 15:09:14,953 - loczcit_iqr.core.processor - INFO - Buscando mínimos de OLR (método: local_minimum, threshold: 230, raio: 1px)\n",
      "2025-10-17 15:09:14,954 - loczcit_iqr.core.processor - INFO - Aplicando threshold OLR <= 230 W/m²\n",
      "2025-10-17 15:09:14,954 - loczcit_iqr.core.processor - INFO - Carregando área de estudo de: E:\\ambiente_python_2025-main\\src\\data\\shapefiles\\Area_LOCZCIT.parquet\n",
      "2025-10-17 15:09:14,968 - loczcit_iqr.core.processor - INFO - Encontradas 4 coordenadas de mínimo\n",
      "2025-10-17 15:09:14,968 - loczcit_iqr.core.spline_interpolator - INFO - Interpolando 12 coordenadas: método=bspline, pontos_saída=100\n",
      "2025-10-17 15:09:14,971 - loczcit_iqr.core.processor - INFO - Buscando mínimos de OLR (método: column_minimum, threshold: None, raio: 1px)\n",
      "2025-10-17 15:09:14,971 - loczcit_iqr.core.processor - INFO - Carregando área de estudo de: E:\\ambiente_python_2025-main\\src\\data\\shapefiles\\Area_LOCZCIT.parquet\n",
      "2025-10-17 15:09:14,988 - loczcit_iqr.core.processor - INFO - Encontradas 15 coordenadas de mínimo\n",
      "2025-10-17 15:09:14,988 - loczcit_iqr.core.iqr_detector - INFO - Detectando outliers em 15 coordenadas (analisando latitude)\n",
      "2025-10-17 15:09:14,989 - loczcit_iqr.core.iqr_detector - INFO - Detecção concluída: 14 válidas, 1 outliers\n",
      "2025-10-17 15:09:14,990 - loczcit_iqr.core.processor - INFO - Buscando mínimos de OLR (método: local_minimum, threshold: 230, raio: 1px)\n",
      "2025-10-17 15:09:14,991 - loczcit_iqr.core.processor - INFO - Aplicando threshold OLR <= 230 W/m²\n",
      "2025-10-17 15:09:14,991 - loczcit_iqr.core.processor - INFO - Carregando área de estudo de: E:\\ambiente_python_2025-main\\src\\data\\shapefiles\\Area_LOCZCIT.parquet\n",
      "2025-10-17 15:09:15,005 - loczcit_iqr.core.processor - INFO - Encontradas 6 coordenadas de mínimo\n",
      "2025-10-17 15:09:15,006 - loczcit_iqr.core.spline_interpolator - INFO - Interpolando 14 coordenadas: método=bspline, pontos_saída=100\n"
     ]
    },
    {
     "name": "stderr",
     "output_type": "stream",
     "text": [
      "Processando pentadas:  53%|█████▎    | 39/73 [00:01<00:01, 25.97it/s]"
     ]
    },
    {
     "name": "stdout",
     "output_type": "stream",
     "text": [
      "2025-10-17 15:09:15,008 - loczcit_iqr.core.processor - INFO - Buscando mínimos de OLR (método: column_minimum, threshold: None, raio: 1px)\n",
      "2025-10-17 15:09:15,009 - loczcit_iqr.core.processor - INFO - Carregando área de estudo de: E:\\ambiente_python_2025-main\\src\\data\\shapefiles\\Area_LOCZCIT.parquet\n",
      "2025-10-17 15:09:15,025 - loczcit_iqr.core.processor - INFO - Encontradas 14 coordenadas de mínimo\n",
      "2025-10-17 15:09:15,026 - loczcit_iqr.core.iqr_detector - INFO - Detectando outliers em 14 coordenadas (analisando latitude)\n",
      "2025-10-17 15:09:15,027 - loczcit_iqr.core.iqr_detector - INFO - Detecção concluída: 14 válidas, 0 outliers\n",
      "2025-10-17 15:09:15,028 - loczcit_iqr.core.processor - INFO - Buscando mínimos de OLR (método: local_minimum, threshold: 230, raio: 1px)\n",
      "2025-10-17 15:09:15,028 - loczcit_iqr.core.processor - INFO - Aplicando threshold OLR <= 230 W/m²\n",
      "2025-10-17 15:09:15,029 - loczcit_iqr.core.processor - INFO - Carregando área de estudo de: E:\\ambiente_python_2025-main\\src\\data\\shapefiles\\Area_LOCZCIT.parquet\n",
      "2025-10-17 15:09:15,044 - loczcit_iqr.core.processor - INFO - Encontradas 9 coordenadas de mínimo\n",
      "2025-10-17 15:09:15,045 - loczcit_iqr.core.spline_interpolator - INFO - Interpolando 14 coordenadas: método=bspline, pontos_saída=100\n",
      "2025-10-17 15:09:15,047 - loczcit_iqr.core.processor - INFO - Buscando mínimos de OLR (método: column_minimum, threshold: None, raio: 1px)\n",
      "2025-10-17 15:09:15,048 - loczcit_iqr.core.processor - INFO - Carregando área de estudo de: E:\\ambiente_python_2025-main\\src\\data\\shapefiles\\Area_LOCZCIT.parquet\n",
      "2025-10-17 15:09:15,065 - loczcit_iqr.core.processor - INFO - Encontradas 12 coordenadas de mínimo\n",
      "2025-10-17 15:09:15,066 - loczcit_iqr.core.iqr_detector - INFO - Detectando outliers em 12 coordenadas (analisando latitude)\n",
      "2025-10-17 15:09:15,066 - loczcit_iqr.core.iqr_detector - INFO - Detecção concluída: 9 válidas, 3 outliers\n",
      "2025-10-17 15:09:15,067 - loczcit_iqr.core.processor - INFO - Buscando mínimos de OLR (método: local_minimum, threshold: 230, raio: 1px)\n",
      "2025-10-17 15:09:15,068 - loczcit_iqr.core.processor - INFO - Aplicando threshold OLR <= 230 W/m²\n",
      "2025-10-17 15:09:15,068 - loczcit_iqr.core.processor - INFO - Carregando área de estudo de: E:\\ambiente_python_2025-main\\src\\data\\shapefiles\\Area_LOCZCIT.parquet\n",
      "2025-10-17 15:09:15,083 - loczcit_iqr.core.processor - INFO - Encontradas 8 coordenadas de mínimo\n",
      "2025-10-17 15:09:15,083 - loczcit_iqr.core.spline_interpolator - INFO - Interpolando 9 coordenadas: método=bspline, pontos_saída=100\n",
      "2025-10-17 15:09:15,085 - loczcit_iqr.core.processor - INFO - Buscando mínimos de OLR (método: column_minimum, threshold: None, raio: 1px)\n",
      "2025-10-17 15:09:15,086 - loczcit_iqr.core.processor - INFO - Carregando área de estudo de: E:\\ambiente_python_2025-main\\src\\data\\shapefiles\\Area_LOCZCIT.parquet\n",
      "2025-10-17 15:09:15,104 - loczcit_iqr.core.processor - INFO - Encontradas 10 coordenadas de mínimo\n",
      "2025-10-17 15:09:15,104 - loczcit_iqr.core.iqr_detector - INFO - Detectando outliers em 10 coordenadas (analisando latitude)\n",
      "2025-10-17 15:09:15,105 - loczcit_iqr.core.iqr_detector - INFO - Detecção concluída: 9 válidas, 1 outliers\n",
      "2025-10-17 15:09:15,106 - loczcit_iqr.core.processor - INFO - Buscando mínimos de OLR (método: local_minimum, threshold: 230, raio: 1px)\n",
      "2025-10-17 15:09:15,107 - loczcit_iqr.core.processor - INFO - Aplicando threshold OLR <= 230 W/m²\n",
      "2025-10-17 15:09:15,107 - loczcit_iqr.core.processor - INFO - Carregando área de estudo de: E:\\ambiente_python_2025-main\\src\\data\\shapefiles\\Area_LOCZCIT.parquet\n",
      "2025-10-17 15:09:15,121 - loczcit_iqr.core.processor - INFO - Encontradas 11 coordenadas de mínimo\n",
      "2025-10-17 15:09:15,122 - loczcit_iqr.core.spline_interpolator - INFO - Interpolando 9 coordenadas: método=bspline, pontos_saída=100\n"
     ]
    },
    {
     "name": "stderr",
     "output_type": "stream",
     "text": [
      "Processando pentadas:  58%|█████▊    | 42/73 [00:01<00:01, 25.89it/s]"
     ]
    },
    {
     "name": "stdout",
     "output_type": "stream",
     "text": [
      "2025-10-17 15:09:15,125 - loczcit_iqr.core.processor - INFO - Buscando mínimos de OLR (método: column_minimum, threshold: None, raio: 1px)\n",
      "2025-10-17 15:09:15,126 - loczcit_iqr.core.processor - INFO - Carregando área de estudo de: E:\\ambiente_python_2025-main\\src\\data\\shapefiles\\Area_LOCZCIT.parquet\n",
      "2025-10-17 15:09:15,142 - loczcit_iqr.core.processor - INFO - Encontradas 16 coordenadas de mínimo\n",
      "2025-10-17 15:09:15,143 - loczcit_iqr.core.iqr_detector - INFO - Detectando outliers em 16 coordenadas (analisando latitude)\n",
      "2025-10-17 15:09:15,143 - loczcit_iqr.core.iqr_detector - INFO - Detecção concluída: 10 válidas, 6 outliers\n",
      "2025-10-17 15:09:15,144 - loczcit_iqr.core.processor - INFO - Buscando mínimos de OLR (método: local_minimum, threshold: 230, raio: 1px)\n",
      "2025-10-17 15:09:15,144 - loczcit_iqr.core.processor - INFO - Aplicando threshold OLR <= 230 W/m²\n",
      "2025-10-17 15:09:15,145 - loczcit_iqr.core.processor - INFO - Carregando área de estudo de: E:\\ambiente_python_2025-main\\src\\data\\shapefiles\\Area_LOCZCIT.parquet\n",
      "2025-10-17 15:09:15,161 - loczcit_iqr.core.processor - INFO - Encontradas 7 coordenadas de mínimo\n",
      "2025-10-17 15:09:15,162 - loczcit_iqr.core.spline_interpolator - INFO - Interpolando 10 coordenadas: método=bspline, pontos_saída=100\n",
      "2025-10-17 15:09:15,164 - loczcit_iqr.core.processor - INFO - Buscando mínimos de OLR (método: column_minimum, threshold: None, raio: 1px)\n",
      "2025-10-17 15:09:15,165 - loczcit_iqr.core.processor - INFO - Carregando área de estudo de: E:\\ambiente_python_2025-main\\src\\data\\shapefiles\\Area_LOCZCIT.parquet\n",
      "2025-10-17 15:09:15,181 - loczcit_iqr.core.processor - INFO - Encontradas 12 coordenadas de mínimo\n",
      "2025-10-17 15:09:15,182 - loczcit_iqr.core.iqr_detector - INFO - Detectando outliers em 12 coordenadas (analisando latitude)\n",
      "2025-10-17 15:09:15,183 - loczcit_iqr.core.iqr_detector - INFO - Detecção concluída: 9 válidas, 3 outliers\n",
      "2025-10-17 15:09:15,183 - loczcit_iqr.core.processor - INFO - Buscando mínimos de OLR (método: local_minimum, threshold: 230, raio: 1px)\n",
      "2025-10-17 15:09:15,184 - loczcit_iqr.core.processor - INFO - Aplicando threshold OLR <= 230 W/m²\n",
      "2025-10-17 15:09:15,184 - loczcit_iqr.core.processor - INFO - Carregando área de estudo de: E:\\ambiente_python_2025-main\\src\\data\\shapefiles\\Area_LOCZCIT.parquet\n",
      "2025-10-17 15:09:15,199 - loczcit_iqr.core.processor - INFO - Encontradas 12 coordenadas de mínimo\n",
      "2025-10-17 15:09:15,199 - loczcit_iqr.core.spline_interpolator - INFO - Interpolando 9 coordenadas: método=bspline, pontos_saída=100\n",
      "2025-10-17 15:09:15,201 - loczcit_iqr.core.processor - INFO - Buscando mínimos de OLR (método: column_minimum, threshold: None, raio: 1px)\n",
      "2025-10-17 15:09:15,202 - loczcit_iqr.core.processor - INFO - Carregando área de estudo de: E:\\ambiente_python_2025-main\\src\\data\\shapefiles\\Area_LOCZCIT.parquet\n",
      "2025-10-17 15:09:15,218 - loczcit_iqr.core.processor - INFO - Encontradas 16 coordenadas de mínimo\n",
      "2025-10-17 15:09:15,219 - loczcit_iqr.core.iqr_detector - INFO - Detectando outliers em 16 coordenadas (analisando latitude)\n",
      "2025-10-17 15:09:15,220 - loczcit_iqr.core.iqr_detector - INFO - Detecção concluída: 11 válidas, 5 outliers\n",
      "2025-10-17 15:09:15,220 - loczcit_iqr.core.processor - INFO - Buscando mínimos de OLR (método: local_minimum, threshold: 230, raio: 1px)\n",
      "2025-10-17 15:09:15,221 - loczcit_iqr.core.processor - INFO - Aplicando threshold OLR <= 230 W/m²\n",
      "2025-10-17 15:09:15,222 - loczcit_iqr.core.processor - INFO - Carregando área de estudo de: E:\\ambiente_python_2025-main\\src\\data\\shapefiles\\Area_LOCZCIT.parquet\n",
      "2025-10-17 15:09:15,235 - loczcit_iqr.core.processor - INFO - Encontradas 15 coordenadas de mínimo\n",
      "2025-10-17 15:09:15,236 - loczcit_iqr.core.spline_interpolator - INFO - Interpolando 11 coordenadas: método=bspline, pontos_saída=100\n"
     ]
    },
    {
     "name": "stderr",
     "output_type": "stream",
     "text": [
      "Processando pentadas:  62%|██████▏   | 45/73 [00:01<00:01, 26.03it/s]"
     ]
    },
    {
     "name": "stdout",
     "output_type": "stream",
     "text": [
      "2025-10-17 15:09:15,239 - loczcit_iqr.core.processor - INFO - Buscando mínimos de OLR (método: column_minimum, threshold: None, raio: 1px)\n",
      "2025-10-17 15:09:15,240 - loczcit_iqr.core.processor - INFO - Carregando área de estudo de: E:\\ambiente_python_2025-main\\src\\data\\shapefiles\\Area_LOCZCIT.parquet\n",
      "2025-10-17 15:09:15,256 - loczcit_iqr.core.processor - INFO - Encontradas 15 coordenadas de mínimo\n",
      "2025-10-17 15:09:15,256 - loczcit_iqr.core.iqr_detector - INFO - Detectando outliers em 15 coordenadas (analisando latitude)\n",
      "2025-10-17 15:09:15,257 - loczcit_iqr.core.iqr_detector - INFO - Detecção concluída: 11 válidas, 4 outliers\n",
      "2025-10-17 15:09:15,258 - loczcit_iqr.core.processor - INFO - Buscando mínimos de OLR (método: local_minimum, threshold: 230, raio: 1px)\n",
      "2025-10-17 15:09:15,258 - loczcit_iqr.core.processor - INFO - Aplicando threshold OLR <= 230 W/m²\n",
      "2025-10-17 15:09:15,259 - loczcit_iqr.core.processor - INFO - Carregando área de estudo de: E:\\ambiente_python_2025-main\\src\\data\\shapefiles\\Area_LOCZCIT.parquet\n",
      "2025-10-17 15:09:15,277 - loczcit_iqr.core.processor - INFO - Encontradas 9 coordenadas de mínimo\n",
      "2025-10-17 15:09:15,278 - loczcit_iqr.core.spline_interpolator - INFO - Interpolando 11 coordenadas: método=bspline, pontos_saída=100\n",
      "2025-10-17 15:09:15,280 - loczcit_iqr.core.processor - INFO - Buscando mínimos de OLR (método: column_minimum, threshold: None, raio: 1px)\n",
      "2025-10-17 15:09:15,281 - loczcit_iqr.core.processor - INFO - Carregando área de estudo de: E:\\ambiente_python_2025-main\\src\\data\\shapefiles\\Area_LOCZCIT.parquet\n",
      "2025-10-17 15:09:15,298 - loczcit_iqr.core.processor - INFO - Encontradas 13 coordenadas de mínimo\n",
      "2025-10-17 15:09:15,299 - loczcit_iqr.core.iqr_detector - INFO - Detectando outliers em 13 coordenadas (analisando latitude)\n",
      "2025-10-17 15:09:15,300 - loczcit_iqr.core.iqr_detector - INFO - Detecção concluída: 10 válidas, 3 outliers\n",
      "2025-10-17 15:09:15,300 - loczcit_iqr.core.processor - INFO - Buscando mínimos de OLR (método: local_minimum, threshold: 230, raio: 1px)\n",
      "2025-10-17 15:09:15,301 - loczcit_iqr.core.processor - INFO - Aplicando threshold OLR <= 230 W/m²\n",
      "2025-10-17 15:09:15,301 - loczcit_iqr.core.processor - INFO - Carregando área de estudo de: E:\\ambiente_python_2025-main\\src\\data\\shapefiles\\Area_LOCZCIT.parquet\n",
      "2025-10-17 15:09:15,318 - loczcit_iqr.core.processor - INFO - Encontradas 17 coordenadas de mínimo\n",
      "2025-10-17 15:09:15,318 - loczcit_iqr.core.spline_interpolator - INFO - Interpolando 10 coordenadas: método=bspline, pontos_saída=100\n",
      "2025-10-17 15:09:15,320 - loczcit_iqr.core.processor - INFO - Buscando mínimos de OLR (método: column_minimum, threshold: None, raio: 1px)\n",
      "2025-10-17 15:09:15,321 - loczcit_iqr.core.processor - INFO - Carregando área de estudo de: E:\\ambiente_python_2025-main\\src\\data\\shapefiles\\Area_LOCZCIT.parquet\n",
      "2025-10-17 15:09:15,338 - loczcit_iqr.core.processor - INFO - Encontradas 17 coordenadas de mínimo\n",
      "2025-10-17 15:09:15,338 - loczcit_iqr.core.iqr_detector - INFO - Detectando outliers em 17 coordenadas (analisando latitude)\n",
      "2025-10-17 15:09:15,339 - loczcit_iqr.core.iqr_detector - INFO - Detecção concluída: 15 válidas, 2 outliers\n",
      "2025-10-17 15:09:15,340 - loczcit_iqr.core.processor - INFO - Buscando mínimos de OLR (método: local_minimum, threshold: 230, raio: 1px)\n",
      "2025-10-17 15:09:15,340 - loczcit_iqr.core.processor - INFO - Aplicando threshold OLR <= 230 W/m²\n",
      "2025-10-17 15:09:15,341 - loczcit_iqr.core.processor - INFO - Carregando área de estudo de: E:\\ambiente_python_2025-main\\src\\data\\shapefiles\\Area_LOCZCIT.parquet\n",
      "2025-10-17 15:09:15,355 - loczcit_iqr.core.processor - INFO - Encontradas 9 coordenadas de mínimo\n",
      "2025-10-17 15:09:15,356 - loczcit_iqr.core.spline_interpolator - INFO - Interpolando 15 coordenadas: método=bspline, pontos_saída=100\n"
     ]
    },
    {
     "name": "stderr",
     "output_type": "stream",
     "text": [
      "Processando pentadas:  66%|██████▌   | 48/73 [00:01<00:00, 25.70it/s]"
     ]
    },
    {
     "name": "stdout",
     "output_type": "stream",
     "text": [
      "2025-10-17 15:09:15,359 - loczcit_iqr.core.processor - INFO - Buscando mínimos de OLR (método: column_minimum, threshold: None, raio: 1px)\n",
      "2025-10-17 15:09:15,360 - loczcit_iqr.core.processor - INFO - Carregando área de estudo de: E:\\ambiente_python_2025-main\\src\\data\\shapefiles\\Area_LOCZCIT.parquet\n",
      "2025-10-17 15:09:15,376 - loczcit_iqr.core.processor - INFO - Encontradas 14 coordenadas de mínimo\n",
      "2025-10-17 15:09:15,376 - loczcit_iqr.core.iqr_detector - INFO - Detectando outliers em 14 coordenadas (analisando latitude)\n",
      "2025-10-17 15:09:15,377 - loczcit_iqr.core.iqr_detector - INFO - Detecção concluída: 12 válidas, 2 outliers\n",
      "2025-10-17 15:09:15,378 - loczcit_iqr.core.processor - INFO - Buscando mínimos de OLR (método: local_minimum, threshold: 230, raio: 1px)\n",
      "2025-10-17 15:09:15,379 - loczcit_iqr.core.processor - INFO - Aplicando threshold OLR <= 230 W/m²\n",
      "2025-10-17 15:09:15,379 - loczcit_iqr.core.processor - INFO - Carregando área de estudo de: E:\\ambiente_python_2025-main\\src\\data\\shapefiles\\Area_LOCZCIT.parquet\n",
      "2025-10-17 15:09:15,394 - loczcit_iqr.core.processor - INFO - Encontradas 18 coordenadas de mínimo\n",
      "2025-10-17 15:09:15,395 - loczcit_iqr.core.spline_interpolator - INFO - Interpolando 12 coordenadas: método=bspline, pontos_saída=100\n",
      "2025-10-17 15:09:15,397 - loczcit_iqr.core.processor - INFO - Buscando mínimos de OLR (método: column_minimum, threshold: None, raio: 1px)\n",
      "2025-10-17 15:09:15,398 - loczcit_iqr.core.processor - INFO - Carregando área de estudo de: E:\\ambiente_python_2025-main\\src\\data\\shapefiles\\Area_LOCZCIT.parquet\n",
      "2025-10-17 15:09:15,415 - loczcit_iqr.core.processor - INFO - Encontradas 15 coordenadas de mínimo\n",
      "2025-10-17 15:09:15,416 - loczcit_iqr.core.iqr_detector - INFO - Detectando outliers em 15 coordenadas (analisando latitude)\n",
      "2025-10-17 15:09:15,416 - loczcit_iqr.core.iqr_detector - INFO - Detecção concluída: 15 válidas, 0 outliers\n",
      "2025-10-17 15:09:15,417 - loczcit_iqr.core.processor - INFO - Buscando mínimos de OLR (método: local_minimum, threshold: 230, raio: 1px)\n",
      "2025-10-17 15:09:15,418 - loczcit_iqr.core.processor - INFO - Aplicando threshold OLR <= 230 W/m²\n",
      "2025-10-17 15:09:15,418 - loczcit_iqr.core.processor - INFO - Carregando área de estudo de: E:\\ambiente_python_2025-main\\src\\data\\shapefiles\\Area_LOCZCIT.parquet\n",
      "2025-10-17 15:09:15,433 - loczcit_iqr.core.processor - INFO - Encontradas 17 coordenadas de mínimo\n",
      "2025-10-17 15:09:15,433 - loczcit_iqr.core.spline_interpolator - INFO - Interpolando 15 coordenadas: método=bspline, pontos_saída=100\n",
      "2025-10-17 15:09:15,435 - loczcit_iqr.core.processor - INFO - Buscando mínimos de OLR (método: column_minimum, threshold: None, raio: 1px)\n",
      "2025-10-17 15:09:15,436 - loczcit_iqr.core.processor - INFO - Carregando área de estudo de: E:\\ambiente_python_2025-main\\src\\data\\shapefiles\\Area_LOCZCIT.parquet\n",
      "2025-10-17 15:09:15,453 - loczcit_iqr.core.processor - INFO - Encontradas 14 coordenadas de mínimo\n",
      "2025-10-17 15:09:15,453 - loczcit_iqr.core.iqr_detector - INFO - Detectando outliers em 14 coordenadas (analisando latitude)\n",
      "2025-10-17 15:09:15,454 - loczcit_iqr.core.iqr_detector - INFO - Detecção concluída: 11 válidas, 3 outliers\n",
      "2025-10-17 15:09:15,455 - loczcit_iqr.core.processor - INFO - Buscando mínimos de OLR (método: local_minimum, threshold: 230, raio: 1px)\n",
      "2025-10-17 15:09:15,456 - loczcit_iqr.core.processor - INFO - Aplicando threshold OLR <= 230 W/m²\n",
      "2025-10-17 15:09:15,456 - loczcit_iqr.core.processor - INFO - Carregando área de estudo de: E:\\ambiente_python_2025-main\\src\\data\\shapefiles\\Area_LOCZCIT.parquet\n",
      "2025-10-17 15:09:15,471 - loczcit_iqr.core.processor - INFO - Encontradas 20 coordenadas de mínimo\n",
      "2025-10-17 15:09:15,471 - loczcit_iqr.core.spline_interpolator - INFO - Interpolando 11 coordenadas: método=bspline, pontos_saída=100\n"
     ]
    },
    {
     "name": "stderr",
     "output_type": "stream",
     "text": [
      "Processando pentadas:  70%|██████▉   | 51/73 [00:01<00:00, 25.83it/s]"
     ]
    },
    {
     "name": "stdout",
     "output_type": "stream",
     "text": [
      "2025-10-17 15:09:15,474 - loczcit_iqr.core.processor - INFO - Buscando mínimos de OLR (método: column_minimum, threshold: None, raio: 1px)\n",
      "2025-10-17 15:09:15,475 - loczcit_iqr.core.processor - INFO - Carregando área de estudo de: E:\\ambiente_python_2025-main\\src\\data\\shapefiles\\Area_LOCZCIT.parquet\n",
      "2025-10-17 15:09:15,491 - loczcit_iqr.core.processor - INFO - Encontradas 15 coordenadas de mínimo\n",
      "2025-10-17 15:09:15,492 - loczcit_iqr.core.iqr_detector - INFO - Detectando outliers em 15 coordenadas (analisando latitude)\n",
      "2025-10-17 15:09:15,493 - loczcit_iqr.core.iqr_detector - INFO - Detecção concluída: 12 válidas, 3 outliers\n",
      "2025-10-17 15:09:15,493 - loczcit_iqr.core.processor - INFO - Buscando mínimos de OLR (método: local_minimum, threshold: 230, raio: 1px)\n",
      "2025-10-17 15:09:15,494 - loczcit_iqr.core.processor - INFO - Aplicando threshold OLR <= 230 W/m²\n",
      "2025-10-17 15:09:15,495 - loczcit_iqr.core.processor - INFO - Carregando área de estudo de: E:\\ambiente_python_2025-main\\src\\data\\shapefiles\\Area_LOCZCIT.parquet\n",
      "2025-10-17 15:09:15,511 - loczcit_iqr.core.processor - INFO - Encontradas 15 coordenadas de mínimo\n",
      "2025-10-17 15:09:15,512 - loczcit_iqr.core.spline_interpolator - INFO - Interpolando 12 coordenadas: método=bspline, pontos_saída=100\n",
      "2025-10-17 15:09:15,514 - loczcit_iqr.core.processor - INFO - Buscando mínimos de OLR (método: column_minimum, threshold: None, raio: 1px)\n",
      "2025-10-17 15:09:15,515 - loczcit_iqr.core.processor - INFO - Carregando área de estudo de: E:\\ambiente_python_2025-main\\src\\data\\shapefiles\\Area_LOCZCIT.parquet\n",
      "2025-10-17 15:09:15,532 - loczcit_iqr.core.processor - INFO - Encontradas 15 coordenadas de mínimo\n",
      "2025-10-17 15:09:15,532 - loczcit_iqr.core.iqr_detector - INFO - Detectando outliers em 15 coordenadas (analisando latitude)\n",
      "2025-10-17 15:09:15,533 - loczcit_iqr.core.iqr_detector - INFO - Detecção concluída: 12 válidas, 3 outliers\n",
      "2025-10-17 15:09:15,534 - loczcit_iqr.core.processor - INFO - Buscando mínimos de OLR (método: local_minimum, threshold: 230, raio: 1px)\n",
      "2025-10-17 15:09:15,534 - loczcit_iqr.core.processor - INFO - Aplicando threshold OLR <= 230 W/m²\n",
      "2025-10-17 15:09:15,535 - loczcit_iqr.core.processor - INFO - Carregando área de estudo de: E:\\ambiente_python_2025-main\\src\\data\\shapefiles\\Area_LOCZCIT.parquet\n",
      "2025-10-17 15:09:15,549 - loczcit_iqr.core.processor - INFO - Encontradas 5 coordenadas de mínimo\n",
      "2025-10-17 15:09:15,550 - loczcit_iqr.core.spline_interpolator - INFO - Interpolando 12 coordenadas: método=bspline, pontos_saída=100\n",
      "2025-10-17 15:09:15,552 - loczcit_iqr.core.processor - INFO - Buscando mínimos de OLR (método: column_minimum, threshold: None, raio: 1px)\n",
      "2025-10-17 15:09:15,552 - loczcit_iqr.core.processor - INFO - Carregando área de estudo de: E:\\ambiente_python_2025-main\\src\\data\\shapefiles\\Area_LOCZCIT.parquet\n",
      "2025-10-17 15:09:15,569 - loczcit_iqr.core.processor - INFO - Encontradas 11 coordenadas de mínimo\n",
      "2025-10-17 15:09:15,569 - loczcit_iqr.core.iqr_detector - INFO - Detectando outliers em 11 coordenadas (analisando latitude)\n",
      "2025-10-17 15:09:15,570 - loczcit_iqr.core.iqr_detector - INFO - Detecção concluída: 11 válidas, 0 outliers\n",
      "2025-10-17 15:09:15,570 - loczcit_iqr.core.processor - INFO - Buscando mínimos de OLR (método: local_minimum, threshold: 230, raio: 1px)\n",
      "2025-10-17 15:09:15,571 - loczcit_iqr.core.processor - INFO - Aplicando threshold OLR <= 230 W/m²\n",
      "2025-10-17 15:09:15,572 - loczcit_iqr.core.processor - INFO - Carregando área de estudo de: E:\\ambiente_python_2025-main\\src\\data\\shapefiles\\Area_LOCZCIT.parquet\n",
      "2025-10-17 15:09:15,586 - loczcit_iqr.core.processor - INFO - Encontradas 10 coordenadas de mínimo\n",
      "2025-10-17 15:09:15,587 - loczcit_iqr.core.spline_interpolator - INFO - Interpolando 11 coordenadas: método=bspline, pontos_saída=100\n"
     ]
    },
    {
     "name": "stderr",
     "output_type": "stream",
     "text": [
      "Processando pentadas:  74%|███████▍  | 54/73 [00:02<00:00, 25.85it/s]"
     ]
    },
    {
     "name": "stdout",
     "output_type": "stream",
     "text": [
      "2025-10-17 15:09:15,590 - loczcit_iqr.core.processor - INFO - Buscando mínimos de OLR (método: column_minimum, threshold: None, raio: 1px)\n",
      "2025-10-17 15:09:15,591 - loczcit_iqr.core.processor - INFO - Carregando área de estudo de: E:\\ambiente_python_2025-main\\src\\data\\shapefiles\\Area_LOCZCIT.parquet\n",
      "2025-10-17 15:09:15,607 - loczcit_iqr.core.processor - INFO - Encontradas 12 coordenadas de mínimo\n",
      "2025-10-17 15:09:15,608 - loczcit_iqr.core.iqr_detector - INFO - Detectando outliers em 12 coordenadas (analisando latitude)\n",
      "2025-10-17 15:09:15,609 - loczcit_iqr.core.iqr_detector - INFO - Detecção concluída: 12 válidas, 0 outliers\n",
      "2025-10-17 15:09:15,610 - loczcit_iqr.core.processor - INFO - Buscando mínimos de OLR (método: local_minimum, threshold: 230, raio: 1px)\n",
      "2025-10-17 15:09:15,611 - loczcit_iqr.core.processor - INFO - Aplicando threshold OLR <= 230 W/m²\n",
      "2025-10-17 15:09:15,611 - loczcit_iqr.core.processor - INFO - Carregando área de estudo de: E:\\ambiente_python_2025-main\\src\\data\\shapefiles\\Area_LOCZCIT.parquet\n",
      "2025-10-17 15:09:15,626 - loczcit_iqr.core.processor - INFO - Encontradas 18 coordenadas de mínimo\n",
      "2025-10-17 15:09:15,627 - loczcit_iqr.core.spline_interpolator - INFO - Interpolando 12 coordenadas: método=bspline, pontos_saída=100\n",
      "2025-10-17 15:09:15,629 - loczcit_iqr.core.processor - INFO - Buscando mínimos de OLR (método: column_minimum, threshold: None, raio: 1px)\n",
      "2025-10-17 15:09:15,630 - loczcit_iqr.core.processor - INFO - Carregando área de estudo de: E:\\ambiente_python_2025-main\\src\\data\\shapefiles\\Area_LOCZCIT.parquet\n",
      "2025-10-17 15:09:15,648 - loczcit_iqr.core.processor - INFO - Encontradas 15 coordenadas de mínimo\n",
      "2025-10-17 15:09:15,648 - loczcit_iqr.core.iqr_detector - INFO - Detectando outliers em 15 coordenadas (analisando latitude)\n",
      "2025-10-17 15:09:15,649 - loczcit_iqr.core.iqr_detector - INFO - Detecção concluída: 15 válidas, 0 outliers\n",
      "2025-10-17 15:09:15,650 - loczcit_iqr.core.processor - INFO - Buscando mínimos de OLR (método: local_minimum, threshold: 230, raio: 1px)\n",
      "2025-10-17 15:09:15,650 - loczcit_iqr.core.processor - INFO - Aplicando threshold OLR <= 230 W/m²\n",
      "2025-10-17 15:09:15,651 - loczcit_iqr.core.processor - INFO - Carregando área de estudo de: E:\\ambiente_python_2025-main\\src\\data\\shapefiles\\Area_LOCZCIT.parquet\n",
      "2025-10-17 15:09:15,665 - loczcit_iqr.core.processor - INFO - Encontradas 15 coordenadas de mínimo\n",
      "2025-10-17 15:09:15,666 - loczcit_iqr.core.spline_interpolator - INFO - Interpolando 15 coordenadas: método=bspline, pontos_saída=100\n",
      "2025-10-17 15:09:15,668 - loczcit_iqr.core.processor - INFO - Buscando mínimos de OLR (método: column_minimum, threshold: None, raio: 1px)\n",
      "2025-10-17 15:09:15,669 - loczcit_iqr.core.processor - INFO - Carregando área de estudo de: E:\\ambiente_python_2025-main\\src\\data\\shapefiles\\Area_LOCZCIT.parquet\n",
      "2025-10-17 15:09:15,686 - loczcit_iqr.core.processor - INFO - Encontradas 13 coordenadas de mínimo\n",
      "2025-10-17 15:09:15,687 - loczcit_iqr.core.iqr_detector - INFO - Detectando outliers em 13 coordenadas (analisando latitude)\n",
      "2025-10-17 15:09:15,688 - loczcit_iqr.core.iqr_detector - INFO - Detecção concluída: 11 válidas, 2 outliers\n",
      "2025-10-17 15:09:15,689 - loczcit_iqr.core.processor - INFO - Buscando mínimos de OLR (método: local_minimum, threshold: 230, raio: 1px)\n",
      "2025-10-17 15:09:15,689 - loczcit_iqr.core.processor - INFO - Aplicando threshold OLR <= 230 W/m²\n",
      "2025-10-17 15:09:15,690 - loczcit_iqr.core.processor - INFO - Carregando área de estudo de: E:\\ambiente_python_2025-main\\src\\data\\shapefiles\\Area_LOCZCIT.parquet\n",
      "2025-10-17 15:09:15,704 - loczcit_iqr.core.processor - INFO - Encontradas 3 coordenadas de mínimo\n",
      "2025-10-17 15:09:15,705 - loczcit_iqr.core.spline_interpolator - INFO - Interpolando 11 coordenadas: método=bspline, pontos_saída=100\n"
     ]
    },
    {
     "name": "stderr",
     "output_type": "stream",
     "text": [
      "Processando pentadas:  78%|███████▊  | 57/73 [00:02<00:00, 25.70it/s]"
     ]
    },
    {
     "name": "stdout",
     "output_type": "stream",
     "text": [
      "2025-10-17 15:09:15,708 - loczcit_iqr.core.processor - INFO - Buscando mínimos de OLR (método: column_minimum, threshold: None, raio: 1px)\n",
      "2025-10-17 15:09:15,709 - loczcit_iqr.core.processor - INFO - Carregando área de estudo de: E:\\ambiente_python_2025-main\\src\\data\\shapefiles\\Area_LOCZCIT.parquet\n",
      "2025-10-17 15:09:15,725 - loczcit_iqr.core.processor - INFO - Encontradas 12 coordenadas de mínimo\n",
      "2025-10-17 15:09:15,725 - loczcit_iqr.core.iqr_detector - INFO - Detectando outliers em 12 coordenadas (analisando latitude)\n",
      "2025-10-17 15:09:15,726 - loczcit_iqr.core.iqr_detector - INFO - Detecção concluída: 12 válidas, 0 outliers\n",
      "2025-10-17 15:09:15,726 - loczcit_iqr.core.processor - INFO - Buscando mínimos de OLR (método: local_minimum, threshold: 230, raio: 1px)\n",
      "2025-10-17 15:09:15,727 - loczcit_iqr.core.processor - INFO - Aplicando threshold OLR <= 230 W/m²\n",
      "2025-10-17 15:09:15,728 - loczcit_iqr.core.processor - INFO - Carregando área de estudo de: E:\\ambiente_python_2025-main\\src\\data\\shapefiles\\Area_LOCZCIT.parquet\n",
      "2025-10-17 15:09:15,744 - loczcit_iqr.core.processor - INFO - Encontradas 7 coordenadas de mínimo\n",
      "2025-10-17 15:09:15,744 - loczcit_iqr.core.spline_interpolator - INFO - Interpolando 12 coordenadas: método=bspline, pontos_saída=100\n",
      "2025-10-17 15:09:15,747 - loczcit_iqr.core.processor - INFO - Buscando mínimos de OLR (método: column_minimum, threshold: None, raio: 1px)\n",
      "2025-10-17 15:09:15,747 - loczcit_iqr.core.processor - INFO - Carregando área de estudo de: E:\\ambiente_python_2025-main\\src\\data\\shapefiles\\Area_LOCZCIT.parquet\n",
      "2025-10-17 15:09:15,765 - loczcit_iqr.core.processor - INFO - Encontradas 12 coordenadas de mínimo\n",
      "2025-10-17 15:09:15,766 - loczcit_iqr.core.iqr_detector - INFO - Detectando outliers em 12 coordenadas (analisando latitude)\n",
      "2025-10-17 15:09:15,766 - loczcit_iqr.core.iqr_detector - INFO - Detecção concluída: 12 válidas, 0 outliers\n",
      "2025-10-17 15:09:15,767 - loczcit_iqr.core.processor - INFO - Buscando mínimos de OLR (método: local_minimum, threshold: 230, raio: 1px)\n",
      "2025-10-17 15:09:15,768 - loczcit_iqr.core.processor - INFO - Aplicando threshold OLR <= 230 W/m²\n",
      "2025-10-17 15:09:15,768 - loczcit_iqr.core.processor - INFO - Carregando área de estudo de: E:\\ambiente_python_2025-main\\src\\data\\shapefiles\\Area_LOCZCIT.parquet\n",
      "2025-10-17 15:09:15,783 - loczcit_iqr.core.processor - INFO - Encontradas 10 coordenadas de mínimo\n",
      "2025-10-17 15:09:15,784 - loczcit_iqr.core.spline_interpolator - INFO - Interpolando 12 coordenadas: método=bspline, pontos_saída=100\n",
      "2025-10-17 15:09:15,786 - loczcit_iqr.core.processor - INFO - Buscando mínimos de OLR (método: column_minimum, threshold: None, raio: 1px)\n",
      "2025-10-17 15:09:15,787 - loczcit_iqr.core.processor - INFO - Carregando área de estudo de: E:\\ambiente_python_2025-main\\src\\data\\shapefiles\\Area_LOCZCIT.parquet\n",
      "2025-10-17 15:09:15,803 - loczcit_iqr.core.processor - INFO - Encontradas 14 coordenadas de mínimo\n",
      "2025-10-17 15:09:15,804 - loczcit_iqr.core.iqr_detector - INFO - Detectando outliers em 14 coordenadas (analisando latitude)\n",
      "2025-10-17 15:09:15,805 - loczcit_iqr.core.iqr_detector - INFO - Detecção concluída: 12 válidas, 2 outliers\n",
      "2025-10-17 15:09:15,805 - loczcit_iqr.core.processor - INFO - Buscando mínimos de OLR (método: local_minimum, threshold: 230, raio: 1px)\n",
      "2025-10-17 15:09:15,806 - loczcit_iqr.core.processor - INFO - Aplicando threshold OLR <= 230 W/m²\n",
      "2025-10-17 15:09:15,807 - loczcit_iqr.core.processor - INFO - Carregando área de estudo de: E:\\ambiente_python_2025-main\\src\\data\\shapefiles\\Area_LOCZCIT.parquet\n",
      "2025-10-17 15:09:15,822 - loczcit_iqr.core.processor - INFO - Encontradas 12 coordenadas de mínimo\n",
      "2025-10-17 15:09:15,822 - loczcit_iqr.core.spline_interpolator - INFO - Interpolando 12 coordenadas: método=bspline, pontos_saída=100\n"
     ]
    },
    {
     "name": "stderr",
     "output_type": "stream",
     "text": [
      "Processando pentadas:  82%|████████▏ | 60/73 [00:02<00:00, 25.62it/s]"
     ]
    },
    {
     "name": "stdout",
     "output_type": "stream",
     "text": [
      "2025-10-17 15:09:15,826 - loczcit_iqr.core.processor - INFO - Buscando mínimos de OLR (método: column_minimum, threshold: None, raio: 1px)\n",
      "2025-10-17 15:09:15,827 - loczcit_iqr.core.processor - INFO - Carregando área de estudo de: E:\\ambiente_python_2025-main\\src\\data\\shapefiles\\Area_LOCZCIT.parquet\n",
      "2025-10-17 15:09:15,847 - loczcit_iqr.core.processor - INFO - Encontradas 13 coordenadas de mínimo\n",
      "2025-10-17 15:09:15,848 - loczcit_iqr.core.iqr_detector - INFO - Detectando outliers em 13 coordenadas (analisando latitude)\n",
      "2025-10-17 15:09:15,849 - loczcit_iqr.core.iqr_detector - INFO - Detecção concluída: 11 válidas, 2 outliers\n",
      "2025-10-17 15:09:15,849 - loczcit_iqr.core.processor - INFO - Buscando mínimos de OLR (método: local_minimum, threshold: 230, raio: 1px)\n",
      "2025-10-17 15:09:15,850 - loczcit_iqr.core.processor - INFO - Aplicando threshold OLR <= 230 W/m²\n",
      "2025-10-17 15:09:15,850 - loczcit_iqr.core.processor - INFO - Carregando área de estudo de: E:\\ambiente_python_2025-main\\src\\data\\shapefiles\\Area_LOCZCIT.parquet\n",
      "2025-10-17 15:09:15,866 - loczcit_iqr.core.processor - INFO - Encontradas 8 coordenadas de mínimo\n",
      "2025-10-17 15:09:15,867 - loczcit_iqr.core.spline_interpolator - INFO - Interpolando 11 coordenadas: método=bspline, pontos_saída=100\n",
      "2025-10-17 15:09:15,869 - loczcit_iqr.core.processor - INFO - Buscando mínimos de OLR (método: column_minimum, threshold: None, raio: 1px)\n",
      "2025-10-17 15:09:15,869 - loczcit_iqr.core.processor - INFO - Carregando área de estudo de: E:\\ambiente_python_2025-main\\src\\data\\shapefiles\\Area_LOCZCIT.parquet\n",
      "2025-10-17 15:09:15,886 - loczcit_iqr.core.processor - INFO - Encontradas 12 coordenadas de mínimo\n",
      "2025-10-17 15:09:15,887 - loczcit_iqr.core.iqr_detector - INFO - Detectando outliers em 12 coordenadas (analisando latitude)\n",
      "2025-10-17 15:09:15,888 - loczcit_iqr.core.iqr_detector - INFO - Detecção concluída: 10 válidas, 2 outliers\n",
      "2025-10-17 15:09:15,888 - loczcit_iqr.core.processor - INFO - Buscando mínimos de OLR (método: local_minimum, threshold: 230, raio: 1px)\n",
      "2025-10-17 15:09:15,889 - loczcit_iqr.core.processor - INFO - Aplicando threshold OLR <= 230 W/m²\n",
      "2025-10-17 15:09:15,890 - loczcit_iqr.core.processor - INFO - Carregando área de estudo de: E:\\ambiente_python_2025-main\\src\\data\\shapefiles\\Area_LOCZCIT.parquet\n",
      "2025-10-17 15:09:15,904 - loczcit_iqr.core.processor - INFO - Encontradas 13 coordenadas de mínimo\n",
      "2025-10-17 15:09:15,905 - loczcit_iqr.core.spline_interpolator - INFO - Interpolando 10 coordenadas: método=bspline, pontos_saída=100\n",
      "2025-10-17 15:09:15,907 - loczcit_iqr.core.processor - INFO - Buscando mínimos de OLR (método: column_minimum, threshold: None, raio: 1px)\n",
      "2025-10-17 15:09:15,908 - loczcit_iqr.core.processor - INFO - Carregando área de estudo de: E:\\ambiente_python_2025-main\\src\\data\\shapefiles\\Area_LOCZCIT.parquet\n",
      "2025-10-17 15:09:15,923 - loczcit_iqr.core.processor - INFO - Encontradas 18 coordenadas de mínimo\n",
      "2025-10-17 15:09:15,924 - loczcit_iqr.core.iqr_detector - INFO - Detectando outliers em 18 coordenadas (analisando latitude)\n",
      "2025-10-17 15:09:15,925 - loczcit_iqr.core.iqr_detector - INFO - Detecção concluída: 17 válidas, 1 outliers\n",
      "2025-10-17 15:09:15,925 - loczcit_iqr.core.processor - INFO - Buscando mínimos de OLR (método: local_minimum, threshold: 230, raio: 1px)\n",
      "2025-10-17 15:09:15,926 - loczcit_iqr.core.processor - INFO - Aplicando threshold OLR <= 230 W/m²\n",
      "2025-10-17 15:09:15,926 - loczcit_iqr.core.processor - INFO - Carregando área de estudo de: E:\\ambiente_python_2025-main\\src\\data\\shapefiles\\Area_LOCZCIT.parquet\n",
      "2025-10-17 15:09:15,940 - loczcit_iqr.core.processor - INFO - Encontradas 16 coordenadas de mínimo\n",
      "2025-10-17 15:09:15,941 - loczcit_iqr.core.spline_interpolator - INFO - Interpolando 17 coordenadas: método=bspline, pontos_saída=100\n"
     ]
    },
    {
     "name": "stderr",
     "output_type": "stream",
     "text": [
      "Processando pentadas:  86%|████████▋ | 63/73 [00:02<00:00, 25.58it/s]"
     ]
    },
    {
     "name": "stdout",
     "output_type": "stream",
     "text": [
      "2025-10-17 15:09:15,944 - loczcit_iqr.core.processor - INFO - Buscando mínimos de OLR (método: column_minimum, threshold: None, raio: 1px)\n",
      "2025-10-17 15:09:15,944 - loczcit_iqr.core.processor - INFO - Carregando área de estudo de: E:\\ambiente_python_2025-main\\src\\data\\shapefiles\\Area_LOCZCIT.parquet\n",
      "2025-10-17 15:09:15,961 - loczcit_iqr.core.processor - INFO - Encontradas 12 coordenadas de mínimo\n",
      "2025-10-17 15:09:15,962 - loczcit_iqr.core.iqr_detector - INFO - Detectando outliers em 12 coordenadas (analisando latitude)\n",
      "2025-10-17 15:09:15,962 - loczcit_iqr.core.iqr_detector - INFO - Detecção concluída: 10 válidas, 2 outliers\n",
      "2025-10-17 15:09:15,963 - loczcit_iqr.core.processor - INFO - Buscando mínimos de OLR (método: local_minimum, threshold: 230, raio: 1px)\n",
      "2025-10-17 15:09:15,964 - loczcit_iqr.core.processor - INFO - Aplicando threshold OLR <= 230 W/m²\n",
      "2025-10-17 15:09:15,964 - loczcit_iqr.core.processor - INFO - Carregando área de estudo de: E:\\ambiente_python_2025-main\\src\\data\\shapefiles\\Area_LOCZCIT.parquet\n",
      "2025-10-17 15:09:15,980 - loczcit_iqr.core.processor - INFO - Encontradas 8 coordenadas de mínimo\n",
      "2025-10-17 15:09:15,981 - loczcit_iqr.core.spline_interpolator - INFO - Interpolando 10 coordenadas: método=bspline, pontos_saída=100\n",
      "2025-10-17 15:09:15,983 - loczcit_iqr.core.processor - INFO - Buscando mínimos de OLR (método: column_minimum, threshold: None, raio: 1px)\n",
      "2025-10-17 15:09:15,984 - loczcit_iqr.core.processor - INFO - Carregando área de estudo de: E:\\ambiente_python_2025-main\\src\\data\\shapefiles\\Area_LOCZCIT.parquet\n",
      "2025-10-17 15:09:16,001 - loczcit_iqr.core.processor - INFO - Encontradas 16 coordenadas de mínimo\n",
      "2025-10-17 15:09:16,002 - loczcit_iqr.core.iqr_detector - INFO - Detectando outliers em 16 coordenadas (analisando latitude)\n",
      "2025-10-17 15:09:16,003 - loczcit_iqr.core.iqr_detector - INFO - Detecção concluída: 12 válidas, 4 outliers\n",
      "2025-10-17 15:09:16,003 - loczcit_iqr.core.processor - INFO - Buscando mínimos de OLR (método: local_minimum, threshold: 230, raio: 1px)\n",
      "2025-10-17 15:09:16,004 - loczcit_iqr.core.processor - INFO - Aplicando threshold OLR <= 230 W/m²\n",
      "2025-10-17 15:09:16,004 - loczcit_iqr.core.processor - INFO - Carregando área de estudo de: E:\\ambiente_python_2025-main\\src\\data\\shapefiles\\Area_LOCZCIT.parquet\n",
      "2025-10-17 15:09:16,019 - loczcit_iqr.core.processor - INFO - Encontradas 14 coordenadas de mínimo\n",
      "2025-10-17 15:09:16,020 - loczcit_iqr.core.spline_interpolator - INFO - Interpolando 12 coordenadas: método=bspline, pontos_saída=100\n",
      "2025-10-17 15:09:16,022 - loczcit_iqr.core.processor - INFO - Buscando mínimos de OLR (método: column_minimum, threshold: None, raio: 1px)\n",
      "2025-10-17 15:09:16,023 - loczcit_iqr.core.processor - INFO - Carregando área de estudo de: E:\\ambiente_python_2025-main\\src\\data\\shapefiles\\Area_LOCZCIT.parquet\n",
      "2025-10-17 15:09:16,039 - loczcit_iqr.core.processor - INFO - Encontradas 11 coordenadas de mínimo\n",
      "2025-10-17 15:09:16,040 - loczcit_iqr.core.iqr_detector - INFO - Detectando outliers em 11 coordenadas (analisando latitude)\n",
      "2025-10-17 15:09:16,040 - loczcit_iqr.core.iqr_detector - INFO - Detecção concluída: 11 válidas, 0 outliers\n",
      "2025-10-17 15:09:16,041 - loczcit_iqr.core.processor - INFO - Buscando mínimos de OLR (método: local_minimum, threshold: 230, raio: 1px)\n",
      "2025-10-17 15:09:16,042 - loczcit_iqr.core.processor - INFO - Aplicando threshold OLR <= 230 W/m²\n",
      "2025-10-17 15:09:16,042 - loczcit_iqr.core.processor - INFO - Carregando área de estudo de: E:\\ambiente_python_2025-main\\src\\data\\shapefiles\\Area_LOCZCIT.parquet\n",
      "2025-10-17 15:09:16,057 - loczcit_iqr.core.processor - INFO - Encontradas 7 coordenadas de mínimo\n",
      "2025-10-17 15:09:16,057 - loczcit_iqr.core.spline_interpolator - INFO - Interpolando 11 coordenadas: método=bspline, pontos_saída=100\n",
      "2025-10-17 15:09:16,058 - loczcit_iqr.core.spline_interpolator - WARNING - Detectados 1 gaps grandes (>5.0x mediana=2.00°)\n"
     ]
    },
    {
     "name": "stderr",
     "output_type": "stream",
     "text": [
      "Processando pentadas:  90%|█████████ | 66/73 [00:02<00:00, 25.59it/s]"
     ]
    },
    {
     "name": "stdout",
     "output_type": "stream",
     "text": [
      "2025-10-17 15:09:16,061 - loczcit_iqr.core.processor - INFO - Buscando mínimos de OLR (método: column_minimum, threshold: None, raio: 1px)\n",
      "2025-10-17 15:09:16,061 - loczcit_iqr.core.processor - INFO - Carregando área de estudo de: E:\\ambiente_python_2025-main\\src\\data\\shapefiles\\Area_LOCZCIT.parquet\n",
      "2025-10-17 15:09:16,078 - loczcit_iqr.core.processor - INFO - Encontradas 12 coordenadas de mínimo\n",
      "2025-10-17 15:09:16,078 - loczcit_iqr.core.iqr_detector - INFO - Detectando outliers em 12 coordenadas (analisando latitude)\n",
      "2025-10-17 15:09:16,079 - loczcit_iqr.core.iqr_detector - INFO - Detecção concluída: 12 válidas, 0 outliers\n",
      "2025-10-17 15:09:16,080 - loczcit_iqr.core.processor - INFO - Buscando mínimos de OLR (método: local_minimum, threshold: 230, raio: 1px)\n",
      "2025-10-17 15:09:16,080 - loczcit_iqr.core.processor - INFO - Aplicando threshold OLR <= 230 W/m²\n",
      "2025-10-17 15:09:16,081 - loczcit_iqr.core.processor - INFO - Carregando área de estudo de: E:\\ambiente_python_2025-main\\src\\data\\shapefiles\\Area_LOCZCIT.parquet\n",
      "2025-10-17 15:09:16,096 - loczcit_iqr.core.processor - INFO - Encontradas 6 coordenadas de mínimo\n",
      "2025-10-17 15:09:16,097 - loczcit_iqr.core.spline_interpolator - INFO - Interpolando 12 coordenadas: método=bspline, pontos_saída=100\n",
      "2025-10-17 15:09:16,098 - loczcit_iqr.core.spline_interpolator - WARNING - Detectados 1 gaps grandes (>5.0x mediana=1.50°)\n",
      "2025-10-17 15:09:16,100 - loczcit_iqr.core.processor - INFO - Buscando mínimos de OLR (método: column_minimum, threshold: None, raio: 1px)\n",
      "2025-10-17 15:09:16,100 - loczcit_iqr.core.processor - INFO - Carregando área de estudo de: E:\\ambiente_python_2025-main\\src\\data\\shapefiles\\Area_LOCZCIT.parquet\n",
      "2025-10-17 15:09:16,117 - loczcit_iqr.core.processor - INFO - Encontradas 13 coordenadas de mínimo\n",
      "2025-10-17 15:09:16,118 - loczcit_iqr.core.iqr_detector - INFO - Detectando outliers em 13 coordenadas (analisando latitude)\n",
      "2025-10-17 15:09:16,119 - loczcit_iqr.core.iqr_detector - INFO - Detecção concluída: 8 válidas, 5 outliers\n",
      "2025-10-17 15:09:16,119 - loczcit_iqr.core.processor - INFO - Buscando mínimos de OLR (método: local_minimum, threshold: 230, raio: 1px)\n",
      "2025-10-17 15:09:16,120 - loczcit_iqr.core.processor - INFO - Aplicando threshold OLR <= 230 W/m²\n",
      "2025-10-17 15:09:16,121 - loczcit_iqr.core.processor - INFO - Carregando área de estudo de: E:\\ambiente_python_2025-main\\src\\data\\shapefiles\\Area_LOCZCIT.parquet\n",
      "2025-10-17 15:09:16,135 - loczcit_iqr.core.processor - INFO - Encontradas 11 coordenadas de mínimo\n",
      "2025-10-17 15:09:16,136 - loczcit_iqr.core.spline_interpolator - INFO - Interpolando 8 coordenadas: método=bspline, pontos_saída=100\n",
      "2025-10-17 15:09:16,137 - loczcit_iqr.core.spline_interpolator - WARNING - Detectados 1 gaps grandes (>5.0x mediana=2.25°)\n",
      "2025-10-17 15:09:16,139 - loczcit_iqr.core.processor - INFO - Buscando mínimos de OLR (método: column_minimum, threshold: None, raio: 1px)\n",
      "2025-10-17 15:09:16,139 - loczcit_iqr.core.processor - INFO - Carregando área de estudo de: E:\\ambiente_python_2025-main\\src\\data\\shapefiles\\Area_LOCZCIT.parquet\n",
      "2025-10-17 15:09:16,156 - loczcit_iqr.core.processor - INFO - Encontradas 19 coordenadas de mínimo\n",
      "2025-10-17 15:09:16,156 - loczcit_iqr.core.iqr_detector - INFO - Detectando outliers em 19 coordenadas (analisando latitude)\n",
      "2025-10-17 15:09:16,157 - loczcit_iqr.core.iqr_detector - INFO - Detecção concluída: 18 válidas, 1 outliers\n",
      "2025-10-17 15:09:16,158 - loczcit_iqr.core.processor - INFO - Buscando mínimos de OLR (método: local_minimum, threshold: 230, raio: 1px)\n",
      "2025-10-17 15:09:16,159 - loczcit_iqr.core.processor - INFO - Aplicando threshold OLR <= 230 W/m²\n",
      "2025-10-17 15:09:16,159 - loczcit_iqr.core.processor - INFO - Carregando área de estudo de: E:\\ambiente_python_2025-main\\src\\data\\shapefiles\\Area_LOCZCIT.parquet\n",
      "2025-10-17 15:09:16,175 - loczcit_iqr.core.processor - INFO - Encontradas 19 coordenadas de mínimo\n",
      "2025-10-17 15:09:16,176 - loczcit_iqr.core.spline_interpolator - INFO - Interpolando 18 coordenadas: método=bspline, pontos_saída=100\n"
     ]
    },
    {
     "name": "stderr",
     "output_type": "stream",
     "text": [
      "Processando pentadas:  95%|█████████▍| 69/73 [00:02<00:00, 25.55it/s]"
     ]
    },
    {
     "name": "stdout",
     "output_type": "stream",
     "text": [
      "2025-10-17 15:09:16,179 - loczcit_iqr.core.processor - INFO - Buscando mínimos de OLR (método: column_minimum, threshold: None, raio: 1px)\n",
      "2025-10-17 15:09:16,179 - loczcit_iqr.core.processor - INFO - Carregando área de estudo de: E:\\ambiente_python_2025-main\\src\\data\\shapefiles\\Area_LOCZCIT.parquet\n",
      "2025-10-17 15:09:16,197 - loczcit_iqr.core.processor - INFO - Encontradas 15 coordenadas de mínimo\n",
      "2025-10-17 15:09:16,198 - loczcit_iqr.core.iqr_detector - INFO - Detectando outliers em 15 coordenadas (analisando latitude)\n",
      "2025-10-17 15:09:16,199 - loczcit_iqr.core.iqr_detector - INFO - Detecção concluída: 15 válidas, 0 outliers\n",
      "2025-10-17 15:09:16,200 - loczcit_iqr.core.processor - INFO - Buscando mínimos de OLR (método: local_minimum, threshold: 230, raio: 1px)\n",
      "2025-10-17 15:09:16,200 - loczcit_iqr.core.processor - INFO - Aplicando threshold OLR <= 230 W/m²\n",
      "2025-10-17 15:09:16,201 - loczcit_iqr.core.processor - INFO - Carregando área de estudo de: E:\\ambiente_python_2025-main\\src\\data\\shapefiles\\Area_LOCZCIT.parquet\n",
      "2025-10-17 15:09:16,215 - loczcit_iqr.core.processor - INFO - Encontradas 10 coordenadas de mínimo\n",
      "2025-10-17 15:09:16,216 - loczcit_iqr.core.spline_interpolator - INFO - Interpolando 15 coordenadas: método=bspline, pontos_saída=100\n",
      "2025-10-17 15:09:16,218 - loczcit_iqr.core.processor - INFO - Buscando mínimos de OLR (método: column_minimum, threshold: None, raio: 1px)\n",
      "2025-10-17 15:09:16,219 - loczcit_iqr.core.processor - INFO - Carregando área de estudo de: E:\\ambiente_python_2025-main\\src\\data\\shapefiles\\Area_LOCZCIT.parquet\n",
      "2025-10-17 15:09:16,237 - loczcit_iqr.core.processor - INFO - Encontradas 9 coordenadas de mínimo\n",
      "2025-10-17 15:09:16,237 - loczcit_iqr.core.iqr_detector - INFO - Detectando outliers em 9 coordenadas (analisando latitude)\n",
      "2025-10-17 15:09:16,238 - loczcit_iqr.core.iqr_detector - INFO - Detecção concluída: 7 válidas, 2 outliers\n",
      "2025-10-17 15:09:16,238 - loczcit_iqr.core.processor - INFO - Buscando mínimos de OLR (método: local_minimum, threshold: 230, raio: 1px)\n",
      "2025-10-17 15:09:16,239 - loczcit_iqr.core.processor - INFO - Aplicando threshold OLR <= 230 W/m²\n",
      "2025-10-17 15:09:16,240 - loczcit_iqr.core.processor - INFO - Carregando área de estudo de: E:\\ambiente_python_2025-main\\src\\data\\shapefiles\\Area_LOCZCIT.parquet\n",
      "2025-10-17 15:09:16,254 - loczcit_iqr.core.processor - INFO - Encontradas 3 coordenadas de mínimo\n",
      "2025-10-17 15:09:16,255 - loczcit_iqr.core.spline_interpolator - INFO - Interpolando 7 coordenadas: método=bspline, pontos_saída=100\n",
      "2025-10-17 15:09:16,257 - loczcit_iqr.core.processor - INFO - Buscando mínimos de OLR (método: column_minimum, threshold: None, raio: 1px)\n",
      "2025-10-17 15:09:16,258 - loczcit_iqr.core.processor - INFO - Carregando área de estudo de: E:\\ambiente_python_2025-main\\src\\data\\shapefiles\\Area_LOCZCIT.parquet\n",
      "2025-10-17 15:09:16,275 - loczcit_iqr.core.processor - INFO - Encontradas 11 coordenadas de mínimo\n",
      "2025-10-17 15:09:16,276 - loczcit_iqr.core.iqr_detector - INFO - Detectando outliers em 11 coordenadas (analisando latitude)\n",
      "2025-10-17 15:09:16,277 - loczcit_iqr.core.iqr_detector - INFO - Detecção concluída: 8 válidas, 3 outliers\n",
      "2025-10-17 15:09:16,277 - loczcit_iqr.core.processor - INFO - Buscando mínimos de OLR (método: local_minimum, threshold: 230, raio: 1px)\n",
      "2025-10-17 15:09:16,278 - loczcit_iqr.core.processor - INFO - Aplicando threshold OLR <= 230 W/m²\n",
      "2025-10-17 15:09:16,278 - loczcit_iqr.core.processor - INFO - Carregando área de estudo de: E:\\ambiente_python_2025-main\\src\\data\\shapefiles\\Area_LOCZCIT.parquet\n",
      "2025-10-17 15:09:16,293 - loczcit_iqr.core.processor - INFO - Encontradas 2 coordenadas de mínimo\n",
      "2025-10-17 15:09:16,293 - loczcit_iqr.core.spline_interpolator - INFO - Interpolando 8 coordenadas: método=bspline, pontos_saída=100\n"
     ]
    },
    {
     "name": "stderr",
     "output_type": "stream",
     "text": [
      "Processando pentadas:  99%|█████████▊| 72/73 [00:02<00:00, 25.56it/s]"
     ]
    },
    {
     "name": "stdout",
     "output_type": "stream",
     "text": [
      "2025-10-17 15:09:16,296 - loczcit_iqr.core.processor - INFO - Buscando mínimos de OLR (método: column_minimum, threshold: None, raio: 1px)\n",
      "2025-10-17 15:09:16,297 - loczcit_iqr.core.processor - INFO - Carregando área de estudo de: E:\\ambiente_python_2025-main\\src\\data\\shapefiles\\Area_LOCZCIT.parquet\n",
      "2025-10-17 15:09:16,313 - loczcit_iqr.core.processor - INFO - Encontradas 11 coordenadas de mínimo\n",
      "2025-10-17 15:09:16,314 - loczcit_iqr.core.iqr_detector - INFO - Detectando outliers em 11 coordenadas (analisando latitude)\n",
      "2025-10-17 15:09:16,315 - loczcit_iqr.core.iqr_detector - INFO - Detecção concluída: 8 válidas, 3 outliers\n",
      "2025-10-17 15:09:16,315 - loczcit_iqr.core.processor - INFO - Buscando mínimos de OLR (método: local_minimum, threshold: 230, raio: 1px)\n",
      "2025-10-17 15:09:16,316 - loczcit_iqr.core.processor - INFO - Aplicando threshold OLR <= 230 W/m²\n",
      "2025-10-17 15:09:16,316 - loczcit_iqr.core.processor - INFO - Carregando área de estudo de: E:\\ambiente_python_2025-main\\src\\data\\shapefiles\\Area_LOCZCIT.parquet\n",
      "2025-10-17 15:09:16,332 - loczcit_iqr.core.processor - INFO - Encontradas 7 coordenadas de mínimo\n",
      "2025-10-17 15:09:16,333 - loczcit_iqr.core.spline_interpolator - INFO - Interpolando 8 coordenadas: método=bspline, pontos_saída=100\n"
     ]
    },
    {
     "name": "stderr",
     "output_type": "stream",
     "text": [
      "Processando pentadas: 100%|██████████| 73/73 [00:02<00:00, 25.58it/s]\n"
     ]
    },
    {
     "name": "stdout",
     "output_type": "stream",
     "text": [
      "\n",
      "✅ 73 pentadas processadas com sucesso!\n",
      "\n",
      "📸 Salvando frames individuais...\n"
     ]
    },
    {
     "name": "stderr",
     "output_type": "stream",
     "text": [
      "Salvando frames:   0%|          | 0/73 [00:00<?, ?it/s]"
     ]
    },
    {
     "name": "stdout",
     "output_type": "stream",
     "text": [
      "\n",
      "Iniciando a criação da visualização completa...\n",
      "✅ Visualização completa pronta.\n"
     ]
    },
    {
     "name": "stderr",
     "output_type": "stream",
     "text": [
      "Salvando frames:   1%|▏         | 1/73 [00:00<01:05,  1.09it/s]"
     ]
    },
    {
     "name": "stdout",
     "output_type": "stream",
     "text": [
      "\n",
      "Iniciando a criação da visualização completa...\n",
      "✅ Visualização completa pronta.\n"
     ]
    },
    {
     "name": "stderr",
     "output_type": "stream",
     "text": [
      "Salvando frames:   3%|▎         | 2/73 [00:01<00:50,  1.41it/s]"
     ]
    },
    {
     "name": "stdout",
     "output_type": "stream",
     "text": [
      "\n",
      "Iniciando a criação da visualização completa...\n",
      "✅ Visualização completa pronta.\n"
     ]
    },
    {
     "name": "stderr",
     "output_type": "stream",
     "text": [
      "Salvando frames:   4%|▍         | 3/73 [00:02<00:45,  1.53it/s]"
     ]
    },
    {
     "name": "stdout",
     "output_type": "stream",
     "text": [
      "\n",
      "Iniciando a criação da visualização completa...\n",
      "✅ Visualização completa pronta.\n"
     ]
    },
    {
     "name": "stderr",
     "output_type": "stream",
     "text": [
      "Salvando frames:   5%|▌         | 4/73 [00:02<00:42,  1.61it/s]"
     ]
    },
    {
     "name": "stdout",
     "output_type": "stream",
     "text": [
      "\n",
      "Iniciando a criação da visualização completa...\n",
      "✅ Visualização completa pronta.\n"
     ]
    },
    {
     "name": "stderr",
     "output_type": "stream",
     "text": [
      "Salvando frames:   7%|▋         | 5/73 [00:03<00:41,  1.64it/s]"
     ]
    },
    {
     "name": "stdout",
     "output_type": "stream",
     "text": [
      "\n",
      "Iniciando a criação da visualização completa...\n",
      "✅ Visualização completa pronta.\n"
     ]
    },
    {
     "name": "stderr",
     "output_type": "stream",
     "text": [
      "Salvando frames:   8%|▊         | 6/73 [00:03<00:40,  1.66it/s]"
     ]
    },
    {
     "name": "stdout",
     "output_type": "stream",
     "text": [
      "\n",
      "Iniciando a criação da visualização completa...\n",
      "✅ Visualização completa pronta.\n"
     ]
    },
    {
     "name": "stderr",
     "output_type": "stream",
     "text": [
      "Salvando frames:  10%|▉         | 7/73 [00:04<00:39,  1.68it/s]"
     ]
    },
    {
     "name": "stdout",
     "output_type": "stream",
     "text": [
      "\n",
      "Iniciando a criação da visualização completa...\n",
      "✅ Visualização completa pronta.\n"
     ]
    },
    {
     "name": "stderr",
     "output_type": "stream",
     "text": [
      "Salvando frames:  11%|█         | 8/73 [00:04<00:38,  1.69it/s]"
     ]
    },
    {
     "name": "stdout",
     "output_type": "stream",
     "text": [
      "\n",
      "Iniciando a criação da visualização completa...\n",
      "✅ Visualização completa pronta.\n"
     ]
    },
    {
     "name": "stderr",
     "output_type": "stream",
     "text": [
      "Salvando frames:  12%|█▏        | 9/73 [00:05<00:37,  1.71it/s]"
     ]
    },
    {
     "name": "stdout",
     "output_type": "stream",
     "text": [
      "\n",
      "Iniciando a criação da visualização completa...\n",
      "✅ Visualização completa pronta.\n"
     ]
    },
    {
     "name": "stderr",
     "output_type": "stream",
     "text": [
      "Salvando frames:  14%|█▎        | 10/73 [00:06<00:36,  1.71it/s]"
     ]
    },
    {
     "name": "stdout",
     "output_type": "stream",
     "text": [
      "\n",
      "Iniciando a criação da visualização completa...\n",
      "✅ Visualização completa pronta.\n"
     ]
    },
    {
     "name": "stderr",
     "output_type": "stream",
     "text": [
      "Salvando frames:  15%|█▌        | 11/73 [00:06<00:36,  1.71it/s]"
     ]
    },
    {
     "name": "stdout",
     "output_type": "stream",
     "text": [
      "\n",
      "Iniciando a criação da visualização completa...\n",
      "✅ Visualização completa pronta.\n"
     ]
    },
    {
     "name": "stderr",
     "output_type": "stream",
     "text": [
      "Salvando frames:  16%|█▋        | 12/73 [00:07<00:35,  1.70it/s]"
     ]
    },
    {
     "name": "stdout",
     "output_type": "stream",
     "text": [
      "\n",
      "Iniciando a criação da visualização completa...\n",
      "✅ Visualização completa pronta.\n"
     ]
    },
    {
     "name": "stderr",
     "output_type": "stream",
     "text": [
      "Salvando frames:  18%|█▊        | 13/73 [00:07<00:35,  1.70it/s]"
     ]
    },
    {
     "name": "stdout",
     "output_type": "stream",
     "text": [
      "\n",
      "Iniciando a criação da visualização completa...\n",
      "✅ Visualização completa pronta.\n"
     ]
    },
    {
     "name": "stderr",
     "output_type": "stream",
     "text": [
      "Salvando frames:  19%|█▉        | 14/73 [00:08<00:34,  1.70it/s]"
     ]
    },
    {
     "name": "stdout",
     "output_type": "stream",
     "text": [
      "\n",
      "Iniciando a criação da visualização completa...\n",
      "✅ Visualização completa pronta.\n"
     ]
    },
    {
     "name": "stderr",
     "output_type": "stream",
     "text": [
      "Salvando frames:  21%|██        | 15/73 [00:09<00:34,  1.70it/s]"
     ]
    },
    {
     "name": "stdout",
     "output_type": "stream",
     "text": [
      "\n",
      "Iniciando a criação da visualização completa...\n",
      "✅ Visualização completa pronta.\n"
     ]
    },
    {
     "name": "stderr",
     "output_type": "stream",
     "text": [
      "Salvando frames:  22%|██▏       | 16/73 [00:09<00:33,  1.70it/s]"
     ]
    },
    {
     "name": "stdout",
     "output_type": "stream",
     "text": [
      "\n",
      "Iniciando a criação da visualização completa...\n",
      "✅ Visualização completa pronta.\n"
     ]
    },
    {
     "name": "stderr",
     "output_type": "stream",
     "text": [
      "Salvando frames:  23%|██▎       | 17/73 [00:10<00:35,  1.57it/s]"
     ]
    },
    {
     "name": "stdout",
     "output_type": "stream",
     "text": [
      "\n",
      "Iniciando a criação da visualização completa...\n",
      "✅ Visualização completa pronta.\n"
     ]
    },
    {
     "name": "stderr",
     "output_type": "stream",
     "text": [
      "Salvando frames:  25%|██▍       | 18/73 [00:11<00:34,  1.61it/s]"
     ]
    },
    {
     "name": "stdout",
     "output_type": "stream",
     "text": [
      "\n",
      "Iniciando a criação da visualização completa...\n",
      "✅ Visualização completa pronta.\n"
     ]
    },
    {
     "name": "stderr",
     "output_type": "stream",
     "text": [
      "Salvando frames:  26%|██▌       | 19/73 [00:11<00:33,  1.63it/s]"
     ]
    },
    {
     "name": "stdout",
     "output_type": "stream",
     "text": [
      "\n",
      "Iniciando a criação da visualização completa...\n",
      "✅ Visualização completa pronta.\n"
     ]
    },
    {
     "name": "stderr",
     "output_type": "stream",
     "text": [
      "Salvando frames:  27%|██▋       | 20/73 [00:12<00:32,  1.65it/s]"
     ]
    },
    {
     "name": "stdout",
     "output_type": "stream",
     "text": [
      "\n",
      "Iniciando a criação da visualização completa...\n",
      "✅ Visualização completa pronta.\n"
     ]
    },
    {
     "name": "stderr",
     "output_type": "stream",
     "text": [
      "Salvando frames:  29%|██▉       | 21/73 [00:12<00:31,  1.67it/s]"
     ]
    },
    {
     "name": "stdout",
     "output_type": "stream",
     "text": [
      "\n",
      "Iniciando a criação da visualização completa...\n",
      "✅ Visualização completa pronta.\n"
     ]
    },
    {
     "name": "stderr",
     "output_type": "stream",
     "text": [
      "Salvando frames:  30%|███       | 22/73 [00:13<00:30,  1.68it/s]"
     ]
    },
    {
     "name": "stdout",
     "output_type": "stream",
     "text": [
      "\n",
      "Iniciando a criação da visualização completa...\n",
      "✅ Visualização completa pronta.\n"
     ]
    },
    {
     "name": "stderr",
     "output_type": "stream",
     "text": [
      "Salvando frames:  32%|███▏      | 23/73 [00:13<00:29,  1.68it/s]"
     ]
    },
    {
     "name": "stdout",
     "output_type": "stream",
     "text": [
      "\n",
      "Iniciando a criação da visualização completa...\n",
      "✅ Visualização completa pronta.\n"
     ]
    },
    {
     "name": "stderr",
     "output_type": "stream",
     "text": [
      "Salvando frames:  33%|███▎      | 24/73 [00:14<00:28,  1.69it/s]"
     ]
    },
    {
     "name": "stdout",
     "output_type": "stream",
     "text": [
      "\n",
      "Iniciando a criação da visualização completa...\n",
      "✅ Visualização completa pronta.\n"
     ]
    },
    {
     "name": "stderr",
     "output_type": "stream",
     "text": [
      "Salvando frames:  34%|███▍      | 25/73 [00:15<00:28,  1.69it/s]"
     ]
    },
    {
     "name": "stdout",
     "output_type": "stream",
     "text": [
      "\n",
      "Iniciando a criação da visualização completa...\n",
      "✅ Visualização completa pronta.\n"
     ]
    },
    {
     "name": "stderr",
     "output_type": "stream",
     "text": [
      "Salvando frames:  36%|███▌      | 26/73 [00:15<00:27,  1.69it/s]"
     ]
    },
    {
     "name": "stdout",
     "output_type": "stream",
     "text": [
      "\n",
      "Iniciando a criação da visualização completa...\n",
      "✅ Visualização completa pronta.\n"
     ]
    },
    {
     "name": "stderr",
     "output_type": "stream",
     "text": [
      "Salvando frames:  37%|███▋      | 27/73 [00:16<00:27,  1.69it/s]"
     ]
    },
    {
     "name": "stdout",
     "output_type": "stream",
     "text": [
      "\n",
      "Iniciando a criação da visualização completa...\n",
      "✅ Visualização completa pronta.\n"
     ]
    },
    {
     "name": "stderr",
     "output_type": "stream",
     "text": [
      "Salvando frames:  38%|███▊      | 28/73 [00:16<00:26,  1.69it/s]"
     ]
    },
    {
     "name": "stdout",
     "output_type": "stream",
     "text": [
      "\n",
      "Iniciando a criação da visualização completa...\n",
      "✅ Visualização completa pronta.\n"
     ]
    },
    {
     "name": "stderr",
     "output_type": "stream",
     "text": [
      "Salvando frames:  40%|███▉      | 29/73 [00:17<00:25,  1.70it/s]"
     ]
    },
    {
     "name": "stdout",
     "output_type": "stream",
     "text": [
      "\n",
      "Iniciando a criação da visualização completa...\n",
      "✅ Visualização completa pronta.\n"
     ]
    },
    {
     "name": "stderr",
     "output_type": "stream",
     "text": [
      "Salvando frames:  41%|████      | 30/73 [00:18<00:25,  1.70it/s]"
     ]
    },
    {
     "name": "stdout",
     "output_type": "stream",
     "text": [
      "\n",
      "Iniciando a criação da visualização completa...\n",
      "✅ Visualização completa pronta.\n"
     ]
    },
    {
     "name": "stderr",
     "output_type": "stream",
     "text": [
      "Salvando frames:  42%|████▏     | 31/73 [00:18<00:24,  1.69it/s]"
     ]
    },
    {
     "name": "stdout",
     "output_type": "stream",
     "text": [
      "\n",
      "Iniciando a criação da visualização completa...\n",
      "✅ Visualização completa pronta.\n"
     ]
    },
    {
     "name": "stderr",
     "output_type": "stream",
     "text": [
      "Salvando frames:  44%|████▍     | 32/73 [00:19<00:24,  1.69it/s]"
     ]
    },
    {
     "name": "stdout",
     "output_type": "stream",
     "text": [
      "\n",
      "Iniciando a criação da visualização completa...\n",
      "✅ Visualização completa pronta.\n"
     ]
    },
    {
     "name": "stderr",
     "output_type": "stream",
     "text": [
      "Salvando frames:  45%|████▌     | 33/73 [00:19<00:23,  1.69it/s]"
     ]
    },
    {
     "name": "stdout",
     "output_type": "stream",
     "text": [
      "\n",
      "Iniciando a criação da visualização completa...\n",
      "✅ Visualização completa pronta.\n"
     ]
    },
    {
     "name": "stderr",
     "output_type": "stream",
     "text": [
      "Salvando frames:  47%|████▋     | 34/73 [00:20<00:23,  1.69it/s]"
     ]
    },
    {
     "name": "stdout",
     "output_type": "stream",
     "text": [
      "\n",
      "Iniciando a criação da visualização completa...\n",
      "✅ Visualização completa pronta.\n"
     ]
    },
    {
     "name": "stderr",
     "output_type": "stream",
     "text": [
      "Salvando frames:  48%|████▊     | 35/73 [00:21<00:22,  1.70it/s]"
     ]
    },
    {
     "name": "stdout",
     "output_type": "stream",
     "text": [
      "\n",
      "Iniciando a criação da visualização completa...\n",
      "✅ Visualização completa pronta.\n"
     ]
    },
    {
     "name": "stderr",
     "output_type": "stream",
     "text": [
      "Salvando frames:  49%|████▉     | 36/73 [00:21<00:24,  1.52it/s]"
     ]
    },
    {
     "name": "stdout",
     "output_type": "stream",
     "text": [
      "\n",
      "Iniciando a criação da visualização completa...\n",
      "✅ Visualização completa pronta.\n"
     ]
    },
    {
     "name": "stderr",
     "output_type": "stream",
     "text": [
      "Salvando frames:  51%|█████     | 37/73 [00:22<00:22,  1.57it/s]"
     ]
    },
    {
     "name": "stdout",
     "output_type": "stream",
     "text": [
      "\n",
      "Iniciando a criação da visualização completa...\n",
      "✅ Visualização completa pronta.\n"
     ]
    },
    {
     "name": "stderr",
     "output_type": "stream",
     "text": [
      "Salvando frames:  52%|█████▏    | 38/73 [00:23<00:21,  1.61it/s]"
     ]
    },
    {
     "name": "stdout",
     "output_type": "stream",
     "text": [
      "\n",
      "Iniciando a criação da visualização completa...\n",
      "✅ Visualização completa pronta.\n"
     ]
    },
    {
     "name": "stderr",
     "output_type": "stream",
     "text": [
      "Salvando frames:  53%|█████▎    | 39/73 [00:23<00:20,  1.63it/s]"
     ]
    },
    {
     "name": "stdout",
     "output_type": "stream",
     "text": [
      "\n",
      "Iniciando a criação da visualização completa...\n",
      "✅ Visualização completa pronta.\n"
     ]
    },
    {
     "name": "stderr",
     "output_type": "stream",
     "text": [
      "Salvando frames:  55%|█████▍    | 40/73 [00:24<00:19,  1.66it/s]"
     ]
    },
    {
     "name": "stdout",
     "output_type": "stream",
     "text": [
      "\n",
      "Iniciando a criação da visualização completa...\n",
      "✅ Visualização completa pronta.\n"
     ]
    },
    {
     "name": "stderr",
     "output_type": "stream",
     "text": [
      "Salvando frames:  56%|█████▌    | 41/73 [00:24<00:19,  1.66it/s]"
     ]
    },
    {
     "name": "stdout",
     "output_type": "stream",
     "text": [
      "\n",
      "Iniciando a criação da visualização completa...\n",
      "✅ Visualização completa pronta.\n"
     ]
    },
    {
     "name": "stderr",
     "output_type": "stream",
     "text": [
      "Salvando frames:  58%|█████▊    | 42/73 [00:25<00:18,  1.67it/s]"
     ]
    },
    {
     "name": "stdout",
     "output_type": "stream",
     "text": [
      "\n",
      "Iniciando a criação da visualização completa...\n",
      "✅ Visualização completa pronta.\n"
     ]
    },
    {
     "name": "stderr",
     "output_type": "stream",
     "text": [
      "Salvando frames:  59%|█████▉    | 43/73 [00:25<00:17,  1.68it/s]"
     ]
    },
    {
     "name": "stdout",
     "output_type": "stream",
     "text": [
      "\n",
      "Iniciando a criação da visualização completa...\n",
      "✅ Visualização completa pronta.\n"
     ]
    },
    {
     "name": "stderr",
     "output_type": "stream",
     "text": [
      "Salvando frames:  60%|██████    | 44/73 [00:26<00:17,  1.69it/s]"
     ]
    },
    {
     "name": "stdout",
     "output_type": "stream",
     "text": [
      "\n",
      "Iniciando a criação da visualização completa...\n",
      "✅ Visualização completa pronta.\n"
     ]
    },
    {
     "name": "stderr",
     "output_type": "stream",
     "text": [
      "Salvando frames:  62%|██████▏   | 45/73 [00:27<00:16,  1.69it/s]"
     ]
    },
    {
     "name": "stdout",
     "output_type": "stream",
     "text": [
      "\n",
      "Iniciando a criação da visualização completa...\n",
      "✅ Visualização completa pronta.\n"
     ]
    },
    {
     "name": "stderr",
     "output_type": "stream",
     "text": [
      "Salvando frames:  63%|██████▎   | 46/73 [00:27<00:15,  1.69it/s]"
     ]
    },
    {
     "name": "stdout",
     "output_type": "stream",
     "text": [
      "\n",
      "Iniciando a criação da visualização completa...\n",
      "✅ Visualização completa pronta.\n"
     ]
    },
    {
     "name": "stderr",
     "output_type": "stream",
     "text": [
      "Salvando frames:  64%|██████▍   | 47/73 [00:28<00:15,  1.69it/s]"
     ]
    },
    {
     "name": "stdout",
     "output_type": "stream",
     "text": [
      "\n",
      "Iniciando a criação da visualização completa...\n",
      "✅ Visualização completa pronta.\n"
     ]
    },
    {
     "name": "stderr",
     "output_type": "stream",
     "text": [
      "Salvando frames:  66%|██████▌   | 48/73 [00:28<00:14,  1.70it/s]"
     ]
    },
    {
     "name": "stdout",
     "output_type": "stream",
     "text": [
      "\n",
      "Iniciando a criação da visualização completa...\n",
      "✅ Visualização completa pronta.\n"
     ]
    },
    {
     "name": "stderr",
     "output_type": "stream",
     "text": [
      "Salvando frames:  67%|██████▋   | 49/73 [00:29<00:14,  1.70it/s]"
     ]
    },
    {
     "name": "stdout",
     "output_type": "stream",
     "text": [
      "\n",
      "Iniciando a criação da visualização completa...\n",
      "✅ Visualização completa pronta.\n"
     ]
    },
    {
     "name": "stderr",
     "output_type": "stream",
     "text": [
      "Salvando frames:  68%|██████▊   | 50/73 [00:30<00:13,  1.70it/s]"
     ]
    },
    {
     "name": "stdout",
     "output_type": "stream",
     "text": [
      "\n",
      "Iniciando a criação da visualização completa...\n",
      "✅ Visualização completa pronta.\n"
     ]
    },
    {
     "name": "stderr",
     "output_type": "stream",
     "text": [
      "Salvando frames:  70%|██████▉   | 51/73 [00:30<00:12,  1.70it/s]"
     ]
    },
    {
     "name": "stdout",
     "output_type": "stream",
     "text": [
      "\n",
      "Iniciando a criação da visualização completa...\n",
      "✅ Visualização completa pronta.\n"
     ]
    },
    {
     "name": "stderr",
     "output_type": "stream",
     "text": [
      "Salvando frames:  71%|███████   | 52/73 [00:31<00:12,  1.69it/s]"
     ]
    },
    {
     "name": "stdout",
     "output_type": "stream",
     "text": [
      "\n",
      "Iniciando a criação da visualização completa...\n",
      "✅ Visualização completa pronta.\n"
     ]
    },
    {
     "name": "stderr",
     "output_type": "stream",
     "text": [
      "Salvando frames:  73%|███████▎  | 53/73 [00:31<00:11,  1.68it/s]"
     ]
    },
    {
     "name": "stdout",
     "output_type": "stream",
     "text": [
      "\n",
      "Iniciando a criação da visualização completa...\n",
      "✅ Visualização completa pronta.\n"
     ]
    },
    {
     "name": "stderr",
     "output_type": "stream",
     "text": [
      "Salvando frames:  74%|███████▍  | 54/73 [00:32<00:11,  1.69it/s]"
     ]
    },
    {
     "name": "stdout",
     "output_type": "stream",
     "text": [
      "\n",
      "Iniciando a criação da visualização completa...\n",
      "✅ Visualização completa pronta.\n"
     ]
    },
    {
     "name": "stderr",
     "output_type": "stream",
     "text": [
      "Salvando frames:  75%|███████▌  | 55/73 [00:33<00:12,  1.45it/s]"
     ]
    },
    {
     "name": "stdout",
     "output_type": "stream",
     "text": [
      "\n",
      "Iniciando a criação da visualização completa...\n",
      "✅ Visualização completa pronta.\n"
     ]
    },
    {
     "name": "stderr",
     "output_type": "stream",
     "text": [
      "Salvando frames:  77%|███████▋  | 56/73 [00:33<00:11,  1.52it/s]"
     ]
    },
    {
     "name": "stdout",
     "output_type": "stream",
     "text": [
      "\n",
      "Iniciando a criação da visualização completa...\n",
      "✅ Visualização completa pronta.\n"
     ]
    },
    {
     "name": "stderr",
     "output_type": "stream",
     "text": [
      "Salvando frames:  78%|███████▊  | 57/73 [00:34<00:10,  1.57it/s]"
     ]
    },
    {
     "name": "stdout",
     "output_type": "stream",
     "text": [
      "\n",
      "Iniciando a criação da visualização completa...\n",
      "✅ Visualização completa pronta.\n"
     ]
    },
    {
     "name": "stderr",
     "output_type": "stream",
     "text": [
      "Salvando frames:  79%|███████▉  | 58/73 [00:35<00:09,  1.60it/s]"
     ]
    },
    {
     "name": "stdout",
     "output_type": "stream",
     "text": [
      "\n",
      "Iniciando a criação da visualização completa...\n",
      "✅ Visualização completa pronta.\n"
     ]
    },
    {
     "name": "stderr",
     "output_type": "stream",
     "text": [
      "Salvando frames:  81%|████████  | 59/73 [00:35<00:08,  1.63it/s]"
     ]
    },
    {
     "name": "stdout",
     "output_type": "stream",
     "text": [
      "\n",
      "Iniciando a criação da visualização completa...\n",
      "✅ Visualização completa pronta.\n"
     ]
    },
    {
     "name": "stderr",
     "output_type": "stream",
     "text": [
      "Salvando frames:  82%|████████▏ | 60/73 [00:36<00:07,  1.64it/s]"
     ]
    },
    {
     "name": "stdout",
     "output_type": "stream",
     "text": [
      "\n",
      "Iniciando a criação da visualização completa...\n",
      "✅ Visualização completa pronta.\n"
     ]
    },
    {
     "name": "stderr",
     "output_type": "stream",
     "text": [
      "Salvando frames:  84%|████████▎ | 61/73 [00:36<00:07,  1.64it/s]"
     ]
    },
    {
     "name": "stdout",
     "output_type": "stream",
     "text": [
      "\n",
      "Iniciando a criação da visualização completa...\n",
      "✅ Visualização completa pronta.\n"
     ]
    },
    {
     "name": "stderr",
     "output_type": "stream",
     "text": [
      "Salvando frames:  85%|████████▍ | 62/73 [00:37<00:06,  1.65it/s]"
     ]
    },
    {
     "name": "stdout",
     "output_type": "stream",
     "text": [
      "\n",
      "Iniciando a criação da visualização completa...\n",
      "✅ Visualização completa pronta.\n"
     ]
    },
    {
     "name": "stderr",
     "output_type": "stream",
     "text": [
      "Salvando frames:  86%|████████▋ | 63/73 [00:38<00:06,  1.66it/s]"
     ]
    },
    {
     "name": "stdout",
     "output_type": "stream",
     "text": [
      "\n",
      "Iniciando a criação da visualização completa...\n",
      "✅ Visualização completa pronta.\n"
     ]
    },
    {
     "name": "stderr",
     "output_type": "stream",
     "text": [
      "Salvando frames:  88%|████████▊ | 64/73 [00:38<00:05,  1.66it/s]"
     ]
    },
    {
     "name": "stdout",
     "output_type": "stream",
     "text": [
      "\n",
      "Iniciando a criação da visualização completa...\n",
      "✅ Visualização completa pronta.\n"
     ]
    },
    {
     "name": "stderr",
     "output_type": "stream",
     "text": [
      "Salvando frames:  89%|████████▉ | 65/73 [00:39<00:04,  1.68it/s]"
     ]
    },
    {
     "name": "stdout",
     "output_type": "stream",
     "text": [
      "\n",
      "Iniciando a criação da visualização completa...\n",
      "✅ Visualização completa pronta.\n"
     ]
    },
    {
     "name": "stderr",
     "output_type": "stream",
     "text": [
      "Salvando frames:  90%|█████████ | 66/73 [00:39<00:04,  1.68it/s]"
     ]
    },
    {
     "name": "stdout",
     "output_type": "stream",
     "text": [
      "\n",
      "Iniciando a criação da visualização completa...\n",
      "✅ Visualização completa pronta.\n"
     ]
    },
    {
     "name": "stderr",
     "output_type": "stream",
     "text": [
      "Salvando frames:  92%|█████████▏| 67/73 [00:40<00:03,  1.69it/s]"
     ]
    },
    {
     "name": "stdout",
     "output_type": "stream",
     "text": [
      "\n",
      "Iniciando a criação da visualização completa...\n",
      "✅ Visualização completa pronta.\n"
     ]
    },
    {
     "name": "stderr",
     "output_type": "stream",
     "text": [
      "Salvando frames:  93%|█████████▎| 68/73 [00:41<00:02,  1.70it/s]"
     ]
    },
    {
     "name": "stdout",
     "output_type": "stream",
     "text": [
      "\n",
      "Iniciando a criação da visualização completa...\n",
      "✅ Visualização completa pronta.\n"
     ]
    },
    {
     "name": "stderr",
     "output_type": "stream",
     "text": [
      "Salvando frames:  95%|█████████▍| 69/73 [00:41<00:02,  1.70it/s]"
     ]
    },
    {
     "name": "stdout",
     "output_type": "stream",
     "text": [
      "\n",
      "Iniciando a criação da visualização completa...\n",
      "✅ Visualização completa pronta.\n"
     ]
    },
    {
     "name": "stderr",
     "output_type": "stream",
     "text": [
      "Salvando frames:  96%|█████████▌| 70/73 [00:42<00:01,  1.71it/s]"
     ]
    },
    {
     "name": "stdout",
     "output_type": "stream",
     "text": [
      "\n",
      "Iniciando a criação da visualização completa...\n",
      "✅ Visualização completa pronta.\n"
     ]
    },
    {
     "name": "stderr",
     "output_type": "stream",
     "text": [
      "Salvando frames:  97%|█████████▋| 71/73 [00:42<00:01,  1.70it/s]"
     ]
    },
    {
     "name": "stdout",
     "output_type": "stream",
     "text": [
      "\n",
      "Iniciando a criação da visualização completa...\n",
      "✅ Visualização completa pronta.\n"
     ]
    },
    {
     "name": "stderr",
     "output_type": "stream",
     "text": [
      "Salvando frames:  99%|█████████▊| 72/73 [00:43<00:00,  1.70it/s]"
     ]
    },
    {
     "name": "stdout",
     "output_type": "stream",
     "text": [
      "\n",
      "Iniciando a criação da visualização completa...\n",
      "✅ Visualização completa pronta.\n"
     ]
    },
    {
     "name": "stderr",
     "output_type": "stream",
     "text": [
      "Salvando frames: 100%|██████████| 73/73 [00:44<00:00,  1.66it/s]\n"
     ]
    },
    {
     "name": "stdout",
     "output_type": "stream",
     "text": [
      "\n",
      "🎬 Criando GIF animado...\n",
      "\n",
      "✅ GIF salvo como: zcit_evolution_2024_all_pentads.gif\n",
      "\n",
      "🧹 Limpando arquivos temporários...\n",
      "✅ Limpeza concluída!\n",
      "\n",
      "📊 Resumo da animação criada:\n",
      "- Total de pentadas processadas: 73\n",
      "- Duração por frame: 0.5 segundos\n",
      "- Duração total do GIF: ~36.5 segundos\n",
      "- Arquivo de saída: zcit_evolution_2024_all_pentads.gif\n",
      "\n",
      "💡 Dicas para personalização:\n",
      "1. Para acelerar/desacelerar: ajuste 'duration' (ms por frame)\n",
      "2. Para maior qualidade: aumente 'dpi' ao salvar frames\n",
      "3. Para arquivo menor: reduza 'dpi' ou use compressão\n",
      "4. Para pausar em pentadas específicas: duplique frames importantes\n",
      "\n",
      "🎉 Processo concluído com sucesso!\n"
     ]
    }
   ],
   "source": [
    "import matplotlib.pyplot as plt\n",
    "import matplotlib.animation as animation\n",
    "from matplotlib.animation import PillowWriter\n",
    "import numpy as np\n",
    "from tqdm import tqdm\n",
    "\n",
    "import os\n",
    "from dotenv import load_dotenv\n",
    "\n",
    "from loczcit_iqr.core.data_loader_era5 import ERA5DataLoader \n",
    "from loczcit_iqr.core.processor import DataProcessor\n",
    "from loczcit_iqr.core.iqr_detector import IQRDetector\n",
    "from loczcit_iqr.core.spline_interpolator import (\n",
    "    SplineInterpolator, \n",
    "    SplineParameters, \n",
    "    InterpolationMethod\n",
    ")\n",
    "from loczcit_iqr.plotting.visualizer import ZCITVisualizer\n",
    "from loczcit_iqr.utils import pentada_to_dates\n",
    "\n",
    "# ============================================================================\n",
    "# CONFIGURAÇÃO INICIAL (igual ao seu código)\n",
    "# ============================================================================\n",
    "CDS_URL = \"https://cds.climate.copernicus.eu/api\"\n",
    "\n",
    "# Carregar credenciais\n",
    "dotenv_path = os.path.join('notebooks', '.env')\n",
    "load_dotenv(dotenv_path=dotenv_path)\n",
    "CDS_KEY = os.getenv(\"CDS_KEY\")\n",
    "\n",
    "# ============================================================================\n",
    "# 1. CARREGAR DADOS DO ANO COMPLETO (executar apenas uma vez)\n",
    "# ============================================================================\n",
    "ano = 2024\n",
    "\n",
    "# Inicializar componentes\n",
    "loader = ERA5DataLoader(cds_url=CDS_URL, cds_key=CDS_KEY)\n",
    "processor = DataProcessor()\n",
    "detector = IQRDetector(constant=0.75)\n",
    "interpolator = SplineInterpolator()\n",
    "viz = ZCITVisualizer(template='publication')\n",
    "\n",
    "print(f\"Carregando dados ERA5 para o ano {ano}...\")\n",
    "olr_data = loader.load_data(\n",
    "    start_date=f\"{ano}-01-01\", \n",
    "    end_date=f\"{ano}-12-31\"\n",
    ")\n",
    "\n",
    "print(\"Criando pentadas...\")\n",
    "pentads_year = processor.create_pentads(\n",
    "    olr_data=olr_data, \n",
    "    year=ano,\n",
    "    remove_leap_days=True,\n",
    "    method='mean',\n",
    "    min_days_required=3\n",
    ")\n",
    "\n",
    "# ============================================================================\n",
    "# 2. PROCESSAR TODAS AS 73 PENTADAS\n",
    "# ============================================================================\n",
    "print(\"\\n🎬 Iniciando processamento das 73 pentadas...\")\n",
    "\n",
    "# Lista para armazenar os dados de cada pentada\n",
    "frames_data = []\n",
    "\n",
    "# Configuração dos parâmetros de interpolação (usar para todas as pentadas)\n",
    "params_bspline = SplineParameters(\n",
    "    method=InterpolationMethod.BSPLINE,\n",
    "    smooth_factor='high',\n",
    "    degree=3,\n",
    "    max_curvature_threshold=30,\n",
    "    num_points_output=100,\n",
    "    extrapolate_flag=True,\n",
    "    reference_latitude=0\n",
    ")\n",
    "\n",
    "# Processar cada pentada\n",
    "for pentada in tqdm(range(1, 74), desc=\"Processando pentadas\"):\n",
    "    try:\n",
    "        # Extrair dados da pentada\n",
    "        olr_pentada = pentads_year['olr'].sel(pentada=pentada)\n",
    "        \n",
    "        # Encontrar coordenadas mínimas\n",
    "        min_coords = processor.find_minimum_coordinates(\n",
    "            olr_pentada,\n",
    "            threshold=None,\n",
    "            method='column_minimum',\n",
    "            search_radius=1\n",
    "        )\n",
    "        \n",
    "        # Detectar outliers\n",
    "        coords_valid, coords_outliers, resumo = detector.detect_outliers(min_coords)\n",
    "        \n",
    "        # Encontrar sistemas convectivos\n",
    "        sistemas_convectivos = processor.find_minimum_coordinates(\n",
    "            olr_pentada,\n",
    "            threshold=230,\n",
    "            method='local_minimum',\n",
    "            search_radius=1\n",
    "        )\n",
    "        \n",
    "        # Interpolar linha da ZCIT\n",
    "        zcit_line, _ = interpolator.interpolate(coords_valid, parameters=params_bspline)\n",
    "        \n",
    "        # Criar título com datas\n",
    "        start_date, end_date = pentada_to_dates(pentada, ano)\n",
    "        titulo = (\n",
    "            f\"Análise ZCIT - Pentada {pentada} \"\n",
    "            f\"({start_date.strftime('%d/%m')} - {end_date.strftime('%d/%m/%Y')})\"\n",
    "        )\n",
    "        \n",
    "        # Armazenar dados processados\n",
    "        frames_data.append({\n",
    "            'pentada': pentada,\n",
    "            'olr_data': olr_pentada,\n",
    "            'titulo': titulo,\n",
    "            'coords_valid': coords_valid,\n",
    "            'coords_outliers': coords_outliers,\n",
    "            'sistemas_convectivos': sistemas_convectivos,\n",
    "            'zcit_line': zcit_line\n",
    "        })\n",
    "        \n",
    "    except Exception as e:\n",
    "        print(f\"\\n⚠️ Erro na pentada {pentada}: {e}\")\n",
    "        continue\n",
    "\n",
    "print(f\"\\n✅ {len(frames_data)} pentadas processadas com sucesso!\")\n",
    "\n",
    "# ============================================================================\n",
    "# 3. SALVAR FRAMES INDIVIDUAIS\n",
    "# ============================================================================\n",
    "print(\"\\n📸 Salvando frames individuais...\")\n",
    "\n",
    "# Criar diretório para frames temporários\n",
    "frames_dir = \"frames_temp\"\n",
    "os.makedirs(frames_dir, exist_ok=True)\n",
    "\n",
    "# Salvar cada frame como imagem\n",
    "for i, frame_data in enumerate(tqdm(frames_data, desc=\"Salvando frames\")):\n",
    "    # Criar visualização SEM o parâmetro 'show'\n",
    "    fig_frame, ax_frame = viz.plot_complete_analysis(\n",
    "        olr_data=frame_data['olr_data'],\n",
    "        title=frame_data['titulo'],\n",
    "        coords_valid=frame_data['coords_valid'],\n",
    "        coords_outliers=frame_data['coords_outliers'],\n",
    "        sistemas_convectivos=frame_data['sistemas_convectivos'],\n",
    "        zcit_line=frame_data['zcit_line'],\n",
    "        study_area_visible=True,\n",
    "        credits=\"ERA5\",\n",
    "        save_path=None  # Não salvar automaticamente\n",
    "    )\n",
    "    \n",
    "    # Adicionar indicador de pentada\n",
    "    ax_frame.text(0.02, 0.98, f\"Pentada {frame_data['pentada']}/73\", \n",
    "                  transform=ax_frame.transAxes, \n",
    "                  fontsize=12, \n",
    "                  verticalalignment='top',\n",
    "                  bbox=dict(boxstyle=\"round,pad=0.5\", \n",
    "                           facecolor=\"yellow\", \n",
    "                           alpha=0.8))\n",
    "    \n",
    "    # Salvar frame\n",
    "    frame_path = os.path.join(frames_dir, f\"frame_{i:03d}.png\")\n",
    "    fig_frame.savefig(frame_path, dpi=100, bbox_inches='tight')\n",
    "    plt.close(fig_frame)  # Importante: fechar a figura para economizar memória\n",
    "\n",
    "# ============================================================================\n",
    "# 4. CRIAR GIF ANIMADO\n",
    "# ============================================================================\n",
    "print(\"\\n🎬 Criando GIF animado...\")\n",
    "\n",
    "# Tentar primeiro com imageio (mais eficiente)\n",
    "try:\n",
    "    import imageio\n",
    "    \n",
    "    # Ler todos os frames\n",
    "    images = []\n",
    "    for i in range(len(frames_data)):\n",
    "        frame_path = os.path.join(frames_dir, f\"frame_{i:03d}.png\")\n",
    "        images.append(imageio.imread(frame_path))\n",
    "    \n",
    "    # Criar GIF\n",
    "    output_path = f\"zcit_evolution_{ano}_all_pentads.gif\"\n",
    "    imageio.mimsave(output_path, images, \n",
    "                    duration=500,  # 500ms por frame (0.5 segundo)\n",
    "                    loop=0)  # Loop infinito\n",
    "    \n",
    "    print(f\"\\n✅ GIF salvo como: {output_path}\")\n",
    "    \n",
    "except ImportError:\n",
    "    print(\"\\n⚠️ imageio não instalado. Usando método alternativo com PIL...\")\n",
    "    \n",
    "    # Método alternativo com PIL/Pillow\n",
    "    try:\n",
    "        from PIL import Image\n",
    "        \n",
    "        # Carregar todos os frames\n",
    "        frames = []\n",
    "        for i in range(len(frames_data)):\n",
    "            frame_path = os.path.join(frames_dir, f\"frame_{i:03d}.png\")\n",
    "            img = Image.open(frame_path)\n",
    "            frames.append(img)\n",
    "        \n",
    "        # Salvar como GIF\n",
    "        output_path = f\"zcit_evolution_{ano}_all_pentads.gif\"\n",
    "        frames[0].save(\n",
    "            output_path,\n",
    "            save_all=True,\n",
    "            append_images=frames[1:],\n",
    "            duration=500,  # 500ms por frame\n",
    "            loop=0  # Loop infinito\n",
    "        )\n",
    "        \n",
    "        print(f\"\\n✅ GIF salvo como: {output_path}\")\n",
    "        \n",
    "    except ImportError:\n",
    "        print(\"\\n❌ Nem imageio nem PIL estão instalados!\")\n",
    "        print(\"Instale um deles com:\")\n",
    "        print(\"  pip install imageio\")\n",
    "        print(\"  ou\")\n",
    "        print(\"  pip install Pillow\")\n",
    "        print(\"\\nOs frames individuais foram salvos em:\", frames_dir)\n",
    "\n",
    "# ============================================================================\n",
    "# 5. LIMPEZA (opcional)\n",
    "# ============================================================================\n",
    "print(\"\\n🧹 Limpando arquivos temporários...\")\n",
    "\n",
    "# Perguntar se deseja manter os frames individuais\n",
    "resposta = input(\"Deseja manter os frames individuais? (s/n): \").lower()\n",
    "\n",
    "if resposta != 's':\n",
    "    # Remover frames temporários\n",
    "    for i in range(len(frames_data)):\n",
    "        frame_path = os.path.join(frames_dir, f\"frame_{i:03d}.png\")\n",
    "        if os.path.exists(frame_path):\n",
    "            os.remove(frame_path)\n",
    "    \n",
    "    # Remover diretório\n",
    "    try:\n",
    "        os.rmdir(frames_dir)\n",
    "        print(\"✅ Limpeza concluída!\")\n",
    "    except:\n",
    "        print(\"⚠️ Não foi possível remover o diretório de frames\")\n",
    "else:\n",
    "    print(f\"✅ Frames individuais mantidos em: {frames_dir}\")\n",
    "\n",
    "# ============================================================================\n",
    "# 6. INFORMAÇÕES FINAIS\n",
    "# ============================================================================\n",
    "print(\"\\n📊 Resumo da animação criada:\")\n",
    "print(f\"- Total de pentadas processadas: {len(frames_data)}\")\n",
    "print(f\"- Duração por frame: 0.5 segundos\")\n",
    "print(f\"- Duração total do GIF: ~{len(frames_data) * 0.5:.1f} segundos\")\n",
    "print(f\"- Arquivo de saída: {output_path}\")\n",
    "\n",
    "print(\"\\n💡 Dicas para personalização:\")\n",
    "print(\"1. Para acelerar/desacelerar: ajuste 'duration' (ms por frame)\")\n",
    "print(\"2. Para maior qualidade: aumente 'dpi' ao salvar frames\")\n",
    "print(\"3. Para arquivo menor: reduza 'dpi' ou use compressão\")\n",
    "print(\"4. Para pausar em pentadas específicas: duplique frames importantes\")\n",
    "print(\"\\n🎉 Processo concluído com sucesso!\")"
   ]
  }
 ],
 "metadata": {
  "kernelspec": {
   "display_name": "loczcit-iqr",
   "language": "python",
   "name": "python3"
  },
  "language_info": {
   "codemirror_mode": {
    "name": "ipython",
    "version": 3
   },
   "file_extension": ".py",
   "mimetype": "text/x-python",
   "name": "python",
   "nbconvert_exporter": "python",
   "pygments_lexer": "ipython3",
   "version": "3.13.5"
  }
 },
 "nbformat": 4,
 "nbformat_minor": 5
}
