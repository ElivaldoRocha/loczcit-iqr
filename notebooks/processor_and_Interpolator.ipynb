{
 "cells": [
  {
   "cell_type": "code",
   "execution_count": 1,
   "id": "5eb8321b",
   "metadata": {},
   "outputs": [
    {
     "name": "stderr",
     "output_type": "stream",
     "text": [
      "2025-09-28 18:00:13,393 - loczcit_iqr.core.data_loader - INFO - Removido: olr-daily_v01r02-preliminary_20240101_20241231.nc\n",
      "2025-09-28 18:00:13,394 - loczcit_iqr.core.data_loader - ERROR - Erro ao remover data_cache\\olr-daily_v01r02-preliminary_20250101_20250907.nc: [WinError 32] O arquivo já está sendo usado por outro processo: 'data_cache\\\\olr-daily_v01r02-preliminary_20250101_20250907.nc'\n",
      "2025-09-28 18:00:13,396 - loczcit_iqr.core.data_loader - INFO - Total de arquivos removidos: 1\n"
     ]
    },
    {
     "name": "stdout",
     "output_type": "stream",
     "text": [
      "✅ 18 fontes da biblioteca loczcit_iqr registradas com sucesso.\n",
      "🎨 Estilo tipográfico profissional loczcit_iqr aplicado.\n",
      "🌊 LOCZCIT-IQR v0.0.1 carregada!\n",
      "   📖 Use lz.quick_start_guide() para começar\n",
      "   🔧 Use lz.check_modules() para verificar módulos\n",
      "1 arquivos removidos do cache.\n"
     ]
    }
   ],
   "source": [
    "from loczcit_iqr.core.data_loader import NOAADataLoader\n",
    "\n",
    "loader = NOAADataLoader()\n",
    "removed = loader.clear_cache(confirm=True)\n",
    "print(f\"{removed} arquivos removidos do cache.\")\n"
   ]
  },
  {
   "cell_type": "code",
   "execution_count": 1,
   "id": "593c0700",
   "metadata": {},
   "outputs": [
    {
     "name": "stdout",
     "output_type": "stream",
     "text": [
      "============================================================\n",
      "🔧 ETAPA 0: CONFIGURANDO O AMBIENTE...\n",
      "\n",
      "✅ Caminho do projeto adicionado: ..\n",
      "✅ 18 fontes da biblioteca loczcit_iqr registradas com sucesso.\n",
      "🎨 Estilo tipográfico profissional loczcit_iqr aplicado.\n",
      "🌊 LOCZCIT-IQR v0.0.1 carregada!\n",
      "   📖 Use lz.quick_start_guide() para começar\n",
      "   🔧 Use lz.check_modules() para verificar módulos\n",
      "✅ Módulos da biblioteca LoczcitIQR importados com sucesso.\n"
     ]
    }
   ],
   "source": [
    "# ========================================================================\n",
    "# --- ETAPA 0: CONFIGURAÇÃO DO AMBIENTE E IMPORTAÇÕES ---\n",
    "# ========================================================================\n",
    "import sys\n",
    "from pathlib import Path\n",
    "\n",
    "\n",
    "print(\"=\"*60)\n",
    "print(\"🔧 ETAPA 0: CONFIGURANDO O AMBIENTE...\\n\")\n",
    "\n",
    "# Adicionar o caminho da sua biblioteca para que o Python a encontre\n",
    "# ATENÇÃO: Altere este caminho para o local correto no seu computador\n",
    "try:\n",
    "    #Adicionando F:\\loczcit-library\\your_self ao sys.path\n",
    "    project_root = Path('..')\n",
    "    if project_root.exists() and str(project_root) not in sys.path:\n",
    "        sys.path.insert(0, str(project_root))\n",
    "        print(f\"✅ Caminho do projeto adicionado: {project_root}\")\n",
    "    elif not project_root.exists():\n",
    "        raise FileNotFoundError\n",
    "except (FileNotFoundError, IndexError):\n",
    "    print(\"❌ ERRO: O caminho do projeto não foi encontrado. Verifique a variável 'project_root'.\")\n",
    "    # Se o script não puder encontrar a biblioteca, ele para aqui.\n",
    "    sys.exit(1)\n",
    "\n",
    "# Importar todos os módulos necessários da sua biblioteca LoczcitIQR\n",
    "try:\n",
    "    from loczcit_iqr.core.data_loader import NOAADataLoader, load_olr_data\n",
    "    from loczcit_iqr.core.processor import DataProcessor\n",
    "    from loczcit_iqr.core.iqr_detector import IQRDetector\n",
    "    from loczcit_iqr.core.spline_interpolator import SplineInterpolator, SplineParameters, InterpolationMethod\n",
    "    from loczcit_iqr.plotting.visualizer import ZCITVisualizer, ZCITColormap\n",
    "    import warnings\n",
    "    warnings.filterwarnings('ignore')  # Para um notebook mais limpo\n",
    "    print(\"✅ Módulos da biblioteca LoczcitIQR importados com sucesso.\")\n",
    "    import numpy as np\n",
    "    import logging\n",
    "except ImportError as e:\n",
    "    print(f\"❌ ERRO: Falha ao importar módulos da biblioteca LoczcitIQR: {e}\")\n",
    "    print(\"💡 Verifique se o caminho do projeto está correto e se os arquivos .py existem.\")\n",
    "    sys.exit(1)"
   ]
  },
  {
   "cell_type": "code",
   "execution_count": 2,
   "id": "ffa772c5",
   "metadata": {},
   "outputs": [
    {
     "name": "stdout",
     "output_type": "stream",
     "text": [
      "NOAA OLR Data Loader (cache: data_cache)\n",
      "\n",
      "Status do servidor NOAA:\n",
      "  - Conectividade: ✓\n",
      "  - Tempo de resposta: 1000 ms\n",
      "  - Arquivos disponíveis: 47\n",
      "\n",
      "Estimativa para 2023:\n",
      "  - Tamanho: 182.5 MB\n",
      "  - Tempo: 3 minutos\n"
     ]
    }
   ],
   "source": [
    "# instanciação\n",
    "loader = NOAADataLoader()\n",
    "print(loader)\n",
    "\n",
    "# Verificar conectividade\n",
    "status = loader.get_server_status()\n",
    "print(f\"\\nStatus do servidor NOAA:\")\n",
    "print(f\"  - Conectividade: {'✓' if status['connectivity'] else '✗'}\")\n",
    "print(f\"  - Tempo de resposta: {status['response_time_ms']} ms\")\n",
    "print(f\"  - Arquivos disponíveis: {status['available_files']}\")\n",
    "\n",
    "# Estimar tamanho de download\n",
    "estimate = loader.estimate_download_size('2023-01-01', '2023-12-31')\n",
    "print(f\"\\nEstimativa para 2023:\")\n",
    "print(f\"  - Tamanho: {estimate['estimated_size_mb']} MB\")\n",
    "print(f\"  - Tempo: {estimate['estimated_download_time_readable']}\")"
   ]
  },
  {
   "cell_type": "code",
   "execution_count": 3,
   "id": "b646d24d",
   "metadata": {},
   "outputs": [
    {
     "name": "stderr",
     "output_type": "stream",
     "text": [
      "2025-09-28 18:01:06,967 - loczcit_iqr.core.data_loader - INFO - Usando arquivo anual final: olr-daily_v01r02_20230101_20231231.nc\n",
      "2025-09-28 18:01:07,706 - loczcit_iqr.core.data_loader - INFO - Download tentativa 1/3: olr-daily_v01r02_20230101_20231231.nc\n",
      "olr-daily_v01r02_20230101_20231231.nc: 100%|██████████| 94.6M/94.6M [00:19<00:00, 4.85MB/s]\n",
      "2025-09-28 18:01:28,266 - loczcit_iqr.core.data_loader - INFO - Download concluído: data_cache\\olr-daily_v01r02_20230101_20231231.nc\n"
     ]
    },
    {
     "name": "stdout",
     "output_type": "stream",
     "text": [
      "✅ Arquivo baixado: data_cache\\olr-daily_v01r02_20230101_20231231.nc\n",
      "\n"
     ]
    }
   ],
   "source": [
    "# ============================================================================\n",
    "# 8. DOWNLOAD DE ARQUIVO ESPECÍFICO\n",
    "# ============================================================================\n",
    "\n",
    "ano = 2023\n",
    "\n",
    "try:\n",
    "    # Baixar dados de um ano específico\n",
    "    arquivo_baixado = loader.download_year_data(\n",
    "        year=ano,\n",
    "        show_progress=True\n",
    "    )\n",
    "    \n",
    "    print(f\"✅ Arquivo baixado: {arquivo_baixado}\")\n",
    "    \n",
    "    # Também é possível baixar um arquivo específico pelo nome\n",
    "    # arquivo_especifico = loader.download_file(\n",
    "    #     filename=\"olr-daily_v01r02_20230101_20231231.nc\",\n",
    "    #     force_download=False,\n",
    "    #     show_progress=True\n",
    "    # )\n",
    "    \n",
    "except Exception as e:\n",
    "    print(f\"❌ Erro no download: {e}\")\n",
    "\n",
    "print()"
   ]
  },
  {
   "cell_type": "code",
   "execution_count": 4,
   "id": "79d8506e",
   "metadata": {},
   "outputs": [
    {
     "name": "stderr",
     "output_type": "stream",
     "text": [
      "2025-09-28 18:02:03,855 - loczcit_iqr.core.data_loader - INFO - Usando arquivo anual preliminar: olr-daily_v01r02-preliminary_20240101_20241231.nc\n",
      "2025-09-28 18:02:04,644 - loczcit_iqr.core.data_loader - INFO - Download tentativa 1/3: olr-daily_v01r02-preliminary_20240101_20241231.nc\n",
      "olr-daily_v01r02-preliminary_20240101_20241231.nc: 100%|██████████| 94.9M/94.9M [00:19<00:00, 4.85MB/s]\n",
      "2025-09-28 18:02:25,214 - loczcit_iqr.core.data_loader - INFO - Download concluído: data_cache\\olr-daily_v01r02-preliminary_20240101_20241231.nc\n",
      "2025-09-28 18:02:25,216 - loczcit_iqr.core.data_loader - INFO - Carregando dados de: data_cache\\olr-daily_v01r02-preliminary_20240101_20241231.nc\n",
      "2025-09-28 18:02:25,231 - loczcit_iqr.core.data_loader - INFO - Removendo 1 dias 29/02\n",
      "2025-09-28 18:02:25,425 - loczcit_iqr.core.data_loader - WARNING - Dados faltantes: 64800 (0.3%)\n",
      "2025-09-28 18:02:25,535 - loczcit_iqr.core.data_loader - INFO - Dados carregados com sucesso: FrozenMappingWarningOnValuesAccess({'time': 365, 'lat': 180, 'lon': 360, 'bnds': 2})\n"
     ]
    },
    {
     "name": "stdout",
     "output_type": "stream",
     "text": [
      "Ano 2024 - Dias após load_data: 365\n"
     ]
    }
   ],
   "source": [
    "\n",
    "ano = 2024\n",
    "\n",
    "olr_data = loader.load_data(\n",
    "    start_date=f\"{ano}-01-01\",\n",
    "    end_date=f\"{ano}-12-31\")\n",
    "\n",
    "print(f\"Ano {ano} - Dias após load_data: {len(olr_data.time)}\")  # Sempre 365 para não bissexto\n"
   ]
  },
  {
   "cell_type": "code",
   "execution_count": 9,
   "id": "2ab84f65",
   "metadata": {},
   "outputs": [
    {
     "name": "stdout",
     "output_type": "stream",
     "text": [
      "2025-09-28 18:07:11,678 - loczcit_iqr.core.processor - INFO - Arquivo padrão da área de estudo encontrado: E:\\ambiente_python_2025-main\\src\\data\\shapefiles\\Area_LOCZCIT.parquet\n",
      "<DataProcessor(use_dask=True, n_workers=4, cache=0/5, default_area=✓)>\n"
     ]
    }
   ],
   "source": [
    "# Instanciar com configurações padrão\n",
    "processor = DataProcessor()\n",
    "\n",
    "# Instanciar desabilitando Dask e com um nível de log mais detalhado\n",
    "# import logging\n",
    "# processor_debug = DataProcessor(use_dask=False, log_level=logging.DEBUG)\n",
    "print(processor)"
   ]
  },
  {
   "cell_type": "code",
   "execution_count": 10,
   "id": "d992573d",
   "metadata": {},
   "outputs": [
    {
     "name": "stdout",
     "output_type": "stream",
     "text": [
      "2025-09-28 18:07:45,555 - loczcit_iqr.core.processor - INFO - Criando pentadas para 2024 (método: mean, remover bissextos: True)\n",
      "2025-09-28 18:07:45,676 - loczcit_iqr.core.processor - INFO - Aplicando chunks do Dask para processamento paralelo\n",
      "2025-09-28 18:07:46,536 - loczcit_iqr.core.processor - INFO - Computando resultados Dask...\n",
      "2025-09-28 18:07:51,005 - loczcit_iqr.core.processor - INFO - Pentadas para 2024 criadas com sucesso\n",
      "Pentadas de 2024 criadas:\n",
      "<xarray.Dataset> Size: 57MB\n",
      "Dimensions:     (pentada: 73, lat: 180, lon: 360, bnds: 2)\n",
      "Coordinates:\n",
      "  * lat         (lat) float32 720B -89.5 -88.5 -87.5 -86.5 ... 87.5 88.5 89.5\n",
      "  * lon         (lon) float32 1kB -179.5 -178.5 -177.5 ... 177.5 178.5 179.5\n",
      "  * pentada     (pentada) int64 584B 1 2 3 4 5 6 7 8 ... 66 67 68 69 70 71 72 73\n",
      "    time        (pentada) datetime64[us] 584B 2024-01-03 ... 2024-12-28\n",
      "Dimensions without coordinates: bnds\n",
      "Data variables:\n",
      "    olr         (pentada, lat, lon) float32 19MB 179.3 179.3 ... 164.0 164.0\n",
      "    lon_bounds  (pentada, lon, bnds) float32 210kB 180.0 181.0 ... 179.0 180.0\n",
      "    lat_bounds  (pentada, lat, bnds) float32 105kB -90.0 -89.0 ... 89.0 90.0\n",
      "    qc_flag     (pentada, lat, lon) float64 38MB 0.0 0.0 0.0 0.0 ... 0.0 0.0 0.0\n",
      "Attributes:\n",
      "    processed_year:                   2024\n",
      "    creation_date_utc:                2025-09-28T21:07:46.536681Z\n",
      "    pentad_aggregation_method:        mean\n",
      "    min_days_for_pentad_calculation:  3\n",
      "    leap_days_removed:                True\n",
      "    history:                          Pentads created by LOCZCIT DataProcesso...\n"
     ]
    }
   ],
   "source": [
    "# Assumindo que 'olr_data' é um xr.Dataset carregado para o ano de 2024\n",
    "# e 'processor' é uma instância de DataProcessor\n",
    "\n",
    "# Exemplo: Criar pentadas para 2024, usando a média,\n",
    "# removendo dias bissextos dos dados diários antes de agrupar,\n",
    "# e exigindo pelo menos 3 dias válidos por pentada.\n",
    "try:\n",
    "    pentads_2024 = processor.create_pentads(\n",
    "        olr_data=olr_data, \n",
    "        year=2024,\n",
    "        remove_leap_days=True,\n",
    "        method='mean',\n",
    "        min_days_required=3\n",
    "    )\n",
    "    print(\"Pentadas de 2024 criadas:\")\n",
    "    print(pentads_2024)\n",
    "    # Acessar a OLR da 10ª pentada\n",
    "    # print(pentads_2024['olr'].sel(pentada=10))\n",
    "except Exception as e:\n",
    "    print(f\"Erro ao criar pentadas: {e}\")\n",
    "    \n",
    "# Se, para um período de uma pentada específica (ex: 01/Jan a 05/Jan), houver menos de \n",
    "# min_days_required (no caso, 3) dias com dados válidos de OLR em um determinado pixel, \n",
    "# então o valor da OLR para essa pentada, nesse pixel, será definido como NaN.\n",
    "\n",
    "# Isso é feito para garantir que a média (ou outra agregação) da pentada \n",
    "# seja calculada apenas se houver um número mínimo de observações diárias \n",
    "# válidas, tornando o valor da pentada mais confiável. Se calculasse \n",
    "# uma média com apenas 1 ou 2 dias de 5, ela poderia não ser representativa.\n",
    "\n",
    "# 1ª Pentada: (01/Jan a 05/Jan) -> Dia central é 03/Jan.\n",
    "# 2ª Pentada: (06/Jan a 10/Jan) -> Dia central é 08/Jan.\n",
    "# 3ª Pentada: (11/Jan a 15/Jan) -> Dia central é 13/Jan.\n",
    "# E assim por diante.    "
   ]
  },
  {
   "cell_type": "code",
   "execution_count": 11,
   "id": "7f73ace6",
   "metadata": {},
   "outputs": [
    {
     "name": "stdout",
     "output_type": "stream",
     "text": [
      "2025-09-28 18:08:09,194 - loczcit_iqr.core.processor - INFO - Calculando median para 41 dias (2024-03-01 a 2024-04-10)\n",
      "\n",
      "Média (mediana) para início de Março de 2024:\n",
      "<xarray.DataArray 'olr' (lat: 180, lon: 360)> Size: 259kB\n",
      "array([[138.13048, 138.13048, 138.13048, ..., 138.13048, 138.13048,\n",
      "        138.13048],\n",
      "       [136.74274, 136.5832 , 137.37602, ..., 136.23962, 137.15642,\n",
      "        137.31108],\n",
      "       [146.14516, 146.71257, 147.62851, ..., 145.44633, 146.048  ,\n",
      "        146.40262],\n",
      "       ...,\n",
      "       [179.3949 , 179.00642, 180.11507, ..., 178.65668, 178.32715,\n",
      "        179.1822 ],\n",
      "       [179.22807, 179.02458, 178.56755, ..., 178.52863, 178.7252 ,\n",
      "        179.06346],\n",
      "       [178.32188, 178.32188, 178.32188, ..., 178.32188, 178.32188,\n",
      "        178.32188]], shape=(180, 360), dtype=float32)\n",
      "Coordinates:\n",
      "  * lat      (lat) float32 720B -89.5 -88.5 -87.5 -86.5 ... 86.5 87.5 88.5 89.5\n",
      "  * lon      (lon) float32 1kB -179.5 -178.5 -177.5 -176.5 ... 177.5 178.5 179.5\n",
      "Attributes:\n",
      "    period_start:        2024-03-01T00:00:00\n",
      "    period_end:          2024-04-10T00:00:00\n",
      "    days_in_period:      41\n",
      "    aggregation_method:  median\n",
      "    min_valid_ratio:     0.6\n"
     ]
    }
   ],
   "source": [
    "# Assumindo que 'olr_data' pode conter dados para vários anos\n",
    "# e 'processor' é uma instância de DataProcessor\n",
    "try:\n",
    "    media_inicio_marco_2024 = processor.create_recent_average(\n",
    "        olr_data=olr_data,\n",
    "        start_date=\"2024-03-01\",\n",
    "        end_date=\"2024-04-10\",\n",
    "        method='median', # Calcular a mediana\n",
    "        min_valid_ratio=0.6 # Exigir que pelo menos 60% dos dias no período tenham dados\n",
    "    )\n",
    "    print(\"\\nMédia (mediana) para início de Março de 2024:\")\n",
    "    print(media_inicio_marco_2024)\n",
    "except Exception as e:\n",
    "    print(f\"Erro ao criar média recente: {e}\")"
   ]
  },
  {
   "cell_type": "code",
   "execution_count": 12,
   "id": "d4df005e",
   "metadata": {},
   "outputs": [
    {
     "name": "stdout",
     "output_type": "stream",
     "text": [
      "2025-09-28 18:08:44,115 - loczcit_iqr.core.processor - INFO - Buscando mínimos de OLR (método: column_minimum, threshold: None, raio: 1px)\n",
      "2025-09-28 18:08:44,116 - loczcit_iqr.core.processor - INFO - Carregando área de estudo de: E:\\ambiente_python_2025-main\\src\\data\\shapefiles\\Area_LOCZCIT.parquet\n",
      "2025-09-28 18:08:44,427 - loczcit_iqr.core.processor - INFO - Encontradas 8 coordenadas de mínimo\n",
      "\n",
      "Mínimos na área padrão ZCIT: [(-43.5, -0.5), (-37.5, 0.5), (-29.5, 5.5), (-27.5, 4.5), (-20.5, 12.5)]...\n",
      "2025-09-28 18:08:44,427 - loczcit_iqr.core.processor - INFO - Buscando mínimos de OLR (método: column_minimum, threshold: 230, raio: 1px)\n",
      "2025-09-28 18:08:44,428 - loczcit_iqr.core.processor - INFO - Aplicando threshold OLR <= 230 W/m²\n",
      "2025-09-28 18:08:44,429 - loczcit_iqr.core.processor - INFO - Aplicando limites: Lat (-15.0, 5.0), Lon (-70.0, -40.0)\n",
      "2025-09-28 18:08:44,431 - loczcit_iqr.core.processor - INFO - Encontradas 4 coordenadas de mínimo\n",
      "\n",
      "Mínimos com limites definidos: [(-66.5, -3.5), (-62.5, -2.5), (-60.5, -14.5), (-44.5, -3.5)]...\n"
     ]
    }
   ],
   "source": [
    "# Assumindo que 'pentadas_2024' foi criado e 'processor' existe\n",
    "if 'pentads_2024' in locals() and pentads_2024 is not None:\n",
    "    try:\n",
    "        olr_pentada_69 = pentads_2024['olr'].sel(pentada=69) # OLR da 30ª pentada\n",
    "\n",
    "        # Exemplo 1: Buscar em toda a área (após validação de OLR)\n",
    "        # min_coords_global = processor.find_minimum_coordinates(\n",
    "        #     data_array_2d=olr_pentada_30,\n",
    "        #     threshold=230, # Considerar apenas OLR <= 230 W/m^2\n",
    "        #     method='local_minimum',\n",
    "        #     search_radius_pixels=2\n",
    "        # )\n",
    "        # print(f\"\\nMínimos globais (threshold 210): {min_coords_global[:5]}...\")\n",
    "\n",
    "        # Exemplo 2: Buscar usando a área de estudo padrão (Area_LOCZCIT.parquet)\n",
    "        # Certifique-se que o arquivo está no caminho esperado pela biblioteca.\n",
    "        min_coords_area_padrao = processor.find_minimum_coordinates(\n",
    "            data_array=olr_pentada_69,\n",
    "            threshold=None, # Considerar apenas OLR <= 230 W/m^2\n",
    "            search_radius=1,\n",
    "            # Buscar em um raio de:\n",
    "            #0 pixels (janela 1x1 pixels)\n",
    "            #1 pixel (janela 3x3 pixels)\n",
    "            #2 pixels (janela 5x5 pixels)\n",
    "            #3 pixels (janela 7x7 pixels)\n",
    "            #4 pixels (janela 9x9 ) etc.....\n",
    "            method='column_minimum'\n",
    "        )\n",
    "        print(f\"\\nMínimos na área padrão ZCIT: {min_coords_area_padrao[:5]}...\")\n",
    "\n",
    "        # Exemplo 3: Buscar fornecendo limites de lat/lon\n",
    "        min_coords_bounds = processor.find_minimum_coordinates(\n",
    "            data_array=olr_pentada_69,\n",
    "            threshold=230,\n",
    "            lat_bounds=(-15, 5), # Latitude entre 15°S e 5°N\n",
    "            lon_bounds=(-70, -40) # Longitude entre 70°W e 40°W\n",
    "        )\n",
    "        print(f\"\\nMínimos com limites definidos: {min_coords_bounds[:5]}...\")\n",
    "\n",
    "    except Exception as e:\n",
    "        print(f\"Erro ao buscar mínimos de OLR: {e}\")"
   ]
  },
  {
   "cell_type": "code",
   "execution_count": 14,
   "id": "e83acfc1",
   "metadata": {},
   "outputs": [
    {
     "name": "stdout",
     "output_type": "stream",
     "text": [
      "2025-09-28 18:09:39,381 - loczcit_iqr.core.processor - INFO - Aplicando máscara (buffer: 0.0°, inverter: False, preenchimento: nan)\n",
      "2025-09-28 18:09:39,382 - loczcit_iqr.core.processor - INFO - Usando área de estudo padrão\n",
      "2025-09-28 18:09:39,402 - loczcit_iqr.core.processor - INFO - Máscara aplicada: 64800 → 763 valores válidos. 64037 pixels preenchidos.\n",
      "2025-09-28 18:09:39,403 - loczcit_iqr.core.processor - INFO - Aplicando máscara (buffer: 0.0°, inverter: False, preenchimento: nan)\n",
      "2025-09-28 18:09:39,404 - loczcit_iqr.core.processor - INFO - Criando máscara retangular: Lat (-10, 10), Lon (-60, -30)\n",
      "2025-09-28 18:09:39,407 - loczcit_iqr.core.processor - INFO - Máscara aplicada: 64800 → 600 valores válidos. 64200 pixels preenchidos.\n"
     ]
    }
   ],
   "source": [
    "# processor é uma instância de DataProcessor\n",
    "# olr_data_pentada é um xr.DataArray de OLR para uma pentada\n",
    "\n",
    "# Opção 1: Usar a área de estudo padrão (Area_LOCZCIT.parquet)\n",
    "# (desde que self.default_study_area_path esteja configurado corretamente no DataProcessor)\n",
    "pentada_69_mascarado_default = processor.apply_mask(data=pentads_2024['olr'].sel(pentada=69))\n",
    "\n",
    "# Opção 2: Fornecer limites de latitude e longitude\n",
    "olr_mascarado_bounds = processor.apply_mask(\n",
    "    data=pentads_2024['olr'].sel(pentada=69),\n",
    "    lat_bounds=(-10, 10), # Exemplo: 10S a 10N\n",
    "    lon_bounds=(-60, -30) # Exemplo: 60W a 30W\n",
    ")\n",
    "\n",
    "# Opção 3: Fornecer um caminho para um shapefile/parquet customizado\n",
    "#caminho_custom_shape = \"caminho/para/seu/outro_shapefile.shp\"\n",
    "# olr_mascarado_custom_shp = processor.apply_mask(\n",
    "# data=olr_data_pentada,\n",
    "# mask_source=caminho_custom_shape\n",
    "# )\n",
    "\n",
    "# Opção 4: Fornecer um GeoDataFrame\n",
    "# gdf_custom = gpd.read_file(...)\n",
    "# olr_mascarado_custom_gdf = processor.apply_mask(\n",
    "# data=olr_data_pentada,\n",
    "# mask_source=gdf_custom\n",
    "# )\n",
    "\n",
    "# Opção 5: Fornecer um DataArray booleano como máscara\n",
    "# mascara_booleana = (olr_data_pentada.lat > 0) & (olr_data_pentada.lon < -40)\n",
    "# olr_mascarado_da = processor.apply_mask(\n",
    "# data=olr_data_pentada,\n",
    "# mask_source=mascara_booleana\n",
    "# )"
   ]
  },
  {
   "cell_type": "code",
   "execution_count": 15,
   "id": "a7157fae",
   "metadata": {},
   "outputs": [
    {
     "name": "stdout",
     "output_type": "stream",
     "text": [
      "2025-09-28 18:10:01,614 - loczcit_iqr.core.processor - INFO - Criando Hovmöller para longitude -54.50° (solicitado: -55.00°)\n",
      "2025-09-28 18:10:01,637 - loczcit_iqr.core.processor - INFO - Suavização temporal aplicada (3 pentadas)\n",
      "\n",
      "Dados para Hovmöller (Lon=-55.0°):\n",
      "<xarray.DataArray 'olr' (lat: 180, pentada: 73)> Size: 53kB\n",
      "array([[180.88321, 180.43541, 180.64696, ..., 180.12134, 183.23726,\n",
      "        185.56659],\n",
      "       [183.69386, 183.61719, 184.72168, ..., 183.37164, 186.03947,\n",
      "        188.39905],\n",
      "       [188.5987 , 188.32866, 188.27785, ..., 186.96948, 188.97388,\n",
      "        190.77036],\n",
      "       ...,\n",
      "       [169.08841, 171.51622, 173.07271, ..., 164.47243, 162.27754,\n",
      "        158.49622],\n",
      "       [168.79611, 171.61847, 171.95619, ..., 163.78795, 162.85657,\n",
      "        160.77768],\n",
      "       [168.30109, 171.68001, 172.12572, ..., 166.004  , 164.42699,\n",
      "        162.25925]], shape=(180, 73), dtype=float32)\n",
      "Coordinates:\n",
      "  * lat      (lat) float32 720B -89.5 -88.5 -87.5 -86.5 ... 86.5 87.5 88.5 89.5\n",
      "    lon      float32 4B -54.5\n",
      "  * pentada  (pentada) int64 584B 1 2 3 4 5 6 7 8 9 ... 66 67 68 69 70 71 72 73\n",
      "    time     (pentada) datetime64[us] 584B 2024-01-03 2024-01-08 ... 2024-12-28\n",
      "Attributes:\n",
      "    longitude_requested:  -55.0\n",
      "    longitude_actual:     -54.5\n",
      "    diagram_type:         Hovmöller\n",
      "    smooth_temporal:      True\n",
      "    years:                climatologia\n"
     ]
    }
   ],
   "source": [
    "# Assumindo que 'pentads_2024' (para um ano) existe e 'processor' existe\n",
    "if 'pentads_2024' in locals() and pentads_2024 is not None:\n",
    "    try:\n",
    "        longitude_para_hovmoller = -55.0 # Longitude na Amazônia\n",
    "\n",
    "        dados_hov = processor.create_hovmoller_data(\n",
    "            pentad_dataset=pentads_2024, # Para um ano específico\n",
    "            longitude=longitude_para_hovmoller,\n",
    "            smooth_temporally=True\n",
    "        )\n",
    "        print(f\"\\nDados para Hovmöller (Lon={longitude_para_hovmoller}°):\")\n",
    "        print(dados_hov)\n",
    "        # Para plotar: dados_hov.plot()\n",
    "    except Exception as e:\n",
    "        print(f\"Erro ao criar dados para Hovmöller: {e}\")\n",
    "                "
   ]
  },
  {
   "cell_type": "code",
   "execution_count": 16,
   "id": "d65318f1",
   "metadata": {},
   "outputs": [
    {
     "name": "stdout",
     "output_type": "stream",
     "text": [
      "\n",
      "NaNs antes da interpolação: 0\n",
      "2025-09-28 18:10:12,630 - loczcit_iqr.core.processor - INFO - Nenhum dado faltante para interpolar\n",
      "NaNs após interpolação: 0\n"
     ]
    }
   ],
   "source": [
    "# Assumindo que 'olr_pentada_69' existe e tem alguns NaNs\n",
    "if 'olr_pentada_69' in locals() and olr_pentada_69 is not None:\n",
    "    import numpy as np\n",
    "    try:\n",
    "        olr_com_nans = olr_pentada_69.copy()\n",
    "        # Introduzir alguns NaNs para teste\n",
    "        olr_com_nans[dict(lat=slice(-5,5), lon=slice(-60,-55))] = np.nan \n",
    "        print(f\"\\nNaNs antes da interpolação: {olr_com_nans.isnull().sum().item()}\")\n",
    "\n",
    "        olr_interpolado = processor.interpolate_missing_data(\n",
    "            data=olr_com_nans,\n",
    "            method='linear', # Métodos comuns: 'linear', 'nearest'\n",
    "            dim='lat'        # Interpolar ao longo da dimensão de latitude\n",
    "        )\n",
    "        print(f\"NaNs após interpolação: {olr_interpolado.isnull().sum().item()}\")\n",
    "    except Exception as e:\n",
    "        print(f\"Erro ao interpolar dados: {e}\")"
   ]
  },
  {
   "cell_type": "code",
   "execution_count": 37,
   "id": "a9b7d61b",
   "metadata": {},
   "outputs": [
    {
     "name": "stdout",
     "output_type": "stream",
     "text": [
      "2025-09-28 18:25:18,976 - loczcit_iqr.core.iqr_detector - INFO - IQRDetector inicializado com constante: 0.75\n",
      "\n",
      "\n",
      "2025-09-28 18:25:18,976 - loczcit_iqr.core.iqr_detector - INFO - IQRDetector inicializado com constante: 0.5\n",
      "2025-09-28 18:25:18,977 - loczcit_iqr.core.iqr_detector - INFO - Detectando outliers em 8 coordenadas (analisando latitude)\n",
      "2025-09-28 18:25:18,978 - loczcit_iqr.core.iqr_detector - INFO - Detecção concluída: 6 válidas, 2 outliers\n",
      "2025-09-28 18:25:18,978 - loczcit_iqr.core.iqr_detector - INFO - IQRDetector inicializado com constante: 0.75\n",
      "2025-09-28 18:25:18,979 - loczcit_iqr.core.iqr_detector - INFO - Detectando outliers em 8 coordenadas (analisando latitude)\n",
      "2025-09-28 18:25:18,980 - loczcit_iqr.core.iqr_detector - INFO - Detecção concluída: 6 válidas, 2 outliers\n",
      "2025-09-28 18:25:18,981 - loczcit_iqr.core.iqr_detector - INFO - IQRDetector inicializado com constante: 1.0\n",
      "2025-09-28 18:25:18,981 - loczcit_iqr.core.iqr_detector - INFO - Detectando outliers em 8 coordenadas (analisando latitude)\n",
      "2025-09-28 18:25:18,982 - loczcit_iqr.core.iqr_detector - INFO - Detecção concluída: 7 válidas, 1 outliers\n",
      "2025-09-28 18:25:18,983 - loczcit_iqr.core.iqr_detector - INFO - IQRDetector inicializado com constante: 1.5\n",
      "2025-09-28 18:25:18,984 - loczcit_iqr.core.iqr_detector - INFO - Detectando outliers em 8 coordenadas (analisando latitude)\n",
      "2025-09-28 18:25:18,984 - loczcit_iqr.core.iqr_detector - INFO - Detecção concluída: 8 válidas, 0 outliers\n",
      "2025-09-28 18:25:18,985 - loczcit_iqr.core.iqr_detector - INFO - IQRDetector inicializado com constante: 2.0\n",
      "2025-09-28 18:25:18,985 - loczcit_iqr.core.iqr_detector - INFO - Detectando outliers em 8 coordenadas (analisando latitude)\n",
      "2025-09-28 18:25:18,986 - loczcit_iqr.core.iqr_detector - INFO - Detecção concluída: 8 válidas, 0 outliers\n",
      "2025-09-28 18:25:18,986 - loczcit_iqr.core.iqr_detector - INFO - IQRDetector inicializado com constante: 2.5\n",
      "2025-09-28 18:25:18,987 - loczcit_iqr.core.iqr_detector - INFO - Detectando outliers em 8 coordenadas (analisando latitude)\n",
      "2025-09-28 18:25:18,988 - loczcit_iqr.core.iqr_detector - INFO - Detecção concluída: 8 válidas, 0 outliers\n",
      "2025-09-28 18:25:18,988 - loczcit_iqr.core.iqr_detector - INFO - IQRDetector inicializado com constante: 3.0\n",
      "2025-09-28 18:25:18,989 - loczcit_iqr.core.iqr_detector - INFO - Detectando outliers em 8 coordenadas (analisando latitude)\n",
      "2025-09-28 18:25:18,989 - loczcit_iqr.core.iqr_detector - INFO - Detecção concluída: 8 válidas, 0 outliers\n"
     ]
    }
   ],
   "source": [
    "# Constante multiplicativa para o IQR (default: 1.5)\n",
    "iqr = IQRDetector(constant=0.75)\n",
    "print(\"\\n\")\n",
    "# Testa diferentes constantes IQR para análise de sensibilidade.\n",
    "sensibilidade = iqr.test_different_constants(coordinates=min_coords_area_padrao)\n"
   ]
  },
  {
   "cell_type": "code",
   "execution_count": 38,
   "id": "69416344",
   "metadata": {},
   "outputs": [
    {
     "name": "stdout",
     "output_type": "stream",
     "text": [
      "2025-09-28 18:25:41,447 - loczcit_iqr.core.iqr_detector - INFO - IQRDetector inicializado com constante: 0.75\n",
      "2025-09-28 18:25:41,448 - loczcit_iqr.core.iqr_detector - INFO - Detectando outliers em 8 coordenadas (analisando latitude)\n",
      "2025-09-28 18:25:41,449 - loczcit_iqr.core.iqr_detector - INFO - Detecção concluída: 6 válidas, 2 outliers\n",
      "Coordenadas Válidas:\n",
      "[(-43.5, -0.5), (-37.5, 0.5), (-29.5, 5.5), (-27.5, 4.5), (-15.5, 4.5), (-10.5, 1.5)]\n",
      "\n",
      "Número de coordenadas válidas: 6\n",
      "\n",
      "Coordenadas Outliers:\n",
      "[(-20.5, 12.5), (-18.5, 14.5)]\n",
      "Número de outliers: 2\n"
     ]
    }
   ],
   "source": [
    "outliers = IQRDetector(constant=0.75)\n",
    "\n",
    "resultado_completo_iqr = outliers.detect_outliers(coordinates=min_coords_area_padrao, \n",
    "                                                  coordinate_index=1) # (0=lon, 1=lat)\n",
    "\n",
    "# Para capturar as coordenadas válidas:\n",
    "coordenadas_validas = resultado_completo_iqr[0]\n",
    "\n",
    "# Para capturar os outliers (se precisar deles também):\n",
    "coordenadas_outliers = resultado_completo_iqr[1]\n",
    "\n",
    "# E as estatísticas:\n",
    "estatisticas_iqr = resultado_completo_iqr[2]\n",
    "\n",
    "# Agora você pode imprimir ou usar a lista de coordenadas válidas:\n",
    "print(\"Coordenadas Válidas:\")\n",
    "print(coordenadas_validas)\n",
    "print(f\"\\nNúmero de coordenadas válidas: {len(coordenadas_validas)}\")\n",
    "\n",
    "# E os outliers, se desejar:\n",
    "print(\"\\nCoordenadas Outliers:\")\n",
    "print(coordenadas_outliers)\n",
    "print(f\"Número de outliers: {len(coordenadas_outliers)}\")\n"
   ]
  },
  {
   "cell_type": "code",
   "execution_count": 39,
   "id": "8ba281e4",
   "metadata": {},
   "outputs": [
    {
     "name": "stdout",
     "output_type": "stream",
     "text": [
      "2025-09-28 18:26:00,071 - loczcit_iqr.core.spline_interpolator - INFO - SplineInterpolator inicializado: método='bspline', lat_ref=0.00°\n",
      "\n",
      "Calculando pesos para y_coords: [-0.5  0.5  5.5  4.5  4.5  1.5] com reference_latitude = 5.0°\n",
      "2025-09-28 18:26:00,072 - loczcit_iqr.core.spline_interpolator - DEBUG - Calculando pesos para lat_ref=5.00°\n",
      "2025-09-28 18:26:00,072 - loczcit_iqr.core.spline_interpolator - DEBUG - Pesos: min=0.154, max=0.898, mean=0.557\n",
      "Pesos calculados: [0.1542724  0.37227268 0.72777011 0.89778044 0.74225677 0.45052555]\n",
      "Peso para latitude -0.5 (próxima de 5.0°): 0.1543\n",
      "Peso para latitude 1.5 (distante de 5.0°): 0.4505\n",
      "Teste básico: Atenção (ponto mais próximo da referência NÃO teve peso maior).\n",
      "\n",
      "Calculando pesos para y_coords: [-0.5  0.5  5.5  4.5  4.5  1.5] com reference_latitude = 0.0°\n",
      "2025-09-28 18:26:00,073 - loczcit_iqr.core.spline_interpolator - DEBUG - Calculando pesos para lat_ref=0.00°\n",
      "2025-09-28 18:26:00,074 - loczcit_iqr.core.spline_interpolator - DEBUG - Pesos: min=0.171, max=0.943, mean=0.441\n",
      "Pesos calculados (ref Equador): [0.94271085 0.72788358 0.37120261 0.17125638 0.1798485  0.25356373]\n",
      "Peso para latitude -0.5 (5.5°) (ref Equador): 0.9427\n",
      "Peso para latitude 1.5 (2.5°) (ref Equador): 0.2536\n",
      "Teste básico Equador: Atenção (ponto mais próximo da referência NÃO teve peso maior).\n"
     ]
    }
   ],
   "source": [
    "# Crie uma instância do interpolador\n",
    "# Você pode definir a default_reference_latitude aqui ou passar uma específica\n",
    "# para _calculate_weights.\n",
    "interpolator = SplineInterpolator(log_level=logging.DEBUG, default_reference_latitude=0.0)\n",
    "\n",
    "# Extrair apenas as latitudes (y_coords)\n",
    "y_coords = np.array([coord[1] for coord in coordenadas_validas])\n",
    "\n",
    "# Definir a latitude de referência para o cálculo dos pesos\n",
    "latitude_de_referencia_teste = 5.0 # Por exemplo, 5.0 graus\n",
    "\n",
    "# Chamar o método _calculate_weights\n",
    "# Lembre-se que este é um método \"protegido\", mas pode ser chamado para teste.\n",
    "try:\n",
    "    print(f\"\\nCalculando pesos para y_coords: {y_coords} com reference_latitude = {latitude_de_referencia_teste}°\")\n",
    "    pesos_calculados = interpolator._calculate_weights(y_coords, reference_latitude=latitude_de_referencia_teste) #\n",
    "    print(f\"Pesos calculados: {pesos_calculados}\")\n",
    "\n",
    "    # Verificando o peso para a primeira coordenada (latitude 5.5, próxima de 5.0)\n",
    "    # e a última (latitude 2.5, mais distante de 5.0)\n",
    "    if len(pesos_calculados) > 0:\n",
    "        print(f\"Peso para latitude {y_coords[0]} (próxima de {latitude_de_referencia_teste}°): {pesos_calculados[0]:.4f}\")\n",
    "        print(f\"Peso para latitude {y_coords[-1]} (distante de {latitude_de_referencia_teste}°): {pesos_calculados[-1]:.4f}\")\n",
    "        if pesos_calculados[0] > pesos_calculados[-1]:\n",
    "            print(\"Teste básico: OK (ponto mais próximo da referência teve peso maior que o mais distante).\")\n",
    "        else:\n",
    "            print(\"Teste básico: Atenção (ponto mais próximo da referência NÃO teve peso maior).\")\n",
    "\n",
    "    # Teste com outra latitude de referência, por exemplo, o equador (0.0)\n",
    "    latitude_de_referencia_equador = 0.0\n",
    "    print(f\"\\nCalculando pesos para y_coords: {y_coords} com reference_latitude = {latitude_de_referencia_equador}°\")\n",
    "    pesos_equador = interpolator._calculate_weights(y_coords, reference_latitude=latitude_de_referencia_equador) #\n",
    "    print(f\"Pesos calculados (ref Equador): {pesos_equador}\")\n",
    "    if len(pesos_equador) > 0:\n",
    "        print(f\"Peso para latitude {y_coords[0]} (5.5°) (ref Equador): {pesos_equador[0]:.4f}\")\n",
    "        print(f\"Peso para latitude {y_coords[-1]} (2.5°) (ref Equador): {pesos_equador[-1]:.4f}\")\n",
    "        if pesos_equador[-1] > pesos_equador[0]: # Agora 2.5 é mais próximo de 0.0 que 5.5\n",
    "             print(\"Teste básico Equador: OK (ponto mais próximo da referência teve peso maior).\")\n",
    "        else:\n",
    "            print(\"Teste básico Equador: Atenção (ponto mais próximo da referência NÃO teve peso maior).\")\n",
    "\n",
    "\n",
    "except Exception as e:\n",
    "    print(f\"Erro ao calcular pesos diretamente: {e}\")\n"
   ]
  },
  {
   "cell_type": "markdown",
   "id": "bb1e1f84",
   "metadata": {},
   "source": [
    "## 🎯 method (Método de Interpolação)\n",
    "Imagine que você tem pontos espalhados e quer traçar uma linha suave entre eles. O método é como escolher diferentes tipos de \"caneta\" para desenhar:\n",
    "\n",
    "BSPLINE: Como uma mangueira flexível que passa \"perto\" dos pontos\n",
    "CUBIC: Como uma régua curva que passa exatamente por cada ponto\n",
    "AKIMA: Similar ao cubic, mas evita oscilações bruscas\n",
    "PCHIP: Preserva a forma dos dados, evitando \"montanhas-russas\"\n",
    "LINEAR: Simplesmente conecta os pontos com linhas retas\n",
    "\n",
    "## 🎨 smooth_factor (Fator de Suavização)\n",
    "É como ajustar a \"tensão\" de uma corda:\n",
    "\n",
    "'auto': O algoritmo decide sozinho\n",
    "'low' (0.1): Corda bem solta, segue os pontos de perto\n",
    "'medium' (0.5): Equilíbrio entre suavidade e precisão\n",
    "'high' (1.0): Corda tensa, linha mais suave mas pode se afastar dos pontos\n",
    "Número direto: Você define exatamente o quanto suavizar\n",
    "\n",
    "## 📐 degree (Grau do Spline)\n",
    "É a \"complexidade\" da curva:\n",
    "\n",
    "1: Linhas retas (linear)\n",
    "2: Curvas simples (parábolas)\n",
    "3: Curvas mais complexas (cúbicas) - padrão\n",
    "4+: Curvas ainda mais flexíveis\n",
    "Quanto maior o grau, mais \"ondulada\" a linha pode ficar.\n",
    "\n",
    "## 🔢 num_points_output (Pontos de Saída)\n",
    "Se você tem 10 pontos originais, mas quer uma linha com 100 pontos para ficar bem suave na visualização. É como a \"resolução\" da sua linha final.\n",
    "\n",
    "## 🌊 max_curvature_threshold (Limiar de Curvatura)\n",
    "Este é o mais complexo! Vamos com uma analogia detalhada:\n",
    "Imagine que você está dirigindo numa estrada. A curvatura mede o quão fechada é uma curva:\n",
    "\n",
    "Curvatura = 0: Linha completamente reta\n",
    "Curvatura pequena: Curva suave (como numa rodovia)\n",
    "Curvatura grande: Curva fechada (como numa montanha)\n",
    "\n",
    "O max_curvature_threshold é como definir: \"não quero curvas mais fechadas que X\".\n",
    "\n",
    "Se a interpolação criar uma curva mais fechada que o limite, o sistema pode:\n",
    "\n",
    "Avisar que há um problema\n",
    "Tentar outro método (fallback para linear)\n",
    "\n",
    "## 🚀 extrapolate_flag (Extrapolação)\n",
    "Imagine que seus pontos vão de longitude 10° a 20°:\n",
    "\n",
    "False (padrão): A linha só existe entre 10° e 20°\n",
    "True: A linha \"continua\" além dos limites, prevendo onde iria\n",
    "\n",
    "É como a diferença entre:\n",
    "\n",
    "False: \"Só desenho onde tenho certeza\"\n",
    "True: \"Vou estender o padrão além do que conheço\"\n",
    "\n",
    "## 🎯 reference_latitude (Latitude de Referência)\n",
    "Este é especial para a ZCIT! Imagine que a latitude de referência é como um \"ímã\":\n",
    "\n",
    "Se reference_latitude = 5.0, pontos próximos a 5°N terão mais \"peso\"\n",
    "A interpolação será \"puxada\" para passar mais perto desses pontos\n",
    "Útil quando você sabe que a ZCIT \"deveria\" estar próxima a uma latitude específica"
   ]
  },
  {
   "cell_type": "code",
   "execution_count": 40,
   "id": "c7077364",
   "metadata": {},
   "outputs": [
    {
     "name": "stdout",
     "output_type": "stream",
     "text": [
      "Coordenadas de entrada: [(-43.5, -0.5), (-37.5, 0.5), (-29.5, 5.5), (-27.5, 4.5), (-15.5, 4.5), (-10.5, 1.5)]\n",
      "\n",
      "--- Método: B-spline ---\n",
      "  Linha gerada: 100 pontos, Comprimento: 36.56\n",
      "  Estatísticas: Suavização='medium', Grau=3\n",
      "  Qualidade: Válida=True, Problemas=['Linha não cobre range completo de longitude']\n",
      "\n",
      "--- Método: Cúbica ---\n",
      "  Linha gerada: 100 pontos, Comprimento: 37.02\n",
      "  Qualidade: Válida=True, Problemas=[]\n",
      "\n",
      "--- Método: Akima ---\n",
      "  Linha gerada: 100 pontos, Comprimento: 35.87\n",
      "  Qualidade: Válida=True, Problemas=[]\n",
      "\n",
      "--- Método: PCHIP ---\n",
      "  Linha gerada: 100 pontos, Comprimento: 35.88\n",
      "  Qualidade: Válida=True, Problemas=[]\n",
      "\n",
      "--- Método: Linear ---\n",
      "  Linha gerada: 100 pontos, Comprimento: 35.58\n",
      "  Qualidade: Válida=True, Problemas=[]\n",
      "\n",
      "--- Método: B-spline (Suavização = 0.8, Grau = 2) ---\n",
      "  Linha gerada: 100 pontos, Comprimento: 34.32\n",
      "  Estatísticas: Suavização='0.8', Grau=2\n",
      "  Qualidade: Válida=True, Problemas=['Linha não cobre range completo de longitude']\n"
     ]
    }
   ],
   "source": [
    "#from LoczcitIQR.core.spline_interpolator import SplineInterpolator, SplineParameters, InterpolationMethod\n",
    "from shapely.geometry import LineString # Apenas para type hinting, não é estritamente necessário para executar\n",
    "\n",
    "# Se não houver coordenadas suficientes, a interpolação pode falhar ou recorrer a métodos mais simples.\n",
    "# A classe SplineInterpolator tem um min_input_points (padrão 3).\n",
    "if len(coordenadas_validas) < 3:\n",
    "    print(\"Coordenadas insuficientes para a maioria dos métodos de interpolação. Adicione mais pontos.\")\n",
    "    exit()\n",
    "\n",
    "# Instanciando o interpolador\n",
    "# O default_method aqui é 'bspline', mas vamos sobrescrever com SplineParameters\n",
    "interpolator = SplineInterpolator(log_level=\"WARNING\") # Reduzindo o log para os exemplos\n",
    "\n",
    "print(f\"Coordenadas de entrada: {coordenadas_validas}\")\n",
    "\n",
    "# --- Exemplo 1: B-spline (Padrão da classe, mas especificado via SplineParameters) ---\n",
    "print(\"\\n--- Método: B-spline ---\")\n",
    "params_bspline = SplineParameters(\n",
    "    method=InterpolationMethod.BSPLINE,\n",
    "    smooth_factor='medium',  # Suavização moderada. Pode ser 'auto', 'low', 'medium', 'high', ou um float como 0.5, 1.0, etc.\n",
    "    degree=3,              # Grau do spline (para B-spline)\n",
    "    num_points_output=100, # Número de pontos na linha interpolada\n",
    "    extrapolate_flag = True,\n",
    "    reference_latitude=0   # Latitude de Referência\n",
    ")\n",
    "try:\n",
    "    zcit_line_bspline: LineString\n",
    "    stats_bspline: dict\n",
    "    zcit_line_bspline, stats_bspline = interpolator.interpolate(\n",
    "        coordenadas_validas,\n",
    "        parameters=params_bspline\n",
    "    )\n",
    "    quality_bspline = interpolator.validate_interpolation(coordenadas_validas, zcit_line_bspline)\n",
    "    print(f\"  Linha gerada: {len(zcit_line_bspline.coords)} pontos, Comprimento: {zcit_line_bspline.length:.2f}\")\n",
    "    print(f\"  Estatísticas: Suavização='{stats_bspline['interpolation_parameters']['smooth_factor']}', Grau={stats_bspline['interpolation_parameters']['degree']}\")\n",
    "    print(f\"  Qualidade: Válida={quality_bspline['is_valid']}, Problemas={quality_bspline.get('issues', [])}\")\n",
    "except Exception as e:\n",
    "    print(f\"  Erro ao interpolar com B-spline: {e}\")\n",
    "\n",
    "# --- Exemplo 2: Interpolação Cúbica ---\n",
    "print(\"\\n--- Método: Cúbica ---\")\n",
    "params_cubic = SplineParameters(\n",
    "    method=InterpolationMethod.CUBIC,\n",
    "    num_points_output=100\n",
    ")\n",
    "try:\n",
    "    zcit_line_cubic, stats_cubic = interpolator.interpolate(\n",
    "        coordenadas_validas,\n",
    "        parameters=params_cubic\n",
    "    )\n",
    "    quality_cubic = interpolator.validate_interpolation(coordenadas_validas, zcit_line_cubic)\n",
    "    print(f\"  Linha gerada: {len(zcit_line_cubic.coords)} pontos, Comprimento: {zcit_line_cubic.length:.2f}\")\n",
    "    print(f\"  Qualidade: Válida={quality_cubic['is_valid']}, Problemas={quality_cubic.get('issues', [])}\")\n",
    "except Exception as e:\n",
    "    print(f\"  Erro ao interpolar com Cúbica: {e}\")\n",
    "\n",
    "# --- Exemplo 3: Interpolação Akima ---\n",
    "# Akima requer pelo menos 3 pontos e pode ser mais robusta a outliers locais.\n",
    "print(\"\\n--- Método: Akima ---\")\n",
    "params_akima = SplineParameters(\n",
    "    method=InterpolationMethod.AKIMA,\n",
    "    num_points_output=100\n",
    ")\n",
    "try:\n",
    "    zcit_line_akima, stats_akima = interpolator.interpolate(\n",
    "        coordenadas_validas,\n",
    "        parameters=params_akima\n",
    "    )\n",
    "    quality_akima = interpolator.validate_interpolation(coordenadas_validas, zcit_line_akima)\n",
    "    print(f\"  Linha gerada: {len(zcit_line_akima.coords)} pontos, Comprimento: {zcit_line_akima.length:.2f}\")\n",
    "    print(f\"  Qualidade: Válida={quality_akima['is_valid']}, Problemas={quality_akima.get('issues', [])}\")\n",
    "except Exception as e:\n",
    "    print(f\"  Erro ao interpolar com Akima: {e}\")\n",
    "\n",
    "# --- Exemplo 4: Interpolação PCHIP ---\n",
    "# PCHIP preserva a monotonicidade dos dados originais.\n",
    "print(\"\\n--- Método: PCHIP ---\")\n",
    "params_pchip = SplineParameters(\n",
    "    method=InterpolationMethod.PCHIP,\n",
    "    num_points_output=100\n",
    ")\n",
    "try:\n",
    "    zcit_line_pchip, stats_pchip = interpolator.interpolate(\n",
    "        coordenadas_validas,\n",
    "        parameters=params_pchip\n",
    "    )\n",
    "    quality_pchip = interpolator.validate_interpolation(coordenadas_validas, zcit_line_pchip)\n",
    "    print(f\"  Linha gerada: {len(zcit_line_pchip.coords)} pontos, Comprimento: {zcit_line_pchip.length:.2f}\")\n",
    "    print(f\"  Qualidade: Válida={quality_pchip['is_valid']}, Problemas={quality_pchip.get('issues', [])}\")\n",
    "except Exception as e:\n",
    "    print(f\"  Erro ao interpolar com PCHIP: {e}\")\n",
    "\n",
    "# --- Exemplo 5: Interpolação Linear ---\n",
    "# O método mais simples, conecta os pontos com segmentos de reta.\n",
    "print(\"\\n--- Método: Linear ---\")\n",
    "params_linear = SplineParameters(\n",
    "    method=InterpolationMethod.LINEAR,\n",
    "    num_points_output=100 # Para linear, os pontos intermediários estarão na reta.\n",
    "                          # O número de pontos aqui define a densidade ao longo dessas retas.\n",
    ")\n",
    "try:\n",
    "    zcit_line_linear, stats_linear = interpolator.interpolate(\n",
    "        coordenadas_validas,\n",
    "        parameters=params_linear\n",
    "    )\n",
    "    quality_linear = interpolator.validate_interpolation(coordenadas_validas, zcit_line_linear)\n",
    "    print(f\"  Linha gerada: {len(zcit_line_linear.coords)} pontos, Comprimento: {zcit_line_linear.length:.2f}\")\n",
    "    print(f\"  Qualidade: Válida={quality_linear['is_valid']}, Problemas={quality_linear.get('issues', [])}\")\n",
    "except Exception as e:\n",
    "    print(f\"  Erro ao interpolar com Linear: {e}\")\n",
    "\n",
    "# --- Exemplo 6: B-spline com fator de suavização numérico e grau diferente ---\n",
    "print(\"\\n--- Método: B-spline (Suavização = 0.8, Grau = 2) ---\")\n",
    "params_bspline_custom = SplineParameters(\n",
    "    method=InterpolationMethod.BSPLINE,\n",
    "    smooth_factor=0.8,  # Fornecendo um valor numérico para 's' (parâmetro de suavização do splprep)\n",
    "    degree=2,\n",
    "    num_points_output=100\n",
    ")\n",
    "try:\n",
    "    zcit_line_bspline_custom, stats_bspline_custom = interpolator.interpolate(\n",
    "        coordenadas_validas,\n",
    "        parameters=params_bspline_custom\n",
    "    )\n",
    "    quality_bspline_custom = interpolator.validate_interpolation(coordenadas_validas, zcit_line_bspline_custom)\n",
    "    print(f\"  Linha gerada: {len(zcit_line_bspline_custom.coords)} pontos, Comprimento: {zcit_line_bspline_custom.length:.2f}\")\n",
    "    print(f\"  Estatísticas: Suavização='{stats_bspline_custom['interpolation_parameters']['smooth_factor']}', Grau={stats_bspline_custom['interpolation_parameters']['degree']}\")\n",
    "    print(f\"  Qualidade: Válida={quality_bspline_custom['is_valid']}, Problemas={quality_bspline_custom.get('issues', [])}\")\n",
    "except Exception as e:\n",
    "    print(f\"  Erro ao interpolar com B-spline customizado: {e}\")"
   ]
  },
  {
   "cell_type": "code",
   "execution_count": 41,
   "id": "6f259946",
   "metadata": {},
   "outputs": [
    {
     "data": {
      "image/svg+xml": [
       "<svg xmlns=\"http://www.w3.org/2000/svg\" xmlns:xlink=\"http://www.w3.org/1999/xlink\" width=\"100.0\" height=\"100.0\" viewBox=\"-44.809411949131324 -1.862943963965483 35.85181743593928 10.243592849056492\" preserveAspectRatio=\"xMinYMin meet\"><g transform=\"matrix(1,0,0,-1,0,6.517704921125526)\"><polyline fill=\"none\" stroke=\"#66cc99\" stroke-width=\"0.7170363487187856\" points=\"-43.48156685891135,-0.5350988737455095 -43.11408266652599,-0.5281178727785218 -42.74923210066608,-0.5118035057413152 -42.38695401389378,-0.48643808194239635 -42.02718725877117,-0.4523039106902709 -41.66987068786041,-0.4096833012934453 -41.31494315372358,-0.3588585630604258 -40.962343508922814,-0.30011200529971843 -40.61201060602024,-0.23372593731982966 -40.26388329757794,-0.15998266842926542 -39.91790043615808,-0.07916450793653207 -39.57400087432273,0.008446234849864048 -39.232123464634036,0.10256725062141694 -38.892207059654126,0.20291623006962045 -38.55419051194507,0.3092108638859686 -38.218012674069044,0.42116884276195427 -37.88361239858812,0.538507857389072 -37.55092853806445,0.6609455984588156 -37.21989994506011,0.7881997566626786 -36.890465472137265,0.9199880226921548 -36.562563971858005,1.0560280872387384 -36.23613429678444,1.1960376409939224 -35.91111529947872,1.3397343746492012 -35.58744583250292,1.486835978896069 -35.265064748419206,1.637060144426018 -34.94391089978965,1.7901245619305444 -34.623923139176405,1.9457469221011403 -34.30504031914157,2.1036449156292996 -33.987201292247256,2.263536233206516 -33.670344911055594,2.4251385655242825 -33.354410028128704,2.5881696032740957 -33.03933549602869,2.752347037147448 -32.72506016731767,2.9173885578358325 -32.41152289455779,3.0830118560307436 -32.09866253031114,3.248934622423674 -31.78641792713983,3.414874547706119 -31.474727937606,3.580549322569571 -31.163531414271763,3.7456766377055257 -30.85276720969922,3.909974183805475 -30.5423741764505,4.073159651560913 -30.232291167087737,4.234950731663336 -29.922457034173036,4.395065114804235 -29.61281063026849,4.553220491675103 -29.30329080793625,4.709134552967438 -28.993836419738432,4.862524989372729 -28.684386318237124,5.0131094915824725 -28.374879355994466,5.160605750288161 -28.065254385572583,5.304731456181291 -27.755450259533582,5.445204299953352 -27.445405830439565,5.581741972295841 -27.135059950852682,5.714062163900252 -26.824351473335028,5.841882565458078 -26.513219250448724,5.964920867660811 -26.20160213475589,6.082894761199946 -25.88943897881865,6.195521936766978 -25.57666863519911,6.302520085053399 -25.263229956459394,6.403606896750706 -24.94906179516162,6.498500062550388 -24.634103003867896,6.586917273143942 -24.318292435140354,6.668576219222861 -24.0015689415411,6.743194591478639 -23.683871375632258,6.81049008060277 -23.365138589975952,6.870180377286747 -23.045309437134282,6.921983172222065 -22.724322769669378,6.965616156100215 -22.402117440143357,7.000797019612695 -22.07863230111833,7.027243453450997 -21.753806205156422,7.044673148306613 -21.427578004819743,7.0528037948710365 -21.09988655267042,7.051353083835766 -20.77067070127056,7.04003870589229 -20.439869303182295,7.018578351732106 -20.107421210967726,6.986689712046707 -19.773265277188976,6.944090477527586 -19.437340354408175,6.8904983388662355 -19.099585295187424,6.8256309867541525 -18.75993895208885,6.7492061118828275 -18.418340177674565,6.660941404943758 -18.074727824506684,6.560554556628434 -17.729040745147337,6.447763257628351 -17.381217792158633,6.322285198635002 -17.03119781810269,6.183838070339883 -16.678919675541625,6.032139563434486 -16.32432221703756,5.866907368610305 -15.96734429515261,5.687859176558835 -15.607924762448889,5.494712677971567 -15.24600247148852,5.287185563539997 -14.881516274833613,5.064995523955617 -14.514405025046297,4.827860249909925 -14.144607574688678,4.575497432094409 -13.772062776322883,4.307624761200567 -13.396709482511028,4.023959927919893 -13.01848654581522,3.724220622943877 -12.63733281879759,3.4081245369640176 -12.253187154020246,3.075389360671802 -11.865988404045314,2.725732784758732 -11.475675421434909,2.3588724999162975 -11.082187058751142,1.9745261968359882 -10.685462168556139,1.5724115662093063 -10.285439603412014,1.1522462987277415\" opacity=\"0.8\" /></g></svg>"
      ],
      "text/plain": [
       "<LINESTRING (-43.482 -0.535, -43.114 -0.528, -42.749 -0.512, -42.387 -0.486,...>"
      ]
     },
     "execution_count": 41,
     "metadata": {},
     "output_type": "execute_result"
    }
   ],
   "source": [
    "# --- Exemplo 1: B-spline ---\n",
    "zcit_line_bspline"
   ]
  },
  {
   "cell_type": "code",
   "execution_count": 42,
   "id": "30afdf7b",
   "metadata": {},
   "outputs": [
    {
     "data": {
      "image/svg+xml": [
       "<svg xmlns=\"http://www.w3.org/2000/svg\" xmlns:xlink=\"http://www.w3.org/1999/xlink\" width=\"100.0\" height=\"100.0\" viewBox=\"-44.82 -2.7670097537468754 35.64 9.699796168892227\" preserveAspectRatio=\"xMinYMin meet\"><g transform=\"matrix(1,0,0,-1,0,4.165776661398477)\"><polyline fill=\"none\" stroke=\"#66cc99\" stroke-width=\"0.7128\" points=\"-43.5,-0.5 -43.166666666666664,-0.7793431121523064 -42.833333333333336,-1.0067499084654972 -42.5,-1.1845709775482125 -42.166666666666664,-1.3151569080090775 -41.833333333333336,-1.400858288456721 -41.5,-1.4440257074997775 -41.166666666666664,-1.4470097537468751 -40.833333333333336,-1.4121610158066453 -40.5,-1.3418300822877176 -40.166666666666664,-1.2383675417987214 -39.833333333333336,-1.104123982948292 -39.5,-0.9414499943450528 -39.166666666666664,-0.7526961645976371 -38.833333333333336,-0.5402130823146813 -38.5,-0.30635133610480647 -38.166666666666664,-0.053461514576646385 -37.833333333333336,0.21610579366116256 -37.5,0.5 -37.166666666666664,0.7958705158312311 -36.833333333333336,1.1013667525462185 -36.5,1.4141381215363449 -36.166666666666664,1.731834034192973 -35.833333333333336,2.052103901907466 -35.5,2.372597136071206 -35.16666666666667,2.6909631480755505 -34.833333333333336,3.0048513493118816 -34.5,3.311911151171562 -34.16666666666667,3.6097919650459556 -33.833333333333336,3.896143202326445 -33.5,4.1686142744043915 -33.16666666666667,4.42485459267116 -32.833333333333336,4.662513568518133 -32.5,4.8792406133366715 -32.16666666666667,5.072685138518143 -31.833333333333336,5.240496555453925 -31.5,5.380324275535381 -31.166666666666668,5.489817710153881 -30.833333333333336,5.566626270700798 -30.5,5.608399368567497 -30.166666666666668,5.612786415145352 -29.833333333333336,5.577436821825729 -29.5,5.5 -29.166666666666668,5.380347980002432 -28.833333333333336,5.227243267938882 -28.5,5.051670988858106 -28.166666666666668,4.864616267808866 -27.833333333333336,4.67706422983991 -27.5,4.5 -27.166666666666668,4.342409365999693 -26.833333333333336,4.205280766196748 -26.5,4.087603301610726 -26.166666666666668,3.988366073261193 -25.833333333333336,3.906558182167709 -25.5,3.841168729349834 -25.166666666666668,3.791186815827134 -24.833333333333336,3.755601542619167 -24.5,3.7334020107454973 -24.166666666666668,3.723577321225686 -23.833333333333336,3.7251165750792956 -23.5,3.7370088733258884 -23.166666666666668,3.758243316985025 -22.833333333333336,3.7878090070762678 -22.5,3.8246950446191796 -22.166666666666668,3.8678905306333218 -21.833333333333336,3.916384566138256 -21.5,3.9691662521535456 -21.166666666666668,4.025224689698751 -20.833333333333336,4.083548979793434 -20.5,4.14312822345716 -20.166666666666668,4.202951521709486 -19.833333333333336,4.262007975569976 -19.5,4.319286686058193 -19.166666666666668,4.373776754193699 -18.833333333333336,4.424467280996053 -18.5,4.4703473674848215 -18.166666666666668,4.51040611467956 -17.833333333333336,4.543632623599842 -17.5,4.569015995265216 -17.166666666666668,4.585545330695252 -16.833333333333336,4.59220973090951 -16.5,4.587998296927551 -16.166666666666668,4.571900129768938 -15.833333333333336,4.542904330453234 -15.5,4.5 -15.166666666666668,4.442176239428797 -14.833333333333336,4.368422149759188 -14.5,4.277726832010735 -14.166666666666668,4.169079387202999 -13.833333333333336,4.041468916355544 -13.5,3.893884520487929 -13.166666666666668,3.725315300619719 -12.833333333333336,3.534750357770475 -12.5,3.3211787929597563 -12.166666666666668,3.083589707207129 -11.833333333333336,2.8209722015321534 -11.5,2.5323153769543887 -11.166666666666671,2.216608334493406 -10.833333333333336,1.8728401751687538 -10.5,1.5000000000000004\" opacity=\"0.8\" /></g></svg>"
      ],
      "text/plain": [
       "<LINESTRING (-43.5 -0.5, -43.167 -0.779, -42.833 -1.007, -42.5 -1.185, -42.1...>"
      ]
     },
     "execution_count": 42,
     "metadata": {},
     "output_type": "execute_result"
    }
   ],
   "source": [
    "# --- Exemplo 2: Interpolação Cúbica ---\n",
    "zcit_line_cubic"
   ]
  },
  {
   "cell_type": "code",
   "execution_count": 43,
   "id": "d68b3792",
   "metadata": {},
   "outputs": [
    {
     "data": {
      "image/svg+xml": [
       "<svg xmlns=\"http://www.w3.org/2000/svg\" xmlns:xlink=\"http://www.w3.org/1999/xlink\" width=\"100.0\" height=\"100.0\" viewBox=\"-44.82 -1.8383380261352973 35.64 8.658338026135297\" preserveAspectRatio=\"xMinYMin meet\"><g transform=\"matrix(1,0,0,-1,0,4.981661973864703)\"><polyline fill=\"none\" stroke=\"#66cc99\" stroke-width=\"0.7128\" points=\"-43.5,-0.5 -43.166666666666664,-0.5149019023897192 -42.833333333333336,-0.5183380261352971 -42.5,-0.5109039961013645 -42.166666666666664,-0.493195437152552 -41.833333333333336,-0.46580797415349096 -41.5,-0.4293372319688109 -41.166666666666664,-0.38437883546314305 -40.833333333333336,-0.33152840950111956 -40.5,-0.27138157894736853 -40.166666666666664,-0.2045339686665219 -39.833333333333336,-0.13158120352321193 -39.5,-0.05311890838206634 -39.166666666666664,0.03025729189228274 -38.833333333333336,0.11795177243520266 -38.5,0.20936890838206634 -38.166666666666664,0.3039130748682411 -37.833333333333336,0.40098864702909465 -37.5,0.5 -37.166666666666664,0.6157997532894747 -36.833333333333336,0.7616383009153306 -36.5,0.934516679776888 -36.166666666666664,1.1314359267734568 -35.833333333333336,1.3493970788043461 -35.5,1.5854011727688788 -35.16666666666667,1.836449245566358 -34.833333333333336,2.0995423340961077 -34.5,2.371681475257437 -34.16666666666667,2.649867705949653 -33.833333333333336,2.9311020630720805 -33.5,3.2123855835240276 -33.16666666666667,3.4907193042048013 -32.833333333333336,3.7631042620137283 -32.5,4.0265414938501145 -32.16666666666667,4.2780320366132685 -31.833333333333336,4.514576927202516 -31.5,4.733177202517163 -31.166666666666668,4.93083389945652 -30.833333333333336,5.104548054919908 -30.5,5.251320705806635 -30.166666666666668,5.368152889016017 -29.833333333333336,5.452045641447367 -29.5,5.5 -29.166666666666668,5.454106280193237 -28.833333333333336,5.292270531400967 -28.5,5.065217391304349 -28.166666666666668,4.823671497584542 -27.833333333333336,4.618357487922706 -27.5,4.5 -27.166666666666668,4.4476599733242255 -26.833333333333336,4.406122415784251 -26.5,4.37469806763285 -26.166666666666668,4.352697669122789 -25.833333333333336,4.33943196050684 -25.5,4.334211682037769 -25.166666666666668,4.336347573968347 -24.833333333333336,4.345150376551342 -24.5,4.359930830039526 -24.166666666666668,4.379999674685665 -23.833333333333336,4.40466765074253 -23.5,4.43324549846289 -23.166666666666668,4.465043958099513 -22.833333333333336,4.49937376990517 -22.5,4.5355456741326305 -22.166666666666668,4.572870411034662 -21.833333333333336,4.610658720864035 -21.5,4.648221343873518 -21.166666666666668,4.6848690203158805 -20.833333333333336,4.719912490443892 -20.5,4.752662494510321 -20.166666666666668,4.782429772767936 -19.833333333333336,4.80852506546951 -19.5,4.830259112867808 -19.166666666666668,4.846942655215602 -18.833333333333336,4.8578864327656595 -18.5,4.862401185770751 -18.166666666666668,4.8597976544836445 -17.833333333333336,4.849386579157111 -17.5,4.830478700043917 -17.166666666666668,4.802384757396835 -16.833333333333336,4.7644154914686325 -16.5,4.715881642512078 -16.166666666666668,4.65609395077994 -15.833333333333336,4.584363156524993 -15.5,4.5 -15.166666666666668,4.401252525252525 -14.833333333333336,4.2869898989899005 -14.5,4.157454545454545 -14.166666666666668,4.012888888888889 -13.833333333333336,3.8535353535353547 -13.5,3.6796363636363636 -13.166666666666668,3.491434343434344 -12.833333333333336,3.289171717171719 -12.5,3.0730909090909093 -12.166666666666668,2.8434343434343443 -11.833333333333336,2.6004444444444466 -11.5,2.344363636363637 -11.166666666666671,2.075434343434347 -10.833333333333336,1.7938989898989919 -10.5,1.5000000000000002\" opacity=\"0.8\" /></g></svg>"
      ],
      "text/plain": [
       "<LINESTRING (-43.5 -0.5, -43.167 -0.515, -42.833 -0.518, -42.5 -0.511, -42.1...>"
      ]
     },
     "execution_count": 43,
     "metadata": {},
     "output_type": "execute_result"
    }
   ],
   "source": [
    "# --- Exemplo 3: Interpolação Akima ---\n",
    "zcit_line_akima"
   ]
  },
  {
   "cell_type": "code",
   "execution_count": 44,
   "id": "954ae829",
   "metadata": {},
   "outputs": [
    {
     "data": {
      "image/svg+xml": [
       "<svg xmlns=\"http://www.w3.org/2000/svg\" xmlns:xlink=\"http://www.w3.org/1999/xlink\" width=\"100.0\" height=\"100.0\" viewBox=\"-44.82 -1.82 35.64 8.64\" preserveAspectRatio=\"xMinYMin meet\"><g transform=\"matrix(1,0,0,-1,0,5.0)\"><polyline fill=\"none\" stroke=\"#66cc99\" stroke-width=\"0.7128\" points=\"-43.5,-0.5 -43.166666666666664,-0.4955627488373649 -42.833333333333336,-0.4825688380340595 -42.5,-0.46149503161698285 -42.166666666666664,-0.4328180936130347 -41.833333333333336,-0.3970147880491154 -41.5,-0.3545618789521229 -41.166666666666664,-0.3059361303489575 -40.833333333333336,-0.2516143062665199 -40.5,-0.19207317073170738 -40.166666666666664,-0.12778948777142052 -39.833333333333336,-0.059240021412560406 -39.5,0.013098464317976427 -39.166666666666664,0.08874920539328904 -38.833333333333336,0.16723543778647604 -38.5,0.2480803974706413 -38.166666666666664,0.33080732041888367 -37.833333333333336,0.4149394426043018 -37.5,0.5 -37.166666666666664,0.6037185241644092 -36.833333333333336,0.7418416892502246 -36.5,0.9109184451219513 -36.166666666666664,1.1074977416440848 -35.833333333333336,1.3281285286811186 -35.5,1.569359756097561 -35.16666666666667,1.8277403737579005 -34.833333333333336,2.0998193315266462 -34.5,2.382145579268293 -34.16666666666667,2.671268066847331 -33.833333333333336,2.9637357441282726 -33.5,3.2560975609756095 -33.16666666666667,3.5449024672538343 -32.833333333333336,3.82669941282746 -32.5,4.098037347560975 -32.16666666666667,4.355465221318876 -31.833333333333336,4.595531983965672 -31.5,4.814786585365854 -31.166666666666668,5.009777975383919 -30.833333333333336,5.177055103884372 -30.5,5.313166920731708 -30.166666666666668,5.414662375790424 -29.833333333333336,5.478090418925023 -29.5,5.5 -29.166666666666668,5.4259259259259265 -28.833333333333336,5.240740740740742 -28.5,5.0 -28.166666666666668,4.75925925925926 -27.833333333333336,4.574074074074075 -27.5,4.5 -27.166666666666668,4.5 -26.833333333333336,4.5 -26.5,4.5 -26.166666666666668,4.5 -25.833333333333336,4.5 -25.5,4.5 -25.166666666666668,4.5 -24.833333333333336,4.5 -24.5,4.5 -24.166666666666668,4.5 -23.833333333333336,4.5 -23.5,4.5 -23.166666666666668,4.5 -22.833333333333336,4.5 -22.5,4.5 -22.166666666666668,4.5 -21.833333333333336,4.5 -21.5,4.5 -21.166666666666668,4.5 -20.833333333333336,4.5 -20.5,4.5 -20.166666666666668,4.5 -19.833333333333336,4.5 -19.5,4.5 -19.166666666666668,4.5 -18.833333333333336,4.5 -18.5,4.5 -18.166666666666668,4.5 -17.833333333333336,4.5 -17.5,4.5 -17.166666666666668,4.5 -16.833333333333336,4.5 -16.5,4.5 -16.166666666666668,4.5 -15.833333333333336,4.5 -15.5,4.5 -15.166666666666668,4.477882352941177 -14.833333333333336,4.414039215686276 -14.5,4.312235294117647 -14.166666666666668,4.176235294117648 -13.833333333333336,4.009803921568628 -13.5,3.816705882352941 -13.166666666666668,3.600705882352942 -12.833333333333336,3.365568627450982 -12.5,3.115058823529412 -12.166666666666668,2.8529411764705888 -11.833333333333336,2.582980392156865 -11.5,2.3089411764705883 -11.166666666666671,2.034588235294122 -10.833333333333336,1.763686274509806 -10.5,1.5\" opacity=\"0.8\" /></g></svg>"
      ],
      "text/plain": [
       "<LINESTRING (-43.5 -0.5, -43.167 -0.496, -42.833 -0.483, -42.5 -0.461, -42.1...>"
      ]
     },
     "execution_count": 44,
     "metadata": {},
     "output_type": "execute_result"
    }
   ],
   "source": [
    "# --- Exemplo 4: Interpolação PCHIP ---\n",
    "zcit_line_pchip"
   ]
  },
  {
   "cell_type": "code",
   "execution_count": 45,
   "id": "6e8b985b",
   "metadata": {},
   "outputs": [
    {
     "data": {
      "image/svg+xml": [
       "<svg xmlns=\"http://www.w3.org/2000/svg\" xmlns:xlink=\"http://www.w3.org/1999/xlink\" width=\"100.0\" height=\"100.0\" viewBox=\"-44.82 -1.82 35.64 8.64\" preserveAspectRatio=\"xMinYMin meet\"><g transform=\"matrix(1,0,0,-1,0,5.0)\"><polyline fill=\"none\" stroke=\"#66cc99\" stroke-width=\"0.7128\" points=\"-43.5,-0.5 -43.166666666666664,-0.44444444444444403 -42.833333333333336,-0.3888888888888893 -42.5,-0.33333333333333337 -42.166666666666664,-0.2777777777777774 -41.833333333333336,-0.22222222222222265 -41.5,-0.16666666666666669 -41.166666666666664,-0.11111111111111072 -40.833333333333336,-0.05555555555555597 -40.5,0.0 -40.166666666666664,0.05555555555555591 -39.833333333333336,0.11111111111111072 -39.5,0.16666666666666663 -39.166666666666664,0.22222222222222254 -38.833333333333336,0.27777777777777735 -38.5,0.33333333333333326 -38.166666666666664,0.3888888888888893 -37.833333333333336,0.444444444444444 -37.5,0.5 -37.166666666666664,0.7083333333333348 -36.833333333333336,0.9166666666666652 -36.5,1.125 -36.166666666666664,1.3333333333333348 -35.833333333333336,1.5416666666666652 -35.5,1.75 -35.16666666666667,1.9583333333333304 -34.833333333333336,2.166666666666665 -34.5,2.375 -34.16666666666667,2.5833333333333304 -33.833333333333336,2.791666666666665 -33.5,3.0 -33.16666666666667,3.2083333333333304 -32.833333333333336,3.416666666666665 -32.5,3.625 -32.16666666666667,3.8333333333333304 -31.833333333333336,4.041666666666665 -31.5,4.25 -31.166666666666668,4.458333333333332 -30.833333333333336,4.666666666666665 -30.5,4.875 -30.166666666666668,5.083333333333332 -29.833333333333336,5.291666666666665 -29.5,5.5 -29.166666666666668,5.333333333333334 -28.833333333333336,5.166666666666668 -28.5,5.0 -28.166666666666668,4.833333333333334 -27.833333333333336,4.666666666666668 -27.5,4.5 -27.166666666666668,4.5 -26.833333333333336,4.5 -26.5,4.5 -26.166666666666668,4.5 -25.833333333333336,4.5 -25.5,4.5 -25.166666666666668,4.5 -24.833333333333336,4.5 -24.5,4.5 -24.166666666666668,4.5 -23.833333333333336,4.5 -23.5,4.5 -23.166666666666668,4.5 -22.833333333333336,4.5 -22.5,4.5 -22.166666666666668,4.5 -21.833333333333336,4.5 -21.5,4.5 -21.166666666666668,4.5 -20.833333333333336,4.5 -20.5,4.5 -20.166666666666668,4.5 -19.833333333333336,4.5 -19.5,4.5 -19.166666666666668,4.5 -18.833333333333336,4.5 -18.5,4.5 -18.166666666666668,4.5 -17.833333333333336,4.5 -17.5,4.5 -17.166666666666668,4.5 -16.833333333333336,4.5 -16.5,4.5 -16.166666666666668,4.5 -15.833333333333336,4.5 -15.5,4.5 -15.166666666666668,4.300000000000001 -14.833333333333336,4.100000000000001 -14.5,3.9 -14.166666666666668,3.7000000000000006 -13.833333333333336,3.5000000000000013 -13.5,3.3 -13.166666666666668,3.1000000000000005 -12.833333333333336,2.9000000000000012 -12.5,2.7 -12.166666666666668,2.500000000000001 -11.833333333333336,2.3000000000000016 -11.5,2.1 -11.166666666666671,1.900000000000003 -10.833333333333336,1.7000000000000015 -10.5,1.5\" opacity=\"0.8\" /></g></svg>"
      ],
      "text/plain": [
       "<LINESTRING (-43.5 -0.5, -43.167 -0.444, -42.833 -0.389, -42.5 -0.333, -42.1...>"
      ]
     },
     "execution_count": 45,
     "metadata": {},
     "output_type": "execute_result"
    }
   ],
   "source": [
    "# --- Exemplo 5: Interpolação Linear ---\n",
    "zcit_line_linear"
   ]
  },
  {
   "cell_type": "code",
   "execution_count": 46,
   "id": "f873c79e",
   "metadata": {},
   "outputs": [
    {
     "name": "stdout",
     "output_type": "stream",
     "text": [
      "\n",
      "--- Método: B-spline (Suavização = 0.8, Grau = 2) ---\n"
     ]
    },
    {
     "data": {
      "image/svg+xml": [
       "<svg xmlns=\"http://www.w3.org/2000/svg\" xmlns:xlink=\"http://www.w3.org/1999/xlink\" width=\"100.0\" height=\"100.0\" viewBox=\"-44.75774088503571 -2.0459874291674978 35.59090504115996 8.455678239349021\" preserveAspectRatio=\"xMinYMin meet\"><g transform=\"matrix(1,0,0,-1,0,4.363703381014027)\"><polyline fill=\"none\" stroke=\"#66cc99\" stroke-width=\"0.7118181008231992\" points=\"-43.4395592168446,-0.727805760976388 -43.09740134114935,-0.6044260758844956 -42.75567757047066,-0.4818389239938276 -42.414387904808564,-0.3600443053043843 -42.073532344163034,-0.23904221981616547 -41.73311088853407,-0.11883266752917121 -41.393123537921696,0.0005843515565985558 -41.05357029232588,0.1192088374411439 -40.714451151746644,0.23704079012446466 -40.37576611618399,0.35408020960656045 -40.03751518563789,0.4703270958874324 -39.699698360108385,0.5857814489670795 -39.362315639595444,0.7004432688455019 -39.02536702409909,0.8143125555227 -38.68885251361929,0.9273893089986736 -38.35277210815607,1.0396735292734225 -38.01712580770944,1.151165216346947 -37.68191361227937,1.2618643702192471 -37.34713552186588,1.3717709908903222 -37.01279153646896,1.4808850783601728 -36.678881656088606,1.589206632628799 -36.34540588072484,1.696735653696201 -36.01236421037765,1.8034721415623785 -35.67975664504703,1.909416096227331 -35.34758318473298,2.014567517691059 -35.0158438294355,2.1189264059535624 -34.6845385791546,2.222492761014842 -34.35366743389027,2.325266582874896 -34.02323039364252,2.4272478715337265 -33.69322745841135,2.528436626991332 -33.363658628196745,2.6288328492477127 -33.034523902998714,2.7284365383028693 -32.70582328281726,2.827247694156801 -32.37755676765238,2.925266316809509 -32.049724357504076,3.0224924062609917 -31.72232605237234,3.1189259625112498 -31.39536185225719,3.214566985560283 -31.068831757158605,3.309415475408092 -30.742735767076592,3.403471432054677 -30.417073882011152,3.496734855500037 -30.091846101962297,3.589205745744173 -29.767052426930015,3.680884102787084 -29.4426928569143,3.77176992662877 -29.118767391915156,3.861863217269232 -28.795276031932595,3.9511639747084697 -28.472218776966606,4.039672198946483 -28.149595627017185,4.127387889983271 -27.827406582084343,4.2143110478188355 -27.50565164216808,4.300441672453173 -27.18433080726838,4.385779763886288 -26.86326540738009,4.46948599826962 -26.541743507416083,4.548215974864703 -26.219691271740288,4.6216228418864 -25.897108700352685,4.689706599334711 -25.57399579325328,4.752467247209639 -25.250352550442084,4.809904785511179 -24.926178971919075,4.862019214239337 -24.60147505768428,4.9088105333941074 -24.276240807737675,4.9502787429754935 -23.950476222079274,4.986423842983497 -23.62418130070907,5.017245833418112 -23.297356043627065,5.042744714279343 -22.97000045083326,5.062920485567189 -22.642114522327653,5.077773147281649 -22.313698258110247,5.0873026994227235 -21.984751658181043,5.091509141990414 -21.65527472254004,5.0903924749847205 -21.32526745118723,5.083952698405641 -20.994729844122624,5.072189812253176 -20.66366190134622,5.055103816527326 -20.33206362285801,5.03269471122809 -19.999935008658,5.0049624963554695 -19.667276058746193,4.971907171909463 -19.334086773122586,4.9335287378900725 -19.000367151787174,4.889827194297296 -18.666117194739968,4.8408025411311355 -18.33133690198096,4.78645477839159 -17.99602627351015,4.7267839060786585 -17.660185309327538,4.661789924192343 -17.323814009433132,4.5914728327326415 -16.986912373826918,4.515832631699554 -16.649480402508914,4.434869321093083 -16.311518095479098,4.348582900913226 -15.973025452737488,4.256973371159984 -15.634002474284076,4.160040731833357 -15.29444916011886,4.057784982933343 -14.95436551024185,3.950206124459947 -14.613751524653036,3.837304156413164 -14.272607203352425,3.719079078792997 -13.930932546340012,3.5955308915994433 -13.5887275536158,3.466659594832506 -13.245992225179785,3.332465188492183 -12.902726561031969,3.192947672578474 -12.558930561172355,3.0481070470913814 -12.214604225600938,2.897943312030902 -11.869747554317724,2.742456467397039 -11.524360547322711,2.581646513189791 -11.178443204615892,2.415513449409156 -10.831995526197277,2.2440572760551376 -10.485017512066864,2.067277993127735\" opacity=\"0.8\" /></g></svg>"
      ],
      "text/plain": [
       "<LINESTRING (-43.44 -0.728, -43.097 -0.604, -42.756 -0.482, -42.414 -0.36, -...>"
      ]
     },
     "execution_count": 46,
     "metadata": {},
     "output_type": "execute_result"
    }
   ],
   "source": [
    "# --- Exemplo 6: B-spline com fator de suavização numérico e grau diferente ---\n",
    "print(\"\\n--- Método: B-spline (Suavização = 0.8, Grau = 2) ---\")\n",
    "zcit_line_bspline_custom"
   ]
  }
 ],
 "metadata": {
  "kernelspec": {
   "display_name": "loczcit-iqr",
   "language": "python",
   "name": "python3"
  },
  "language_info": {
   "codemirror_mode": {
    "name": "ipython",
    "version": 3
   },
   "file_extension": ".py",
   "mimetype": "text/x-python",
   "name": "python",
   "nbconvert_exporter": "python",
   "pygments_lexer": "ipython3",
   "version": "3.13.5"
  }
 },
 "nbformat": 4,
 "nbformat_minor": 5
}
